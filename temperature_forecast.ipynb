{
 "cells": [
  {
   "cell_type": "markdown",
   "id": "7b83f660",
   "metadata": {},
   "source": [
    "<a name='introduction'></a>\n",
    "# Проект \"Прогнозирование температуры звезды\"\n",
    "\n",
    "Предоставлен набор данных о звездах. Имеются следующие их 6 характеристик:\n",
    "- **Temperature (K)**. Абсолютная температура в Кельвинах. ***Целевой показатель***;\n",
    "- **Luminosity(L/Lo)**. Светимость звезды относительно Солнца;\n",
    "- **Radius(R/Ro)**. Радиус звезды относительно радиуса Солнца;\n",
    "- **Absolute magnitude(Mv)**. Физическая величина, характеризующая блеск звезды;\n",
    "- **Star color**. Цвет звезды, определяемый на основе спектрального анализа;\n",
    "- **Star type**. Тип звезды.\n",
    "\n",
    "<br>**Типы звезд** (параметр *Star type*):\n",
    "- 0 - Коричневый карлик;\n",
    "- 1 - Красный карлик;\n",
    "- 2 - Белый карлик;\n",
    "- 3 - Звезды главной последовательности;\n",
    "- 4 - Сверхгигант;\n",
    "- 5 - Гипергигант.\n",
    "\n",
    "<br>В рамках данного проекта необходимо предсказать абсолютную температуру на поверхности звезды в Кельвинах. Существуют различные способы определения абсолютной температуры на поверхности звезды, но заказчик, Обсерватори, надеется, что технологии машинного обучения помогут определить температуру точнее.\n",
    "\n",
    "<br>**План работы**:\n",
    "1. [Импортирование библиотек и файлов](#import)\n",
    "2. [Предобработка и анализ данных](#preprocessing)\n",
    "    - [Общие характеристики](#general)\n",
    "    - [Предобработка отдельных параметров](#parameters)\n",
    "        - [color](#color)\n",
    "        - [type](#type)\n",
    "    - [Исследовательский анализ анализ данных](#eda)\n",
    "        - [Корреляция светимости звезд от их температуры](#l_t_ratio)\n",
    "        - [Корреляция типа звезды и температуры](#t_t_ratio)\n",
    "        - [Корреляция между цветом звезды и температурой](#c_t_ratio)\n",
    "        - [Корреляция между радиусом звезды и температурой](#r_t_ratio)\n",
    "        - [Корреляция между абсолютной звездной величиной и температурой ](#m_t_ratio)\n",
    "        - [Корреляция между абсолютной звездной величиной и типом](#mv_t_ratio)\n",
    "    - [Корреляция phik](#phik_corr)\n",
    "    - [Заключения по исследовательскому анализу данных](#eda_conclusions)\n",
    "3. [Подготовка данных к построению модели](#data_preparation)\n",
    "4. [Построение базовой нейронной сети](#nn_creation)\n",
    "    - [Инициализация необходимых функций](#necessary_functions)\n",
    "    - [Создание базовой нейронной сети](#basic_nn)\n",
    "5. [Улучшение нейронной сети](#nn_improvement)\n",
    "    - [Использование батчей](#batch_usage)\n",
    "    - [Batch Normalization](#batch_norm)\n",
    "    - [Dropout](#dropout)\n",
    "6. [Выводы](#conclusion)"
   ]
  },
  {
   "cell_type": "markdown",
   "id": "corresponding-armstrong",
   "metadata": {
    "ExecuteTime": {
     "end_time": "2022-05-05T04:58:05.692448Z",
     "start_time": "2022-05-05T04:58:05.688565Z"
    }
   },
   "source": [
    "<a name='import'></a>\n",
    "## 1.  Импортирование библиотек и файлов\n",
    "[Введение](#introduction)"
   ]
  },
  {
   "cell_type": "code",
   "execution_count": 1,
   "id": "d0c96a2e",
   "metadata": {},
   "outputs": [
    {
     "name": "stdout",
     "output_type": "stream",
     "text": [
      "Collecting phik\n",
      "  Downloading phik-0.12.3-cp39-cp39-manylinux_2_17_x86_64.manylinux2014_x86_64.whl (679 kB)\n",
      "\u001b[K     |████████████████████████████████| 679 kB 990 kB/s eta 0:00:01\n",
      "\u001b[?25hRequirement already satisfied: matplotlib>=2.2.3 in /opt/conda/lib/python3.9/site-packages (from phik) (3.3.4)\n",
      "Requirement already satisfied: pandas>=0.25.1 in /opt/conda/lib/python3.9/site-packages (from phik) (1.2.4)\n",
      "Requirement already satisfied: joblib>=0.14.1 in /opt/conda/lib/python3.9/site-packages (from phik) (1.1.0)\n",
      "Requirement already satisfied: scipy>=1.5.2 in /opt/conda/lib/python3.9/site-packages (from phik) (1.9.1)\n",
      "Requirement already satisfied: numpy>=1.18.0 in /opt/conda/lib/python3.9/site-packages (from phik) (1.21.1)\n",
      "Requirement already satisfied: pillow>=6.2.0 in /opt/conda/lib/python3.9/site-packages (from matplotlib>=2.2.3->phik) (8.4.0)\n",
      "Requirement already satisfied: cycler>=0.10 in /opt/conda/lib/python3.9/site-packages (from matplotlib>=2.2.3->phik) (0.11.0)\n",
      "Requirement already satisfied: kiwisolver>=1.0.1 in /opt/conda/lib/python3.9/site-packages (from matplotlib>=2.2.3->phik) (1.4.4)\n",
      "Requirement already satisfied: python-dateutil>=2.1 in /opt/conda/lib/python3.9/site-packages (from matplotlib>=2.2.3->phik) (2.8.1)\n",
      "Requirement already satisfied: pyparsing!=2.0.4,!=2.1.2,!=2.1.6,>=2.0.3 in /opt/conda/lib/python3.9/site-packages (from matplotlib>=2.2.3->phik) (2.4.7)\n",
      "Requirement already satisfied: pytz>=2017.3 in /opt/conda/lib/python3.9/site-packages (from pandas>=0.25.1->phik) (2021.1)\n",
      "Requirement already satisfied: six>=1.5 in /opt/conda/lib/python3.9/site-packages (from python-dateutil>=2.1->matplotlib>=2.2.3->phik) (1.16.0)\n",
      "Installing collected packages: phik\n",
      "Successfully installed phik-0.12.3\n",
      "Note: you may need to restart the kernel to use updated packages.\n",
      "Requirement already satisfied: numpy in /opt/conda/lib/python3.9/site-packages (1.21.1)\n",
      "Collecting numpy\n",
      "  Downloading numpy-1.25.0-cp39-cp39-manylinux_2_17_x86_64.manylinux2014_x86_64.whl (17.7 MB)\n",
      "\u001b[K     |████████████████████████████████| 17.7 MB 12.8 MB/s eta 0:00:01   |█████████████████               | 9.3 MB 1.1 MB/s eta 0:00:08\n",
      "\u001b[?25hInstalling collected packages: numpy\n",
      "  Attempting uninstall: numpy\n",
      "    Found existing installation: numpy 1.21.1\n",
      "    Uninstalling numpy-1.21.1:\n",
      "      Successfully uninstalled numpy-1.21.1\n",
      "\u001b[31mERROR: pip's dependency resolver does not currently take into account all the packages that are installed. This behaviour is the source of the following dependency conflicts.\n",
      "scipy 1.9.1 requires numpy<1.25.0,>=1.18.5, but you have numpy 1.25.0 which is incompatible.\n",
      "numba 0.56.0 requires numpy<1.23,>=1.18, but you have numpy 1.25.0 which is incompatible.\u001b[0m\n",
      "Successfully installed numpy-1.25.0\n",
      "Note: you may need to restart the kernel to use updated packages.\n"
     ]
    },
    {
     "name": "stderr",
     "output_type": "stream",
     "text": [
      "/opt/conda/lib/python3.9/site-packages/scipy/__init__.py:155: UserWarning: A NumPy version >=1.18.5 and <1.25.0 is required for this version of SciPy (detected version 1.25.0\n",
      "  warnings.warn(f\"A NumPy version >={np_minversion} and <{np_maxversion}\"\n"
     ]
    }
   ],
   "source": [
    "%pip install phik\n",
    "%pip install numpy --upgrade\n",
    "\n",
    "from math import ceil\n",
    "import matplotlib.pyplot as plt\n",
    "import numpy as np\n",
    "import pandas as pd\n",
    "import torch \n",
    "import torch.nn as nn\n",
    "\n",
    "import phik\n",
    "from phik import report\n",
    "from phik.report import plot_correlation_matrix\n",
    "\n",
    "from sklearn.compose import ColumnTransformer\n",
    "from sklearn.model_selection import train_test_split\n",
    "from sklearn.preprocessing import StandardScaler, OrdinalEncoder"
   ]
  },
  {
   "cell_type": "code",
   "execution_count": 2,
   "id": "da56c3a3",
   "metadata": {
    "scrolled": true
   },
   "outputs": [
    {
     "data": {
      "text/html": [
       "<div>\n",
       "<style scoped>\n",
       "    .dataframe tbody tr th:only-of-type {\n",
       "        vertical-align: middle;\n",
       "    }\n",
       "\n",
       "    .dataframe tbody tr th {\n",
       "        vertical-align: top;\n",
       "    }\n",
       "\n",
       "    .dataframe thead th {\n",
       "        text-align: right;\n",
       "    }\n",
       "</style>\n",
       "<table border=\"1\" class=\"dataframe\">\n",
       "  <thead>\n",
       "    <tr style=\"text-align: right;\">\n",
       "      <th></th>\n",
       "      <th>Temperature (K)</th>\n",
       "      <th>Luminosity(L/Lo)</th>\n",
       "      <th>Radius(R/Ro)</th>\n",
       "      <th>Absolute magnitude(Mv)</th>\n",
       "      <th>Star type</th>\n",
       "      <th>Star color</th>\n",
       "    </tr>\n",
       "  </thead>\n",
       "  <tbody>\n",
       "    <tr>\n",
       "      <th>0</th>\n",
       "      <td>3068</td>\n",
       "      <td>0.002400</td>\n",
       "      <td>0.1700</td>\n",
       "      <td>16.12</td>\n",
       "      <td>0</td>\n",
       "      <td>Red</td>\n",
       "    </tr>\n",
       "    <tr>\n",
       "      <th>1</th>\n",
       "      <td>3042</td>\n",
       "      <td>0.000500</td>\n",
       "      <td>0.1542</td>\n",
       "      <td>16.60</td>\n",
       "      <td>0</td>\n",
       "      <td>Red</td>\n",
       "    </tr>\n",
       "    <tr>\n",
       "      <th>2</th>\n",
       "      <td>2600</td>\n",
       "      <td>0.000300</td>\n",
       "      <td>0.1020</td>\n",
       "      <td>18.70</td>\n",
       "      <td>0</td>\n",
       "      <td>Red</td>\n",
       "    </tr>\n",
       "    <tr>\n",
       "      <th>3</th>\n",
       "      <td>2800</td>\n",
       "      <td>0.000200</td>\n",
       "      <td>0.1600</td>\n",
       "      <td>16.65</td>\n",
       "      <td>0</td>\n",
       "      <td>Red</td>\n",
       "    </tr>\n",
       "    <tr>\n",
       "      <th>4</th>\n",
       "      <td>1939</td>\n",
       "      <td>0.000138</td>\n",
       "      <td>0.1030</td>\n",
       "      <td>20.06</td>\n",
       "      <td>0</td>\n",
       "      <td>Red</td>\n",
       "    </tr>\n",
       "  </tbody>\n",
       "</table>\n",
       "</div>"
      ],
      "text/plain": [
       "   Temperature (K)  Luminosity(L/Lo)  Radius(R/Ro)  Absolute magnitude(Mv)  \\\n",
       "0             3068          0.002400        0.1700                   16.12   \n",
       "1             3042          0.000500        0.1542                   16.60   \n",
       "2             2600          0.000300        0.1020                   18.70   \n",
       "3             2800          0.000200        0.1600                   16.65   \n",
       "4             1939          0.000138        0.1030                   20.06   \n",
       "\n",
       "   Star type Star color  \n",
       "0          0        Red  \n",
       "1          0        Red  \n",
       "2          0        Red  \n",
       "3          0        Red  \n",
       "4          0        Red  "
      ]
     },
     "execution_count": 2,
     "metadata": {},
     "output_type": "execute_result"
    }
   ],
   "source": [
    "df_stars = pd.read_csv('/datasets/6_class.csv', index_col=0)\n",
    "df_stars.head()"
   ]
  },
  {
   "cell_type": "markdown",
   "id": "simple-subdivision",
   "metadata": {},
   "source": [
    "<a name='preprocessing'></a>\n",
    "## 2. Предобработка и анализ данных\n",
    "[Введение](#introduction)\n",
    "\n",
    "<br>План предобработки и анализа данных:\n",
    "1. [Общие характеристики](#general)\n",
    "2. [Предобработка отдельных параметров](#parameters)\n",
    "3. [Исследовательский анализ анализ данных](#eda)\n",
    "4. [Корреляция phik](#phik_corr)"
   ]
  },
  {
   "cell_type": "markdown",
   "id": "cf3b61ce",
   "metadata": {},
   "source": [
    "<a name='general'></a>\n",
    "### 2. 1. Общие характеристики\n",
    "[Введение](#introduction)"
   ]
  },
  {
   "cell_type": "code",
   "execution_count": 3,
   "id": "278bec14",
   "metadata": {},
   "outputs": [
    {
     "name": "stdout",
     "output_type": "stream",
     "text": [
      "Характеристики объектов: ['Temperature (K)' 'Luminosity(L/Lo)' 'Radius(R/Ro)'\n",
      " 'Absolute magnitude(Mv)' 'Star type' 'Star color']\n",
      "\n",
      "Размер выборки: (240, 6)\n"
     ]
    }
   ],
   "source": [
    "print('Характеристики объектов:', df_stars.columns.values)\n",
    "print('\\nРазмер выборки:', df_stars.shape)"
   ]
  },
  {
   "cell_type": "code",
   "execution_count": 4,
   "id": "412bc965",
   "metadata": {},
   "outputs": [
    {
     "data": {
      "text/plain": [
       "Temperature (K)           0\n",
       "Luminosity(L/Lo)          0\n",
       "Radius(R/Ro)              0\n",
       "Absolute magnitude(Mv)    0\n",
       "Star type                 0\n",
       "Star color                0\n",
       "dtype: int64"
      ]
     },
     "execution_count": 4,
     "metadata": {},
     "output_type": "execute_result"
    }
   ],
   "source": [
    "# Пропущенные значения\n",
    "df_stars.isna().sum()"
   ]
  },
  {
   "cell_type": "code",
   "execution_count": 5,
   "id": "23999f9a",
   "metadata": {},
   "outputs": [
    {
     "data": {
      "text/html": [
       "<div>\n",
       "<style scoped>\n",
       "    .dataframe tbody tr th:only-of-type {\n",
       "        vertical-align: middle;\n",
       "    }\n",
       "\n",
       "    .dataframe tbody tr th {\n",
       "        vertical-align: top;\n",
       "    }\n",
       "\n",
       "    .dataframe thead th {\n",
       "        text-align: right;\n",
       "    }\n",
       "</style>\n",
       "<table border=\"1\" class=\"dataframe\">\n",
       "  <thead>\n",
       "    <tr style=\"text-align: right;\">\n",
       "      <th></th>\n",
       "      <th>Temperature (K)</th>\n",
       "      <th>Luminosity(L/Lo)</th>\n",
       "      <th>Radius(R/Ro)</th>\n",
       "      <th>Absolute magnitude(Mv)</th>\n",
       "      <th>Star type</th>\n",
       "    </tr>\n",
       "  </thead>\n",
       "  <tbody>\n",
       "    <tr>\n",
       "      <th>count</th>\n",
       "      <td>240.000000</td>\n",
       "      <td>240.000000</td>\n",
       "      <td>240.000000</td>\n",
       "      <td>240.000000</td>\n",
       "      <td>240.000000</td>\n",
       "    </tr>\n",
       "    <tr>\n",
       "      <th>mean</th>\n",
       "      <td>10497.462500</td>\n",
       "      <td>107188.361635</td>\n",
       "      <td>237.157781</td>\n",
       "      <td>4.382396</td>\n",
       "      <td>2.500000</td>\n",
       "    </tr>\n",
       "    <tr>\n",
       "      <th>std</th>\n",
       "      <td>9552.425037</td>\n",
       "      <td>179432.244940</td>\n",
       "      <td>517.155763</td>\n",
       "      <td>10.532512</td>\n",
       "      <td>1.711394</td>\n",
       "    </tr>\n",
       "    <tr>\n",
       "      <th>min</th>\n",
       "      <td>1939.000000</td>\n",
       "      <td>0.000080</td>\n",
       "      <td>0.008400</td>\n",
       "      <td>-11.920000</td>\n",
       "      <td>0.000000</td>\n",
       "    </tr>\n",
       "    <tr>\n",
       "      <th>25%</th>\n",
       "      <td>3344.250000</td>\n",
       "      <td>0.000865</td>\n",
       "      <td>0.102750</td>\n",
       "      <td>-6.232500</td>\n",
       "      <td>1.000000</td>\n",
       "    </tr>\n",
       "    <tr>\n",
       "      <th>50%</th>\n",
       "      <td>5776.000000</td>\n",
       "      <td>0.070500</td>\n",
       "      <td>0.762500</td>\n",
       "      <td>8.313000</td>\n",
       "      <td>2.500000</td>\n",
       "    </tr>\n",
       "    <tr>\n",
       "      <th>75%</th>\n",
       "      <td>15055.500000</td>\n",
       "      <td>198050.000000</td>\n",
       "      <td>42.750000</td>\n",
       "      <td>13.697500</td>\n",
       "      <td>4.000000</td>\n",
       "    </tr>\n",
       "    <tr>\n",
       "      <th>max</th>\n",
       "      <td>40000.000000</td>\n",
       "      <td>849420.000000</td>\n",
       "      <td>1948.500000</td>\n",
       "      <td>20.060000</td>\n",
       "      <td>5.000000</td>\n",
       "    </tr>\n",
       "  </tbody>\n",
       "</table>\n",
       "</div>"
      ],
      "text/plain": [
       "       Temperature (K)  Luminosity(L/Lo)  Radius(R/Ro)  \\\n",
       "count       240.000000        240.000000    240.000000   \n",
       "mean      10497.462500     107188.361635    237.157781   \n",
       "std        9552.425037     179432.244940    517.155763   \n",
       "min        1939.000000          0.000080      0.008400   \n",
       "25%        3344.250000          0.000865      0.102750   \n",
       "50%        5776.000000          0.070500      0.762500   \n",
       "75%       15055.500000     198050.000000     42.750000   \n",
       "max       40000.000000     849420.000000   1948.500000   \n",
       "\n",
       "       Absolute magnitude(Mv)   Star type  \n",
       "count              240.000000  240.000000  \n",
       "mean                 4.382396    2.500000  \n",
       "std                 10.532512    1.711394  \n",
       "min                -11.920000    0.000000  \n",
       "25%                 -6.232500    1.000000  \n",
       "50%                  8.313000    2.500000  \n",
       "75%                 13.697500    4.000000  \n",
       "max                 20.060000    5.000000  "
      ]
     },
     "execution_count": 5,
     "metadata": {},
     "output_type": "execute_result"
    }
   ],
   "source": [
    "# Рассмотрим разброс значений\n",
    "df_stars.describe()"
   ]
  },
  {
   "cell_type": "code",
   "execution_count": 6,
   "id": "49e8aa65",
   "metadata": {},
   "outputs": [],
   "source": [
    "# Изменим имеющиеся названия столбцов путем упрощения\n",
    "df_stars.columns = ['temp', 'luminosity', 'radius', 'magnitude', 'type', 'color']"
   ]
  },
  {
   "cell_type": "markdown",
   "id": "29494260",
   "metadata": {},
   "source": [
    "<a name='parameters'></a>\n",
    "### 2. 2. Предобработка отдельных параметров\n",
    "[Введение](#introduction)"
   ]
  },
  {
   "cell_type": "markdown",
   "id": "d8ead70a",
   "metadata": {},
   "source": [
    "<a name='color'></a>\n",
    "#### 2. 2. 1. color"
   ]
  },
  {
   "cell_type": "code",
   "execution_count": 7,
   "id": "86575d96",
   "metadata": {},
   "outputs": [
    {
     "name": "stdout",
     "output_type": "stream",
     "text": [
      "Уникальные значения параметра 'color' ДО предобработки:\n"
     ]
    },
    {
     "data": {
      "text/plain": [
       "array(['Red', 'Blue White', 'White', 'Yellowish White', 'Blue white',\n",
       "       'Pale yellow orange', 'Blue', 'Blue-white', 'Whitish',\n",
       "       'yellow-white', 'Orange', 'White-Yellow', 'white', 'Blue ',\n",
       "       'yellowish', 'Yellowish', 'Orange-Red', 'Blue white ',\n",
       "       'Blue-White'], dtype=object)"
      ]
     },
     "execution_count": 7,
     "metadata": {},
     "output_type": "execute_result"
    }
   ],
   "source": [
    "print(\"Уникальные значения параметра 'color' ДО предобработки:\")\n",
    "df_stars['color'].unique()"
   ]
  },
  {
   "cell_type": "markdown",
   "id": "4e6a8177",
   "metadata": {},
   "source": [
    "Заметно, что многие уникальные значения по сути идентичны, но различаются по написанию. Приведем их к единому виду: если предполагается наличие двух цветов, то они будут отображаться через пробел с заглавных букв - \"Blue White\". Значения по типу \"whitish\", \"yellowish\" и т. д. поменяем на \"white\", \"yellow\" и другие соответственно."
   ]
  },
  {
   "cell_type": "code",
   "execution_count": 8,
   "id": "76426be2",
   "metadata": {},
   "outputs": [],
   "source": [
    "# Blue\n",
    "df_stars.loc[\n",
    "    df_stars['color'] == 'Blue ',\n",
    "    'color'\n",
    "] = 'Blue'\n",
    "\n",
    "# Blue and white\n",
    "df_stars.loc[\n",
    "    (df_stars['color'] == 'Blue white') | \n",
    "    (df_stars['color'] == 'Blue-white') |\n",
    "    (df_stars['color'] == 'Blue-White') |\n",
    "    (df_stars['color'] == 'Blue white '), \n",
    "    'color'\n",
    "] = 'Blue White'\n",
    "\n",
    "# White\n",
    "df_stars.loc[\n",
    "    (df_stars['color'] == 'white'),\n",
    "    'color'\n",
    "] = 'White'\n",
    "\n",
    "# Whitish\n",
    "df_stars.loc[\n",
    "    (df_stars['color'] == 'whitish'),\n",
    "    'color'\n",
    "] = 'Whitish'\n",
    "\n",
    "# Yellowish\n",
    "df_stars.loc[\n",
    "    (df_stars['color'] == 'yellowish'),\n",
    "    'color'\n",
    "] = 'Yellowish'\n",
    "\n",
    "# Yellow and white\n",
    "df_stars.loc[\n",
    "    (df_stars['color'] == 'Yellowish White') |\n",
    "    (df_stars['color'] == 'yellow-white') | \n",
    "    (df_stars['color'] == 'White-Yellow'),\n",
    "    'color'\n",
    "] = 'Yellow White'\n",
    "\n",
    "# Yellow and orange\n",
    "df_stars.loc[\n",
    "    df_stars['color'] == 'Pale yellow orange',\n",
    "    'color'\n",
    "] = 'Yellow Orange'\n",
    "\n",
    "# Orange and red\n",
    "df_stars.loc[\n",
    "    df_stars['color'] == 'Orange-Red',\n",
    "    'color'\n",
    "] = 'Orange Red'"
   ]
  },
  {
   "cell_type": "code",
   "execution_count": 9,
   "id": "108035b1",
   "metadata": {},
   "outputs": [
    {
     "name": "stdout",
     "output_type": "stream",
     "text": [
      "Уникальные значения параметры \"color\" после предобработки:\n"
     ]
    },
    {
     "data": {
      "text/plain": [
       "array(['Red', 'Blue White', 'White', 'Yellow White', 'Yellow Orange',\n",
       "       'Blue', 'Whitish', 'Orange', 'Yellowish', 'Orange Red'],\n",
       "      dtype=object)"
      ]
     },
     "execution_count": 9,
     "metadata": {},
     "output_type": "execute_result"
    }
   ],
   "source": [
    "print('Уникальные значения параметры \"color\" после предобработки:')\n",
    "df_stars['color'].unique()"
   ]
  },
  {
   "cell_type": "markdown",
   "id": "c5de9ce7",
   "metadata": {},
   "source": [
    "<a name='type'></a>\n",
    "#### 2. 2. 2. type"
   ]
  },
  {
   "cell_type": "code",
   "execution_count": 10,
   "id": "3b95f865",
   "metadata": {},
   "outputs": [
    {
     "data": {
      "text/plain": [
       "array([0, 1, 2, 3, 4, 5])"
      ]
     },
     "execution_count": 10,
     "metadata": {},
     "output_type": "execute_result"
    }
   ],
   "source": [
    "# Уникальные значения параметра 'type'\n",
    "df_stars['type'].unique()"
   ]
  },
  {
   "cell_type": "code",
   "execution_count": 11,
   "id": "17b8c526",
   "metadata": {},
   "outputs": [
    {
     "data": {
      "text/plain": [
       "0    40\n",
       "1    40\n",
       "2    40\n",
       "3    40\n",
       "4    40\n",
       "5    40\n",
       "Name: type, dtype: int64"
      ]
     },
     "execution_count": 11,
     "metadata": {},
     "output_type": "execute_result"
    }
   ],
   "source": [
    "# Посмотрим распределение типов звезд\n",
    "df_stars['type'].value_counts()"
   ]
  },
  {
   "cell_type": "markdown",
   "id": "ca47c3d2",
   "metadata": {},
   "source": [
    "По параметру 'type' аномальных значений выявлено не было."
   ]
  },
  {
   "cell_type": "markdown",
   "id": "05dd1456",
   "metadata": {},
   "source": [
    "<a name='eda'></a>\n",
    "### 2. 3. Исследовательский анализ анализ данных\n",
    "[Введение](#introduction)\n",
    "\n",
    "<br>Найдем корреляцию между следующими параметрами:\n",
    "1. [Корреляция светимости звезд от их температуры](#l_t_ratio)\n",
    "2. [Корреляция типа звезды и температуры](#t_t_ratio)\n",
    "3. [Корреляция между цветом звезды и температурой](#c_t_ratio)\n",
    "4. [Корреляция между радиусом звезды и температурой](#r_t_ratio)\n",
    "5. [Корреляция между абсолютной звездной величиной и температурой](#m_t_ratio)\n",
    "6. [Корреляция между абсолютной звездной величиной и типом](#mv_t_ratio)"
   ]
  },
  {
   "cell_type": "code",
   "execution_count": 12,
   "id": "6b807a6c",
   "metadata": {},
   "outputs": [],
   "source": [
    "# Функция для создания диаграммы разброса\n",
    "def create_scatter_plot(x, y, xname, yname, color, logx=False, logy=False, x_rotation=0):\n",
    "    df_stars.plot(\n",
    "        x=x,\n",
    "        y=y,\n",
    "        color=color,\n",
    "        figsize=(7, 7),\n",
    "        fontsize=12,\n",
    "        grid=True,\n",
    "        kind='scatter',\n",
    "        logx=logx,\n",
    "        logy=logy\n",
    "    )\n",
    "\n",
    "    plt.title(f'Корреляция между \"{xname}\" и \"{yname}\"', fontsize=16)\n",
    "    plt.xlabel(f'{xname}', fontsize=14)\n",
    "    plt.ylabel(f'{yname}', fontsize=14)\n",
    "    plt.xticks(rotation=x_rotation)\n",
    "    plt.show()"
   ]
  },
  {
   "cell_type": "markdown",
   "id": "7a93e03b",
   "metadata": {},
   "source": [
    "<a name='l_t_ratio'></a>\n",
    "#### 2. 3. 1. Корреляция светимости звезд от их температуры\n",
    "[Введение](#introduction)"
   ]
  },
  {
   "cell_type": "code",
   "execution_count": 13,
   "id": "6dd77d62",
   "metadata": {},
   "outputs": [
    {
     "data": {
      "image/png": "[encoded data removed]",
      "text/plain": [
       "<Figure size 504x504 with 1 Axes>"
      ]
     },
     "metadata": {
      "needs_background": "light"
     },
     "output_type": "display_data"
    }
   ],
   "source": [
    "create_scatter_plot(\n",
    "    x='luminosity',\n",
    "    y='temp',\n",
    "    xname='Светимость',\n",
    "    yname='Температура',\n",
    "    color='orange',\n",
    "    logx=True\n",
    ")"
   ]
  },
  {
   "cell_type": "markdown",
   "id": "33f92d35",
   "metadata": {},
   "source": [
    "На графике можно заметить разделение объектов на 3 части: 1) температура находится в районе 10^(-3) и менее, а разброс светимости - от 7 500 до 25 000; 2) начинается слева снизу и идет по впуклой парабале направо наверх; 3) Температура превышает 10^(5), а диапазон светимости - от 4000 до 40 000.\n",
    "\n",
    "Ввиду этого прослеживается некая связь между светимостью и температурой, однако, вероятно, это зависит и от других параметров, учитывая разделение графика на 3 части."
   ]
  },
  {
   "cell_type": "markdown",
   "id": "9bca2341",
   "metadata": {},
   "source": [
    "<a name='t_t_ratio'></a>\n",
    "#### 2. 3. 2. Корреляция типа звезды и температуры\n",
    "[Введение](#introduction)"
   ]
  },
  {
   "cell_type": "code",
   "execution_count": 14,
   "id": "c35aaed0",
   "metadata": {},
   "outputs": [
    {
     "data": {
      "image/png": "[encoded data removed]",
      "text/plain": [
       "<Figure size 504x504 with 1 Axes>"
      ]
     },
     "metadata": {
      "needs_background": "light"
     },
     "output_type": "display_data"
    }
   ],
   "source": [
    "create_scatter_plot(\n",
    "    x='type', \n",
    "    y='temp',\n",
    "    xname='Тип',\n",
    "    yname='Температура',\n",
    "    color='blue'\n",
    ")"
   ]
  },
  {
   "cell_type": "markdown",
   "id": "d8bd02b4",
   "metadata": {},
   "source": [
    "Согласно графику для типов звезд 0 и 1 температура менее 5 000 Кельвинов. Для второго типа она находится в диапазоне от 7 500 до 25 000 Кельвинов, а для остальных типов варьируется в диапазоне от менее 5 000 Кельвинов и до 40 000. Тем не менее, по крайне мере для первых трех типов звезд: \"Коричневых\", \"Красных\" и \"Белых\" карликов - видна корреляция между их типом и температурой."
   ]
  },
  {
   "cell_type": "markdown",
   "id": "813ba52d",
   "metadata": {},
   "source": [
    "<a name='c_t_ratio'></a>\n",
    "#### 2. 3. 3. Корреляция между цветом звезды и температурой\n",
    "[Введение](#introduction)"
   ]
  },
  {
   "cell_type": "code",
   "execution_count": 15,
   "id": "7c2cbfec",
   "metadata": {},
   "outputs": [
    {
     "data": {
      "image/png": "[encoded data removed]",
      "text/plain": [
       "<Figure size 504x504 with 1 Axes>"
      ]
     },
     "metadata": {
      "needs_background": "light"
     },
     "output_type": "display_data"
    }
   ],
   "source": [
    "create_scatter_plot(\n",
    "    x='color',\n",
    "    y='temp',\n",
    "    xname='Цвет',\n",
    "    yname='Температура',\n",
    "    color='green',\n",
    "    x_rotation=45\n",
    ")"
   ]
  },
  {
   "cell_type": "code",
   "execution_count": 16,
   "id": "d2a566bd",
   "metadata": {},
   "outputs": [
    {
     "data": {
      "text/plain": [
       "Red              112\n",
       "Blue              56\n",
       "Blue White        41\n",
       "Yellow White      12\n",
       "White             10\n",
       "Yellowish          3\n",
       "Orange             2\n",
       "Whitish            2\n",
       "Yellow Orange      1\n",
       "Orange Red         1\n",
       "Name: color, dtype: int64"
      ]
     },
     "execution_count": 16,
     "metadata": {},
     "output_type": "execute_result"
    }
   ],
   "source": [
    "# Количество звезд по цвету\n",
    "df_stars['color'].value_counts()"
   ]
  },
  {
   "cell_type": "markdown",
   "id": "a59d050a",
   "metadata": {},
   "source": [
    "В значительной степени зависит температура звезды от ее цвета. Так, наименьший разброс в температурах между звездами таких цветов, как: красный, оранжево-красный, оранжевый, желтый, желто-оранжевый, желто-белый и белый. Однако, в этом плане необходимо учитывать их количество в выборке. Крайне маленькая выборка приходится на звезды желтого, оранжевого, оранжево-красного и желто-оранжевого цветов (не более 3). \n",
    "\n",
    "Ввиду этого, можно скорее проследить корреляцию между теми звездами, цвета которых больше представлены в выборке, и температура которых не сильно варьируется. К таким можно отнести: \n",
    "- Красный (112 объектов). Температура: от около 2 500 до 7 500;\n",
    "- Белый (12 объектов). Температура: от около 7 500 до 15 000;\n",
    "- Желто-белый (12 объектов). Температура: от 5 000 до примерно 13 000."
   ]
  },
  {
   "cell_type": "markdown",
   "id": "2431f1c0",
   "metadata": {},
   "source": [
    "<a name='r_t_ratio'></a>\n",
    "#### 2. 3. 4. Корреляция между радиусом звезды и температурой\n",
    "[Введение](#introduction)"
   ]
  },
  {
   "cell_type": "code",
   "execution_count": 17,
   "id": "63f75bed",
   "metadata": {
    "scrolled": false
   },
   "outputs": [
    {
     "data": {
      "image/png": "[encoded data removed]",
      "text/plain": [
       "<Figure size 504x504 with 1 Axes>"
      ]
     },
     "metadata": {
      "needs_background": "light"
     },
     "output_type": "display_data"
    }
   ],
   "source": [
    "create_scatter_plot(\n",
    "    x='radius',\n",
    "    y='temp',\n",
    "    xname='Радиус',\n",
    "    yname='Температура',\n",
    "    color='lightcoral',\n",
    "    logx=True\n",
    ")"
   ]
  },
  {
   "cell_type": "markdown",
   "id": "b392398f",
   "metadata": {},
   "source": [
    "В соответствии с графиком можно заметить, что корреляция между радиусом звезды и ее температурой не столь четко прослеживается. Однако, звезды, чей радиус находится в районе от 0.1 до 1 (относительно радиуса Солнца), имеют примерно одинаковую температуру в районе около 3 500 - 4 000 Кельвинов. В остальных же случаях наблюдается сильный разброс значений."
   ]
  },
  {
   "cell_type": "markdown",
   "id": "2ae45f7c",
   "metadata": {},
   "source": [
    "<a name='m_t_ratio'></a>\n",
    "#### 2. 3. 5. Корреляция между абсолютной звездной величиной и температурой \n",
    "[Введение](#introduction)"
   ]
  },
  {
   "cell_type": "code",
   "execution_count": 18,
   "id": "3c6c3dae",
   "metadata": {},
   "outputs": [
    {
     "data": {
      "image/png": "[encoded data removed]",
      "text/plain": [
       "<Figure size 504x504 with 1 Axes>"
      ]
     },
     "metadata": {
      "needs_background": "light"
     },
     "output_type": "display_data"
    }
   ],
   "source": [
    "create_scatter_plot(\n",
    "    x='magnitude',\n",
    "    y='temp',\n",
    "    xname='Абсолютная звездная величина',\n",
    "    yname='Температура',\n",
    "    color='c'\n",
    ")"
   ]
  },
  {
   "cell_type": "markdown",
   "id": "78943b2d",
   "metadata": {},
   "source": [
    "Заметно, что есть разброс объектов, температура которых не превышает и 5 000 Кельвинов, но абсолютная звездная величина (блеск) разнится от менее -10 до 20. Также виден график ветви параболы в промежутке от -5 до 10 абсолютной звездной величины."
   ]
  },
  {
   "cell_type": "markdown",
   "id": "f56fbb81",
   "metadata": {},
   "source": [
    "<a name='mv_t_ratio'></a>\n",
    "#### 2. 3. 6. Корреляция между абсолютной звездной величиной и типом\n",
    "[Введение](#introduction)"
   ]
  },
  {
   "cell_type": "code",
   "execution_count": 19,
   "id": "9ed9d340",
   "metadata": {},
   "outputs": [
    {
     "data": {
      "image/png": "[encoded data removed]",
      "text/plain": [
       "<Figure size 504x504 with 1 Axes>"
      ]
     },
     "metadata": {
      "needs_background": "light"
     },
     "output_type": "display_data"
    }
   ],
   "source": [
    "create_scatter_plot(\n",
    "    x='magnitude',\n",
    "    y='type',\n",
    "    xname='Абсолютная звездная величина',\n",
    "    yname='Тип',\n",
    "    color='m'\n",
    ")"
   ]
  },
  {
   "cell_type": "markdown",
   "id": "5df7efdb",
   "metadata": {},
   "source": [
    "Отчетлива видна корреляция между типом звезды и ее абсолютной звездной величной. Получается, что во многих случаях блеск звезды коррелирует с ее типом, но это не относится к 1 и 2 типам - Красным и белым карликам, - значения абсолютной звездной величины которых находятся в районе от 10 до 15."
   ]
  },
  {
   "cell_type": "markdown",
   "id": "51fe2f52",
   "metadata": {},
   "source": [
    "<a name='phik_corr'></a>\n",
    "### 2. 4. Корреляция phik\n",
    "[Введение](#introduction)"
   ]
  },
  {
   "cell_type": "code",
   "execution_count": 20,
   "id": "4e9fdf69",
   "metadata": {},
   "outputs": [
    {
     "name": "stdout",
     "output_type": "stream",
     "text": [
      "interval columns not set, guessing: ['temp', 'luminosity', 'radius', 'magnitude', 'type']\n"
     ]
    },
    {
     "data": {
      "image/png": "[encoded data removed]",
      "text/plain": [
       "<Figure size 504x360 with 2 Axes>"
      ]
     },
     "metadata": {
      "needs_background": "light"
     },
     "output_type": "display_data"
    }
   ],
   "source": [
    "phik_overview = df_stars.phik_matrix()\n",
    "phik_overview.round(2)\n",
    "\n",
    "plot_correlation_matrix(\n",
    "    phik_overview.values,\n",
    "    x_labels=phik_overview.columns,\n",
    "    y_labels=phik_overview.index,\n",
    "    vmin=0,\n",
    "    vmax=1\n",
    ")"
   ]
  },
  {
   "cell_type": "markdown",
   "id": "7091b7f3",
   "metadata": {
    "scrolled": true
   },
   "source": [
    "Примечательно, что заметно довольно высокие корреляции между отдельными параметрами. Более того, низкая корреляция - это скорее исключение. Наибольшая корреляция наблюдается между типом звезды и ее абсолютной звездной величиной - 0.92. С целевым показателем наибольшая взаимосвязь наблюдается также с абсолютной звездной величиной и цветом звезды: 0.71 и 0.68 соответственно. С типом звезды и светимостью - 0.60 и 0.56 соответственно. Можно сделать вывод, что меньше всего температура зависит от радиуса, т. к. коэффициент корреляции составляет 0.24, однако он не равен нулю, поэтому об отсутствии полной взаимосвязи речи не идет."
   ]
  },
  {
   "cell_type": "markdown",
   "id": "024c4549",
   "metadata": {},
   "source": [
    "<a name='eda_conclusions'></a>\n",
    "### 2. 5. Заключения по исследовательскому анализу данных\n",
    "[Введение](#introduction)"
   ]
  },
  {
   "cell_type": "markdown",
   "id": "df9a6986",
   "metadata": {},
   "source": [
    "На основании проведенного исследовательского анализа данных можно сделать несколько выводов:\n",
    "1. **Светимость и температура**. Наблюдается небольшая корреляция. Объекты разделены на 3 части на графике, поэтому можно заключить, что температура звезды также зависит и от других параметров;\n",
    "2. **Тип звезды и температура**. Коричневые и красные карлики - < 5 000 Кельвинов, Белые карлики - от 7 500 до 25 000, иные типы - значения температур значительно варьируются;\n",
    "3. **Цвет звезды и температура**. Наблюдается небольшая степень взаимозависимости. Красный цвет: от 2 500 до 7 500 Кельвинов; Белый: 7 500 - 15 000; Желто-белый: 5 000 - 13 000. Для таких цветов, как: оранжевый, желтый, оранжево-красный, желто-оранжевый количество объектов недостаточно для определения закономерности; \n",
    "4. **Радиус звезды и температура**. Не столь сильная корреляция. Примерно одинаковая температура для звезд, чей радиус находится в диапазоне от 0.1 до 1: 3 500 - 4 000 Кельвинов.\n",
    "5. **Абсолютная звездная величина и температура**. Не прослеживается четкой закономерности, но видна ветвь параболы на графике в диапазоне от -5 до 10 абсолютной звездной величины;\n",
    "6. **Абсолютная звездная величина и тип звезды**. Четкая корреляция, кроме красных и белых карликов - значения абсолютной звездной величины находятся в диапазоне от 10 до 15;\n",
    "7. **Общая корреляция между параметрами (phik)**. Наибольший коэффициент корреляции - абсолютная звездная величина и тип звезды: 0.92. Наибольшая взаимосвязь с температурой: абсолютная звездная величина и цвет - 0.71 и 0.68 соответственно. С типом и светимостью - 0.60 и 0.56 соответственно. Радиус - 0.24."
   ]
  },
  {
   "cell_type": "markdown",
   "id": "2cb412e3",
   "metadata": {},
   "source": [
    "<a name='data_preparation'></a>\n",
    "## 3. Подготовка данных к построению модели\n",
    "[Введение](#introduction)"
   ]
  },
  {
   "cell_type": "code",
   "execution_count": 21,
   "id": "0f9416fc",
   "metadata": {
    "scrolled": true
   },
   "outputs": [],
   "source": [
    "pd.options.mode.chained_assignment = None\n",
    "\n",
    "numeric_cols = ['luminosity', 'radius', 'magnitude']\n",
    "categorical_cols = ['color', 'type']\n",
    "\n",
    "# Разбиение данных на независимые и целевую переменные\n",
    "X = df_stars.drop('temp', axis=1)\n",
    "y = df_stars['temp']\n",
    "\n",
    "X = pd.get_dummies(X, columns=categorical_cols, drop_first=True)\n",
    "\n",
    "# Разбиение объектов на тренировочну и тестовую выборки\n",
    "X_train, X_test, y_train, y_test = train_test_split(\n",
    "    X, y, random_state=42, test_size=0.25\n",
    ")\n",
    "\n",
    "scaler = StandardScaler()\n",
    "scaler.fit(X_train[numeric_cols])\n",
    "\n",
    "X_train[numeric_cols] = scaler.transform(X_train[numeric_cols])\n",
    "X_test[numeric_cols] = scaler.transform(X_test[numeric_cols])\n",
    "\n",
    "X_train = torch.FloatTensor(X_train.values)\n",
    "X_test = torch.FloatTensor(X_test.values)\n",
    "y_train = torch.FloatTensor(y_train.values)\n",
    "y_test = torch.FloatTensor(y_test.values)"
   ]
  },
  {
   "cell_type": "markdown",
   "id": "funded-electric",
   "metadata": {},
   "source": [
    "<a name='nn_creation'></a>\n",
    "## 4. Построение базовой нейронной сети\n",
    "[Введение](#introduction)\n",
    "\n",
    "<br>План данной главы работы:\n",
    "1. [Инициализация необходимых функций](#necessary_functions)\n",
    "2. [Создание базовой нейронной сети](#basic_nn)"
   ]
  },
  {
   "cell_type": "markdown",
   "id": "1fcc1fa0",
   "metadata": {},
   "source": [
    "<a name='necessary_functions'></a>\n",
    "### 4. 1. Инициализация необходимых функций\n",
    "[Введение](#introduction)"
   ]
  },
  {
   "cell_type": "markdown",
   "id": "e8107eed",
   "metadata": {},
   "source": [
    "Первоначально определим функции для:\n",
    "1. Обучения модели без использования батчей;\n",
    "2. Обучения модели с использованием батчей;\n",
    "3. Тестирования модели;\n",
    "4. Создания графика с отображением спрогнозированных и действительных значений температур звезд."
   ]
  },
  {
   "cell_type": "code",
   "execution_count": 22,
   "id": "29a2b8ca",
   "metadata": {},
   "outputs": [],
   "source": [
    "# Функция обучения модели\n",
    "def model_training(train_x, train_y):\n",
    "    optimizer.zero_grad()\n",
    "    preds = net.forward(train_x).flatten()\n",
    "    \n",
    "    # L2-Регуляризация весов\n",
    "    l2_lambda = 0.001\n",
    "    l2_norm = sum(p.pow(2.0).sum() for p in net.parameters())\n",
    "    loss_value = torch.sqrt(loss(preds, train_y)) + l2_lambda * l2_norm\n",
    "    loss_value.backward()\n",
    "\n",
    "    optimizer.step()"
   ]
  },
  {
   "cell_type": "code",
   "execution_count": 23,
   "id": "bb6cd282",
   "metadata": {},
   "outputs": [],
   "source": [
    "# Функция тестирования модели\n",
    "def model_testing(epoch):\n",
    "    net.eval()\n",
    "    test_preds = net.forward(X_test).flatten()\n",
    "    print('Epoch #:', epoch)\n",
    "    print('RMSE =', torch.sqrt(loss(test_preds, y_test)).item(), '\\n')\n",
    "    return test_preds"
   ]
  },
  {
   "cell_type": "code",
   "execution_count": 24,
   "id": "89acfe7d",
   "metadata": {},
   "outputs": [],
   "source": [
    "# Функция для обучения с использованием батчей\n",
    "def batch_training(epochs_num, epoch_test):\n",
    "    batch_size = 100\n",
    "    num_batches = ceil(len(X_train) / batch_size)\n",
    "\n",
    "    for epoch in range(epochs_num):\n",
    "        order = np.random.permutation(len(X_train))\n",
    "        for batch_idx in range(num_batches):\n",
    "            start_idx = batch_idx * batch_size\n",
    "            \n",
    "            optimizer.zero_grad()\n",
    "\n",
    "            batch_indexes = order[start_idx:start_idx + batch_size]\n",
    "            X_batch = X_train[batch_indexes]\n",
    "            y_batch = y_train[batch_indexes]\n",
    "\n",
    "            model_training(X_batch, y_batch)\n",
    "        if epoch % epoch_test == 0:\n",
    "            y_pred = model_testing(epoch)\n",
    "    return y_pred"
   ]
  },
  {
   "cell_type": "code",
   "execution_count": 41,
   "id": "cf8c61b6",
   "metadata": {},
   "outputs": [],
   "source": [
    "# Функция для отображения графика \"Факт-Прогноз\"\n",
    "def show_graph(y_pred):\n",
    "    start = 0\n",
    "    end = 15\n",
    "    \n",
    "    basic_df = y_test[start:end]\n",
    "    nn_df = y_pred[start:end]\n",
    "\n",
    "    plt.figure(figsize=(7, 7))\n",
    "    plt.bar(range(start, end), nn_df.detach().numpy(), color='orange', label='Прогноз')\n",
    "    plt.bar(range(start, end), basic_df, color='blue', width=0.5, label='Факт')\n",
    "\n",
    "    plt.legend()\n",
    "    plt.title('Факт-Прогноз', fontsize=16)\n",
    "    plt.xlabel('Номер звезды в таблице данных', fontsize=14)\n",
    "    plt.ylabel('Температура звезды', fontsize=14)\n",
    "    plt.xticks(fontsize=12)\n",
    "    plt.yticks(fontsize=12)\n",
    "    plt.show()"
   ]
  },
  {
   "cell_type": "markdown",
   "id": "608589e5",
   "metadata": {},
   "source": [
    "<a name='basic_nn'></a>\n",
    "### 4. 2. Создание базовой нейронной сети\n",
    "[Введение](#introduction)"
   ]
  },
  {
   "cell_type": "code",
   "execution_count": 37,
   "id": "b25add83",
   "metadata": {},
   "outputs": [],
   "source": [
    "# Количество нейронов на каждом слое\n",
    "in_neurons = X_train.shape[1]\n",
    "hidden_neurons_1 = 8\n",
    "hidden_neurons_2 = 5\n",
    "out_neurons = 1\n",
    "\n",
    "# Создание класса нейронной сети с 3 скрытыми слоями\n",
    "class NeuralNet(nn.Module):\n",
    "    def __init__(self, in_neurons, hidden_neurons_1, hidden_neurons_2, out_neurons):\n",
    "        super(NeuralNet, self).__init__()\n",
    "        self.fc1 = nn.Linear(in_neurons, hidden_neurons_1)\n",
    "        self.ac1 = nn.LeakyReLU()\n",
    "        self.fc2 = nn.Linear(hidden_neurons_1, hidden_neurons_2)\n",
    "        self.ac2 = nn.LeakyReLU()\n",
    "        self.fc3 = nn.Linear(hidden_neurons_2, out_neurons)\n",
    "        self.ac3 = nn.LeakyReLU()\n",
    "\n",
    "    def forward(self, x):\n",
    "        x = self.fc1(x)\n",
    "        x = self.ac1(x)\n",
    "        x = self.fc2(x)\n",
    "        x = self.ac2(x)\n",
    "        x = self.fc3(x)\n",
    "        x = self.ac3(x)\n",
    "        return x\n",
    "\n",
    "\n",
    "# Инициализация нейросети\n",
    "net = NeuralNet(in_neurons, hidden_neurons_1, hidden_neurons_2, out_neurons)"
   ]
  },
  {
   "cell_type": "code",
   "execution_count": 38,
   "id": "57ca15d8",
   "metadata": {},
   "outputs": [
    {
     "data": {
      "text/plain": [
       "NeuralNet(\n",
       "  (fc1): Linear(in_features=17, out_features=8, bias=True)\n",
       "  (ac1): LeakyReLU(negative_slope=0.01)\n",
       "  (fc2): Linear(in_features=8, out_features=5, bias=True)\n",
       "  (ac2): LeakyReLU(negative_slope=0.01)\n",
       "  (fc3): Linear(in_features=5, out_features=1, bias=True)\n",
       "  (ac3): LeakyReLU(negative_slope=0.01)\n",
       ")"
      ]
     },
     "execution_count": 38,
     "metadata": {},
     "output_type": "execute_result"
    }
   ],
   "source": [
    "# Функция для инициализации весов\n",
    "def init_weights(layer):\n",
    "    if type(layer) == nn.Linear:\n",
    "        nn.init.kaiming_uniform_(\n",
    "            layer.weight,\n",
    "            mode='fan_in',\n",
    "            nonlinearity='relu'\n",
    "        )\n",
    "\n",
    "# Инициализация весов нейросети\n",
    "net.apply(init_weights)"
   ]
  },
  {
   "cell_type": "code",
   "execution_count": 39,
   "id": "0fca0fa6",
   "metadata": {
    "scrolled": false
   },
   "outputs": [
    {
     "name": "stdout",
     "output_type": "stream",
     "text": [
      "Epoch #: 0\n",
      "RMSE = 14626.58984375 \n",
      "\n",
      "Epoch #: 1000\n",
      "RMSE = 11748.98828125 \n",
      "\n",
      "Epoch #: 2000\n",
      "RMSE = 7665.7822265625 \n",
      "\n",
      "Epoch #: 3000\n",
      "RMSE = 6787.57470703125 \n",
      "\n",
      "Epoch #: 4000\n",
      "RMSE = 5737.6708984375 \n",
      "\n",
      "Epoch #: 5000\n",
      "RMSE = 4887.11962890625 \n",
      "\n",
      "Epoch #: 6000\n",
      "RMSE = 4319.08349609375 \n",
      "\n",
      "Epoch #: 7000\n",
      "RMSE = 4321.9794921875 \n",
      "\n",
      "Epoch #: 8000\n",
      "RMSE = 4342.12939453125 \n",
      "\n"
     ]
    }
   ],
   "source": [
    "# Создание оптимизатора и функции потерь\n",
    "optimizer = torch.optim.Adam(net.parameters(), lr=2e-3)\n",
    "loss = nn.MSELoss()\n",
    "\n",
    "# Обучение нейросети\n",
    "num_epochs = 8001\n",
    "\n",
    "for epoch in range(num_epochs):\n",
    "    model_training(X_train, y_train)\n",
    "    if epoch % 1000 == 0:\n",
    "        basic_nn_preds = model_testing(epoch)"
   ]
  },
  {
   "cell_type": "code",
   "execution_count": 42,
   "id": "ad827cea",
   "metadata": {},
   "outputs": [
    {
     "data": {
      "image/png": "[encoded data removed]",
      "text/plain": [
       "<Figure size 504x504 with 1 Axes>"
      ]
     },
     "metadata": {
      "needs_background": "light"
     },
     "output_type": "display_data"
    }
   ],
   "source": [
    "# Создание графика \"Факт-Прогноз\" по полученным результатам нейросети\n",
    "show_graph(basic_nn_preds)"
   ]
  },
  {
   "cell_type": "markdown",
   "id": "29e83962",
   "metadata": {},
   "source": [
    "Метрика RMSE достигла значения около 4 350. В данном случае необходимый порог в 4 500 пройден.\n",
    "\n",
    "Параметры модели на данном этапе:\n",
    "- Общее количество эпох - 8 001;\n",
    "- Тестирование модели - каждые 1 000."
   ]
  },
  {
   "cell_type": "markdown",
   "id": "growing-supply",
   "metadata": {},
   "source": [
    "<a name='nn_improvement'></a>\n",
    "## 5. Улучшение нейронной сети\n",
    "[Введение](#introduction)\n",
    "\n",
    "<br>Для улучшений нейросети воспользуется различными способами, которые смогут повысить окончательную метрику качества нейросети - RMSE.\n",
    "\n",
    "<br><b>Улучшения нейросети:</b>\n",
    "1. [Использование батчей](#batch_usage)\n",
    "2. [Batch Normalization](#batch_norm)\n",
    "3. [Dropout](#dropout)"
   ]
  },
  {
   "cell_type": "markdown",
   "id": "cc7407e8",
   "metadata": {},
   "source": [
    "<a name='batch_usage'></a>\n",
    "### 5. 1. Использование батчей\n",
    "[Введение](#introduction)"
   ]
  },
  {
   "cell_type": "code",
   "execution_count": 43,
   "id": "56ba5975",
   "metadata": {},
   "outputs": [
    {
     "name": "stdout",
     "output_type": "stream",
     "text": [
      "Epoch #: 0\n",
      "RMSE = 14626.859375 \n",
      "\n",
      "Epoch #: 1000\n",
      "RMSE = 13526.859375 \n",
      "\n",
      "Epoch #: 2000\n",
      "RMSE = 9886.087890625 \n",
      "\n",
      "Epoch #: 3000\n",
      "RMSE = 7924.13818359375 \n",
      "\n",
      "Epoch #: 4000\n",
      "RMSE = 7343.56494140625 \n",
      "\n",
      "Epoch #: 5000\n",
      "RMSE = 7018.84130859375 \n",
      "\n",
      "Epoch #: 6000\n",
      "RMSE = 6714.3876953125 \n",
      "\n",
      "Epoch #: 7000\n",
      "RMSE = 6331.84130859375 \n",
      "\n",
      "Epoch #: 8000\n",
      "RMSE = 5862.89404296875 \n",
      "\n",
      "Epoch #: 9000\n",
      "RMSE = 5448.78759765625 \n",
      "\n",
      "Epoch #: 10000\n",
      "RMSE = 5182.4111328125 \n",
      "\n",
      "Epoch #: 11000\n",
      "RMSE = 4960.27294921875 \n",
      "\n",
      "Epoch #: 12000\n",
      "RMSE = 4937.82080078125 \n",
      "\n",
      "Epoch #: 13000\n",
      "RMSE = 4952.43212890625 \n",
      "\n",
      "Epoch #: 14000\n",
      "RMSE = 4963.91748046875 \n",
      "\n",
      "Epoch #: 15000\n",
      "RMSE = 4966.23779296875 \n",
      "\n"
     ]
    }
   ],
   "source": [
    "# Создание класса нейронной сети с 3 скрытыми слоями\n",
    "class ImprovedNeuralNet(nn.Module):\n",
    "    def __init__(self, in_neurons, hidden_neurons_1, hidden_neurons_2, out_neurons):\n",
    "        super(ImprovedNeuralNet, self).__init__()\n",
    "        self.fc1 = nn.Linear(in_neurons, hidden_neurons_1)\n",
    "        self.ac1 = nn.LeakyReLU()\n",
    "        self.fc2 = nn.Linear(hidden_neurons_1, hidden_neurons_2)\n",
    "        self.ac2 = nn.LeakyReLU()\n",
    "        self.fc3 = nn.Linear(hidden_neurons_2, out_neurons)\n",
    "        self.ac3 = nn.LeakyReLU()\n",
    "\n",
    "    def forward(self, x):\n",
    "        x = self.fc1(x)\n",
    "        x = self.ac1(x)\n",
    "        x = self.fc2(x)\n",
    "        x = self.ac2(x)\n",
    "        x = self.fc3(x)\n",
    "        x = self.ac3(x)\n",
    "        return x\n",
    "\n",
    "\n",
    "# Инициализация сети и весов для нее\n",
    "net = ImprovedNeuralNet(in_neurons, hidden_neurons_1, hidden_neurons_2, out_neurons)\n",
    "net.apply(init_weights)\n",
    "\n",
    "# Новая инициализация оптимизатора (поскольку используется новая модель)\n",
    "optimizer = torch.optim.Adam(net.parameters(), lr=1e-3)\n",
    "\n",
    "# Тренировка и тестирование нейросети с использованием батчей\n",
    "batch_nn_preds = batch_training(epochs_num=15001, epoch_test=1000)"
   ]
  },
  {
   "cell_type": "code",
   "execution_count": 44,
   "id": "462d616d",
   "metadata": {},
   "outputs": [
    {
     "data": {
      "image/png": "[encoded data removed]",
      "text/plain": [
       "<Figure size 504x504 with 1 Axes>"
      ]
     },
     "metadata": {
      "needs_background": "light"
     },
     "output_type": "display_data"
    }
   ],
   "source": [
    "# Создание графика \"Факт-Прогноз\" по полученным результатам нейросети\n",
    "show_graph(batch_nn_preds)"
   ]
  },
  {
   "cell_type": "markdown",
   "id": "a9168fc3",
   "metadata": {},
   "source": [
    "Удалось достичь значения показателя RMSE около 5 000.\n",
    "\n",
    "Параметры модели на данном этапе:\n",
    "- Использование батчей при обучении;\n",
    "- Общее количество эпох - 15 001;\n",
    "- Тестирование модели - каждые 1 000."
   ]
  },
  {
   "cell_type": "markdown",
   "id": "50585044",
   "metadata": {},
   "source": [
    "<a name='batch_norm'></a>\n",
    "### 5. 2. Batch Normalization\n",
    "[Введение](#introduction)"
   ]
  },
  {
   "cell_type": "code",
   "execution_count": 45,
   "id": "bfe853bc",
   "metadata": {},
   "outputs": [
    {
     "name": "stdout",
     "output_type": "stream",
     "text": [
      "Epoch #: 0\n",
      "RMSE = 14626.81640625 \n",
      "\n",
      "Epoch #: 500\n",
      "RMSE = 9370.6005859375 \n",
      "\n",
      "Epoch #: 1000\n",
      "RMSE = 6826.3154296875 \n",
      "\n",
      "Epoch #: 1500\n",
      "RMSE = 5145.97314453125 \n",
      "\n",
      "Epoch #: 2000\n",
      "RMSE = 4317.91015625 \n",
      "\n",
      "Epoch #: 2500\n",
      "RMSE = 4204.10546875 \n",
      "\n",
      "Epoch #: 3000\n",
      "RMSE = 4115.41455078125 \n",
      "\n",
      "Epoch #: 3500\n",
      "RMSE = 4096.81982421875 \n",
      "\n",
      "Epoch #: 4000\n",
      "RMSE = 4062.719482421875 \n",
      "\n",
      "Epoch #: 4500\n",
      "RMSE = 4047.102294921875 \n",
      "\n",
      "Epoch #: 5000\n",
      "RMSE = 4053.055908203125 \n",
      "\n"
     ]
    }
   ],
   "source": [
    "#  Создание улучшенной нейросети с нормализацией батчей\n",
    "class BatchImprovedNeuralNet(nn.Module):\n",
    "    def __init__(self, in_neurons, hidden_neurons_1, hidden_neurons_2, out_neurons):\n",
    "        super(BatchImprovedNeuralNet, self).__init__()\n",
    "        self.fc1 = nn.Linear(in_neurons, hidden_neurons_1)\n",
    "        self.batch1 = nn.BatchNorm1d(hidden_neurons_1)\n",
    "        self.ac1 = nn.LeakyReLU()\n",
    "        self.fc2 = nn.Linear(hidden_neurons_1, hidden_neurons_2)\n",
    "        self.batch2 = nn.BatchNorm1d(hidden_neurons_2)\n",
    "        self.ac2 = nn.LeakyReLU()\n",
    "        self.fc3 = nn.Linear(hidden_neurons_2, out_neurons)\n",
    "        self.batch3 = nn.BatchNorm1d(out_neurons)\n",
    "        self.ac3 = nn.LeakyReLU()\n",
    "    \n",
    "    def forward(self, x):\n",
    "        x = self.fc1(x)\n",
    "        x = self.batch1(x)\n",
    "        x = self.ac1(x)\n",
    "        x = self.fc2(x)\n",
    "        x = self.batch2(x)\n",
    "        x = self.ac2(x)\n",
    "        x = self.fc3(x)\n",
    "        x = self.batch3(x)\n",
    "        x = self.ac3(x)\n",
    "        return x\n",
    "\n",
    "\n",
    "# Инициализация модели, весов и оптимизатора\n",
    "net = BatchImprovedNeuralNet(in_neurons, hidden_neurons_1, hidden_neurons_2, out_neurons)\n",
    "net.apply(init_weights)\n",
    "optimizer = torch.optim.Adam(net.parameters(), lr=1e-3)\n",
    "\n",
    "# Релизация обучения с помощью батчей\n",
    "batch_norm_nn_preds = batch_training(epochs_num=5001, epoch_test=500)"
   ]
  },
  {
   "cell_type": "code",
   "execution_count": 46,
   "id": "74f55b89",
   "metadata": {},
   "outputs": [
    {
     "data": {
      "image/png": "[encoded data removed]",
      "text/plain": [
       "<Figure size 504x504 with 1 Axes>"
      ]
     },
     "metadata": {
      "needs_background": "light"
     },
     "output_type": "display_data"
    }
   ],
   "source": [
    "# Создание графика \"Факт-Прогноз\" по полученным результатам нейросети\n",
    "show_graph(batch_norm_nn_preds)"
   ]
  },
  {
   "cell_type": "markdown",
   "id": "c3a72e05",
   "metadata": {},
   "source": [
    "Модель достигла значения около 4 000, пройдя необходимый порог.\n",
    "\n",
    "Параметры модели на данном этапе:\n",
    "- Использование батчей;\n",
    "- Нормализация батчей с помощью *nn.BatchNorm1d()*;\n",
    "- Общее количество эпох - 5 001;\n",
    "- Тестирование модели - каждый 500 эпох."
   ]
  },
  {
   "cell_type": "markdown",
   "id": "71354fd6",
   "metadata": {},
   "source": [
    "<a name='dropout'></a>\n",
    "### 5. 3. Dropout\n",
    "[Введение](#introduction)"
   ]
  },
  {
   "cell_type": "code",
   "execution_count": 47,
   "id": "416126bd",
   "metadata": {
    "scrolled": false
   },
   "outputs": [
    {
     "name": "stdout",
     "output_type": "stream",
     "text": [
      "Epoch #: 0\n",
      "RMSE = 14626.7080078125 \n",
      "\n",
      "Epoch #: 1000\n",
      "RMSE = 12262.4619140625 \n",
      "\n",
      "Epoch #: 2000\n",
      "RMSE = 8263.2626953125 \n",
      "\n",
      "Epoch #: 3000\n",
      "RMSE = 7262.7734375 \n",
      "\n",
      "Epoch #: 4000\n",
      "RMSE = 6732.70849609375 \n",
      "\n",
      "Epoch #: 5000\n",
      "RMSE = 6210.37451171875 \n",
      "\n",
      "Epoch #: 6000\n",
      "RMSE = 5592.88134765625 \n",
      "\n",
      "Epoch #: 7000\n",
      "RMSE = 5068.30517578125 \n",
      "\n",
      "Epoch #: 8000\n",
      "RMSE = 4870.52392578125 \n",
      "\n",
      "Epoch #: 9000\n",
      "RMSE = 4777.14306640625 \n",
      "\n",
      "Epoch #: 10000\n",
      "RMSE = 4768.2158203125 \n",
      "\n",
      "Epoch #: 11000\n",
      "RMSE = 4744.2099609375 \n",
      "\n",
      "Epoch #: 12000\n",
      "RMSE = 4697.83935546875 \n",
      "\n",
      "Epoch #: 13000\n",
      "RMSE = 4654.517578125 \n",
      "\n",
      "Epoch #: 14000\n",
      "RMSE = 4601.91552734375 \n",
      "\n",
      "Epoch #: 15000\n",
      "RMSE = 4561.17138671875 \n",
      "\n"
     ]
    }
   ],
   "source": [
    "# Создание класса нейронной сети с Dropout (\"выключением\" нейронов)\n",
    "class DropoutNeuralNet(nn.Module):\n",
    "    def __init__(self, in_neurons, hidden_neurons_1, hidden_neurons_2, out_neurons):\n",
    "        super(DropoutNeuralNet, self).__init__()\n",
    "        self.fc1 = nn.Linear(in_neurons, hidden_neurons_1)\n",
    "        self.drop1 = nn.Dropout(p=0.6)\n",
    "        self.ac1 = nn.LeakyReLU()\n",
    "        self.fc2 = nn.Linear(hidden_neurons_1, hidden_neurons_2)\n",
    "        self.drop2 = nn.Dropout(p=0.6)\n",
    "        self.ac2 = nn.LeakyReLU()\n",
    "        self.fc3 = nn.Linear(hidden_neurons_2, out_neurons)\n",
    "        self.ac3 = nn.LeakyReLU()\n",
    "    \n",
    "    def forward(self, x):\n",
    "        x = self.fc1(x)\n",
    "        x = self.drop1(x)\n",
    "        x = self.ac1(x)\n",
    "        x = self.fc2(x)\n",
    "        x = self.drop2(x)\n",
    "        x = self.ac2(x)\n",
    "        x = self.fc3(x)\n",
    "        x = self.ac3(x)\n",
    "        return x\n",
    "\n",
    "\n",
    "# Инициализация модели, весов, оптимизатора\n",
    "net = DropoutNeuralNet(in_neurons, hidden_neurons_1, hidden_neurons_2, out_neurons)\n",
    "net.apply(init_weights)\n",
    "optimizer = torch.optim.Adam(net.parameters(), lr=1e-3)\n",
    "\n",
    "dropout_nn_preds = batch_training(epochs_num=15001, epoch_test=1000)"
   ]
  },
  {
   "cell_type": "code",
   "execution_count": 48,
   "id": "c66b9087",
   "metadata": {},
   "outputs": [
    {
     "data": {
      "image/png": "[encoded data removed]",
      "text/plain": [
       "<Figure size 504x504 with 1 Axes>"
      ]
     },
     "metadata": {
      "needs_background": "light"
     },
     "output_type": "display_data"
    }
   ],
   "source": [
    "# Создание графика \"Факт-Прогноз\" по полученным результатам нейросети\n",
    "show_graph(dropout_nn_preds)"
   ]
  },
  {
   "cell_type": "markdown",
   "id": "0ee4bacf",
   "metadata": {},
   "source": [
    "Метрика RMSE достигла значения около 4 500,но порог не проходит.\n",
    "\n",
    "Параметры модели на данном этапе:\n",
    "- Использование батчей;\n",
    "- \"Выключение\" части нейронов на каждом слое с помощью *Dropout*;\n",
    "- Общее количество эпох - 15 001; \n",
    "- Тестирование модели - каждые 1 000."
   ]
  },
  {
   "cell_type": "markdown",
   "id": "accurate-infrastructure",
   "metadata": {},
   "source": [
    "<a name='conclusion'></a>\n",
    "## 6. Выводы\n",
    "[Введение](#introduction)"
   ]
  },
  {
   "cell_type": "markdown",
   "id": "c2f19ba5",
   "metadata": {},
   "source": [
    "Всего было протестировано 4 модели нейронной сети (выводы по каждой модели с графиком по ссылке):\n",
    "1. [Базовая неройсеть](#basic_nn);\n",
    "2. [Нейросеть с использованием батчей](#batch_usage);\n",
    "3. [Нейросеть с нормализацией батчей](#batch_norm);\n",
    "4. [Нейросеть с \"выключением\" нейронов - *Dropout*](#dropout).\n",
    "\n",
    "<br>Некоторые параметры модели были идентичны для повышения интерпретабельности влияния изменений на конечную метрику - *RMSE*:\n",
    "1. Количество слоев и нейронов на каждом уровне:\n",
    "    - Количество входных нейронов - 17 (по количеству параметров);\n",
    "    - 1 скрытый слой - 8 нейронов;\n",
    "    - 2 скрытый слой - 5 нейронов;\n",
    "    - Количество выходных нейронов - 1.\n",
    "\n",
    "<br>Наилучший показатель по метрике *RMSE* - около 4 000 - продемонстрировала **нейросеть с использованием нормализации батчей** со следующими параметрами:\n",
    "- Использование батчей;\n",
    "- Нормализация батчей с помощью *nn.BatchNorm1d()*;\n",
    "- Общее количество эпох - 5 001;\n",
    "- Тестирование модели - каждый 500 эпох.\n",
    "\n",
    "<br>Также необходимый порог в 4 500 RMSE был пройден и **базовой нейронной сетью** и составил около 4 350. Параметры модели:\n",
    "- Общее количество эпох - 10 001;\n",
    "- Тестирование модели - каждые 1 000;\n",
    "- Значение RMSE - около 4 350.\n",
    "\n",
    "<br>Продемонстрируем график двух лучших моделей:"
   ]
  },
  {
   "cell_type": "code",
   "execution_count": 50,
   "id": "31f49088",
   "metadata": {},
   "outputs": [
    {
     "name": "stdout",
     "output_type": "stream",
     "text": [
      "\n",
      "Нейросеть с нормализацией батчей:\n"
     ]
    },
    {
     "data": {
      "image/png": "[encoded data removed]",
      "text/plain": [
       "<Figure size 504x504 with 1 Axes>"
      ]
     },
     "metadata": {
      "needs_background": "light"
     },
     "output_type": "display_data"
    },
    {
     "name": "stdout",
     "output_type": "stream",
     "text": [
      "Базовая нейронная сеть:\n"
     ]
    },
    {
     "data": {
      "image/png": "[encoded data removed]",
      "text/plain": [
       "<Figure size 504x504 with 1 Axes>"
      ]
     },
     "metadata": {
      "needs_background": "light"
     },
     "output_type": "display_data"
    }
   ],
   "source": [
    "print('\\nНейросеть с нормализацией батчей:')\n",
    "show_graph(batch_norm_nn_preds)\n",
    "\n",
    "print('Базовая нейронная сеть:')\n",
    "show_graph(basic_nn_preds)"
   ]
  },
  {
   "cell_type": "markdown",
   "id": "dbb8b933",
   "metadata": {},
   "source": [
    "<h3>Рекомендация:</h3>\n",
    "\n",
    "Рекомендуется использовать **нейросеть с использованием нормализации батчей**, поскольку ее метрика ниже, а ресурсы на обучение и тестирование не столь значительны в отличие от **базовой нейронной сети**."
   ]
  },
  {
   "cell_type": "code",
   "execution_count": null,
   "id": "02ee9de6",
   "metadata": {},
   "outputs": [],
   "source": []
  }
 ],
 "metadata": {
  "ExecuteTimeLog": [
   {
    "duration": 43,
    "start_time": "2023-06-13T12:26:02.644Z"
   },
   {
    "duration": 405,
    "start_time": "2023-06-13T12:26:04.216Z"
   },
   {
    "duration": 70,
    "start_time": "2023-06-13T12:26:04.695Z"
   },
   {
    "duration": 33,
    "start_time": "2023-06-13T12:26:10.227Z"
   },
   {
    "duration": 27,
    "start_time": "2023-06-13T12:26:30.190Z"
   },
   {
    "duration": 12,
    "start_time": "2023-06-13T12:27:53.138Z"
   },
   {
    "duration": 28,
    "start_time": "2023-06-13T12:28:01.890Z"
   },
   {
    "duration": 9,
    "start_time": "2023-06-13T12:28:02.811Z"
   },
   {
    "duration": 27,
    "start_time": "2023-06-13T12:28:05.191Z"
   },
   {
    "duration": 9,
    "start_time": "2023-06-13T12:28:05.351Z"
   },
   {
    "duration": 4,
    "start_time": "2023-06-13T12:28:13.394Z"
   },
   {
    "duration": 3,
    "start_time": "2023-06-13T12:28:31.545Z"
   },
   {
    "duration": 3,
    "start_time": "2023-06-13T12:28:49.351Z"
   },
   {
    "duration": 4,
    "start_time": "2023-06-13T12:28:54.002Z"
   },
   {
    "duration": 4,
    "start_time": "2023-06-13T12:29:00.633Z"
   },
   {
    "duration": 4,
    "start_time": "2023-06-13T12:29:02.306Z"
   },
   {
    "duration": 4,
    "start_time": "2023-06-13T12:41:36.510Z"
   },
   {
    "duration": 6,
    "start_time": "2023-06-13T12:41:51.206Z"
   },
   {
    "duration": 33,
    "start_time": "2023-06-13T12:42:05.898Z"
   },
   {
    "duration": 3,
    "start_time": "2023-06-13T12:42:14.511Z"
   },
   {
    "duration": 20,
    "start_time": "2023-06-13T12:42:57.418Z"
   },
   {
    "duration": 30,
    "start_time": "2023-06-13T12:43:09.695Z"
   },
   {
    "duration": 24,
    "start_time": "2023-06-13T12:44:12.010Z"
   },
   {
    "duration": 3,
    "start_time": "2023-06-13T12:44:17.103Z"
   },
   {
    "duration": 22,
    "start_time": "2023-06-13T12:44:18.313Z"
   },
   {
    "duration": 3,
    "start_time": "2023-06-13T12:44:26.102Z"
   },
   {
    "duration": 30,
    "start_time": "2023-06-13T12:44:27.224Z"
   },
   {
    "duration": 40,
    "start_time": "2023-06-13T12:44:31.021Z"
   },
   {
    "duration": 5,
    "start_time": "2023-06-13T12:44:39.641Z"
   },
   {
    "duration": 25,
    "start_time": "2023-06-13T12:44:40.591Z"
   },
   {
    "duration": 34,
    "start_time": "2023-06-13T12:44:44.738Z"
   },
   {
    "duration": 3,
    "start_time": "2023-06-13T12:44:47.784Z"
   },
   {
    "duration": 24,
    "start_time": "2023-06-13T12:44:56.910Z"
   },
   {
    "duration": 6,
    "start_time": "2023-06-13T12:45:05.602Z"
   },
   {
    "duration": 22,
    "start_time": "2023-06-13T12:45:08.194Z"
   },
   {
    "duration": 19,
    "start_time": "2023-06-13T12:46:32.374Z"
   },
   {
    "duration": 4,
    "start_time": "2023-06-13T12:46:34.917Z"
   },
   {
    "duration": 14,
    "start_time": "2023-06-13T12:46:35.112Z"
   },
   {
    "duration": 5,
    "start_time": "2023-06-13T12:46:45.349Z"
   },
   {
    "duration": 31,
    "start_time": "2023-06-13T12:46:50.494Z"
   },
   {
    "duration": 6,
    "start_time": "2023-06-13T12:46:55.343Z"
   },
   {
    "duration": 5,
    "start_time": "2023-06-13T13:02:08.589Z"
   },
   {
    "duration": 6,
    "start_time": "2023-06-13T13:32:24.616Z"
   },
   {
    "duration": 5,
    "start_time": "2023-06-13T13:43:07.487Z"
   },
   {
    "duration": 6,
    "start_time": "2023-06-13T13:44:14.991Z"
   },
   {
    "duration": 7,
    "start_time": "2023-06-13T13:44:18.582Z"
   },
   {
    "duration": 5,
    "start_time": "2023-06-13T13:44:22.910Z"
   },
   {
    "duration": 11,
    "start_time": "2023-06-13T13:50:09.694Z"
   },
   {
    "duration": 5,
    "start_time": "2023-06-13T13:50:11.402Z"
   },
   {
    "duration": 6,
    "start_time": "2023-06-13T13:50:55.706Z"
   },
   {
    "duration": 10,
    "start_time": "2023-06-13T13:50:58.846Z"
   },
   {
    "duration": 4,
    "start_time": "2023-06-13T13:51:00.141Z"
   },
   {
    "duration": 10,
    "start_time": "2023-06-13T13:51:23.951Z"
   },
   {
    "duration": 5,
    "start_time": "2023-06-13T13:51:24.713Z"
   },
   {
    "duration": 4,
    "start_time": "2023-06-13T13:51:28.046Z"
   },
   {
    "duration": 43,
    "start_time": "2023-06-13T13:51:33.480Z"
   },
   {
    "duration": 3,
    "start_time": "2023-06-13T13:51:37.483Z"
   },
   {
    "duration": 5,
    "start_time": "2023-06-13T13:51:40.422Z"
   },
   {
    "duration": 14,
    "start_time": "2023-06-13T13:51:57.230Z"
   },
   {
    "duration": 5,
    "start_time": "2023-06-13T13:51:58.061Z"
   },
   {
    "duration": 7,
    "start_time": "2023-06-13T13:53:07.983Z"
   },
   {
    "duration": 5,
    "start_time": "2023-06-13T13:53:19.776Z"
   },
   {
    "duration": 33,
    "start_time": "2023-06-13T13:53:25.978Z"
   },
   {
    "duration": 2,
    "start_time": "2023-06-13T13:53:28.325Z"
   },
   {
    "duration": 5,
    "start_time": "2023-06-13T13:53:34.101Z"
   },
   {
    "duration": 11,
    "start_time": "2023-06-13T13:53:36.999Z"
   },
   {
    "duration": 4,
    "start_time": "2023-06-13T13:53:37.381Z"
   },
   {
    "duration": 4,
    "start_time": "2023-06-13T13:53:52.799Z"
   },
   {
    "duration": 8,
    "start_time": "2023-06-13T13:54:12.424Z"
   },
   {
    "duration": 76,
    "start_time": "2023-06-13T13:54:21.117Z"
   },
   {
    "duration": 8,
    "start_time": "2023-06-13T13:54:24.880Z"
   },
   {
    "duration": 6,
    "start_time": "2023-06-13T13:54:46.708Z"
   },
   {
    "duration": 2612,
    "start_time": "2023-06-13T14:06:21.730Z"
   },
   {
    "duration": 4,
    "start_time": "2023-06-13T14:08:23.281Z"
   },
   {
    "duration": 3,
    "start_time": "2023-06-13T14:08:29.318Z"
   },
   {
    "duration": 39,
    "start_time": "2023-06-13T14:08:31.140Z"
   },
   {
    "duration": 4,
    "start_time": "2023-06-13T14:09:53.178Z"
   },
   {
    "duration": 23,
    "start_time": "2023-06-13T14:09:53.995Z"
   },
   {
    "duration": 33,
    "start_time": "2023-06-13T14:10:10.484Z"
   },
   {
    "duration": 4226,
    "start_time": "2023-06-14T04:42:42.360Z"
   },
   {
    "duration": 85,
    "start_time": "2023-06-14T04:42:46.588Z"
   },
   {
    "duration": 4,
    "start_time": "2023-06-14T04:42:46.675Z"
   },
   {
    "duration": 17,
    "start_time": "2023-06-14T04:42:46.680Z"
   },
   {
    "duration": 61,
    "start_time": "2023-06-14T04:42:46.699Z"
   },
   {
    "duration": 3,
    "start_time": "2023-06-14T04:42:46.761Z"
   },
   {
    "duration": 17,
    "start_time": "2023-06-14T04:42:46.766Z"
   },
   {
    "duration": 17,
    "start_time": "2023-06-14T04:42:46.784Z"
   },
   {
    "duration": 10,
    "start_time": "2023-06-14T04:42:46.802Z"
   },
   {
    "duration": 18,
    "start_time": "2023-06-14T04:42:46.813Z"
   },
   {
    "duration": 30,
    "start_time": "2023-06-14T04:42:46.833Z"
   },
   {
    "duration": 11,
    "start_time": "2023-06-14T04:43:08.982Z"
   },
   {
    "duration": 7,
    "start_time": "2023-06-14T04:43:19.843Z"
   },
   {
    "duration": 6,
    "start_time": "2023-06-14T04:43:30.624Z"
   },
   {
    "duration": 577,
    "start_time": "2023-06-14T04:43:37.351Z"
   },
   {
    "duration": 281,
    "start_time": "2023-06-14T04:45:01.842Z"
   },
   {
    "duration": 80,
    "start_time": "2023-06-14T04:45:32.994Z"
   },
   {
    "duration": 237,
    "start_time": "2023-06-14T04:45:35.704Z"
   },
   {
    "duration": 309,
    "start_time": "2023-06-14T04:45:42.153Z"
   },
   {
    "duration": 300,
    "start_time": "2023-06-14T04:45:48.927Z"
   },
   {
    "duration": 220,
    "start_time": "2023-06-14T04:45:52.794Z"
   },
   {
    "duration": 236,
    "start_time": "2023-06-14T04:46:15.811Z"
   },
   {
    "duration": 94,
    "start_time": "2023-06-14T04:46:53.487Z"
   },
   {
    "duration": 3,
    "start_time": "2023-06-14T04:47:12.304Z"
   },
   {
    "duration": 239,
    "start_time": "2023-06-14T04:47:37.170Z"
   },
   {
    "duration": 230,
    "start_time": "2023-06-14T04:47:44.037Z"
   },
   {
    "duration": 376,
    "start_time": "2023-06-14T04:47:50.690Z"
   },
   {
    "duration": 79,
    "start_time": "2023-06-14T04:47:57.428Z"
   },
   {
    "duration": 401,
    "start_time": "2023-06-14T04:48:00.377Z"
   },
   {
    "duration": 254,
    "start_time": "2023-06-14T04:48:06.907Z"
   },
   {
    "duration": 242,
    "start_time": "2023-06-14T04:48:19.724Z"
   },
   {
    "duration": 232,
    "start_time": "2023-06-14T04:48:22.309Z"
   },
   {
    "duration": 250,
    "start_time": "2023-06-14T04:49:23.850Z"
   },
   {
    "duration": 245,
    "start_time": "2023-06-14T04:49:30.132Z"
   },
   {
    "duration": 429,
    "start_time": "2023-06-14T04:49:40.478Z"
   },
   {
    "duration": 397,
    "start_time": "2023-06-14T04:49:48.685Z"
   },
   {
    "duration": 231,
    "start_time": "2023-06-14T04:49:50.636Z"
   },
   {
    "duration": 350,
    "start_time": "2023-06-14T04:50:17.645Z"
   },
   {
    "duration": 216,
    "start_time": "2023-06-14T04:50:35.389Z"
   },
   {
    "duration": 241,
    "start_time": "2023-06-14T04:50:51.748Z"
   },
   {
    "duration": 239,
    "start_time": "2023-06-14T04:54:12.217Z"
   },
   {
    "duration": 283,
    "start_time": "2023-06-14T04:58:08.351Z"
   },
   {
    "duration": 219,
    "start_time": "2023-06-14T04:59:54.033Z"
   },
   {
    "duration": 219,
    "start_time": "2023-06-14T05:00:05.215Z"
   },
   {
    "duration": 267,
    "start_time": "2023-06-14T05:00:10.069Z"
   },
   {
    "duration": 146,
    "start_time": "2023-06-14T05:00:27.710Z"
   },
   {
    "duration": 2908,
    "start_time": "2023-06-14T05:00:47.448Z"
   },
   {
    "duration": 711,
    "start_time": "2023-06-14T05:00:57.786Z"
   },
   {
    "duration": 114,
    "start_time": "2023-06-14T05:01:03.464Z"
   },
   {
    "duration": 3002,
    "start_time": "2023-06-14T05:01:06.943Z"
   },
   {
    "duration": 296,
    "start_time": "2023-06-14T05:01:10.271Z"
   },
   {
    "duration": 227,
    "start_time": "2023-06-14T05:01:20.015Z"
   },
   {
    "duration": 149,
    "start_time": "2023-06-14T05:01:24.737Z"
   },
   {
    "duration": 3012,
    "start_time": "2023-06-14T05:01:28.992Z"
   },
   {
    "duration": 149,
    "start_time": "2023-06-14T05:01:33.639Z"
   },
   {
    "duration": 163,
    "start_time": "2023-06-14T05:02:25.633Z"
   },
   {
    "duration": 182,
    "start_time": "2023-06-14T05:02:51.868Z"
   },
   {
    "duration": 188,
    "start_time": "2023-06-14T05:03:12.140Z"
   },
   {
    "duration": 454,
    "start_time": "2023-06-14T05:03:18.439Z"
   },
   {
    "duration": 118,
    "start_time": "2023-06-14T05:04:13.492Z"
   },
   {
    "duration": 237,
    "start_time": "2023-06-14T05:04:22.226Z"
   },
   {
    "duration": 201,
    "start_time": "2023-06-14T05:04:28.471Z"
   },
   {
    "duration": 151,
    "start_time": "2023-06-14T05:04:37.849Z"
   },
   {
    "duration": 3,
    "start_time": "2023-06-14T05:05:46.326Z"
   },
   {
    "duration": 99,
    "start_time": "2023-06-14T05:06:03.788Z"
   },
   {
    "duration": 136,
    "start_time": "2023-06-14T05:06:05.776Z"
   },
   {
    "duration": 130,
    "start_time": "2023-06-14T05:06:22.337Z"
   },
   {
    "duration": 184,
    "start_time": "2023-06-14T05:06:28.791Z"
   },
   {
    "duration": 91,
    "start_time": "2023-06-14T05:07:55.773Z"
   },
   {
    "duration": 260,
    "start_time": "2023-06-14T05:08:00.367Z"
   },
   {
    "duration": 250,
    "start_time": "2023-06-14T05:08:07.835Z"
   },
   {
    "duration": 162,
    "start_time": "2023-06-14T05:08:35.409Z"
   },
   {
    "duration": 171,
    "start_time": "2023-06-14T05:08:43.572Z"
   },
   {
    "duration": 284,
    "start_time": "2023-06-14T05:08:52.920Z"
   },
   {
    "duration": 294,
    "start_time": "2023-06-14T05:09:36.809Z"
   },
   {
    "duration": 306,
    "start_time": "2023-06-14T05:09:42.490Z"
   },
   {
    "duration": 235,
    "start_time": "2023-06-14T05:09:48.010Z"
   },
   {
    "duration": 166,
    "start_time": "2023-06-14T05:09:56.322Z"
   },
   {
    "duration": 166,
    "start_time": "2023-06-14T05:10:02.846Z"
   },
   {
    "duration": 131,
    "start_time": "2023-06-14T05:11:05.543Z"
   },
   {
    "duration": 175,
    "start_time": "2023-06-14T05:11:43.850Z"
   },
   {
    "duration": 155,
    "start_time": "2023-06-14T05:11:53.782Z"
   },
   {
    "duration": 13,
    "start_time": "2023-06-14T05:12:02.085Z"
   },
   {
    "duration": 124,
    "start_time": "2023-06-14T05:12:04.486Z"
   },
   {
    "duration": 160,
    "start_time": "2023-06-14T05:12:10.134Z"
   },
   {
    "duration": 157,
    "start_time": "2023-06-14T05:15:21.358Z"
   },
   {
    "duration": 260,
    "start_time": "2023-06-14T05:15:26.090Z"
   },
   {
    "duration": 147,
    "start_time": "2023-06-14T05:41:04.587Z"
   },
   {
    "duration": 304,
    "start_time": "2023-06-14T05:41:14.659Z"
   },
   {
    "duration": 152,
    "start_time": "2023-06-14T05:41:22.174Z"
   },
   {
    "duration": 180,
    "start_time": "2023-06-14T05:41:43.654Z"
   },
   {
    "duration": 190,
    "start_time": "2023-06-14T05:42:09.888Z"
   },
   {
    "duration": 170,
    "start_time": "2023-06-14T05:42:31.923Z"
   },
   {
    "duration": 222,
    "start_time": "2023-06-14T05:42:39.862Z"
   },
   {
    "duration": 190,
    "start_time": "2023-06-14T05:42:48.132Z"
   },
   {
    "duration": 182,
    "start_time": "2023-06-14T05:42:57.166Z"
   },
   {
    "duration": 114,
    "start_time": "2023-06-14T05:43:04.761Z"
   },
   {
    "duration": 126,
    "start_time": "2023-06-14T05:43:07.149Z"
   },
   {
    "duration": 112,
    "start_time": "2023-06-14T05:43:09.830Z"
   },
   {
    "duration": 193,
    "start_time": "2023-06-14T05:43:12.336Z"
   },
   {
    "duration": 6,
    "start_time": "2023-06-14T05:45:15.800Z"
   },
   {
    "duration": 6,
    "start_time": "2023-06-14T05:45:29.574Z"
   },
   {
    "duration": 46,
    "start_time": "2023-06-14T18:49:00.974Z"
   },
   {
    "duration": 2217,
    "start_time": "2023-06-14T18:49:14.470Z"
   },
   {
    "duration": 89,
    "start_time": "2023-06-14T18:49:16.689Z"
   },
   {
    "duration": 3,
    "start_time": "2023-06-14T18:49:16.779Z"
   },
   {
    "duration": 15,
    "start_time": "2023-06-14T18:49:16.783Z"
   },
   {
    "duration": 40,
    "start_time": "2023-06-14T18:49:16.800Z"
   },
   {
    "duration": 3,
    "start_time": "2023-06-14T18:49:16.842Z"
   },
   {
    "duration": 7,
    "start_time": "2023-06-14T18:49:16.846Z"
   },
   {
    "duration": 20,
    "start_time": "2023-06-14T18:49:16.854Z"
   },
   {
    "duration": 19,
    "start_time": "2023-06-14T18:49:16.876Z"
   },
   {
    "duration": 5,
    "start_time": "2023-06-14T18:49:16.896Z"
   },
   {
    "duration": 22,
    "start_time": "2023-06-14T18:49:16.903Z"
   },
   {
    "duration": 361,
    "start_time": "2023-06-14T18:49:16.929Z"
   },
   {
    "duration": 169,
    "start_time": "2023-06-14T18:49:17.292Z"
   },
   {
    "duration": 192,
    "start_time": "2023-06-14T18:49:17.464Z"
   },
   {
    "duration": 7,
    "start_time": "2023-06-14T18:49:17.658Z"
   },
   {
    "duration": 221,
    "start_time": "2023-06-14T18:49:17.666Z"
   },
   {
    "duration": 129,
    "start_time": "2023-06-14T18:49:28.764Z"
   },
   {
    "duration": 183,
    "start_time": "2023-06-14T18:49:36.470Z"
   },
   {
    "duration": 149,
    "start_time": "2023-06-14T18:49:58.639Z"
   },
   {
    "duration": 108,
    "start_time": "2023-06-14T18:50:23.055Z"
   },
   {
    "duration": 165,
    "start_time": "2023-06-14T18:50:26.194Z"
   },
   {
    "duration": 136,
    "start_time": "2023-06-14T18:50:33.145Z"
   },
   {
    "duration": 135,
    "start_time": "2023-06-14T18:50:40.652Z"
   },
   {
    "duration": 154,
    "start_time": "2023-06-14T18:51:27.894Z"
   },
   {
    "duration": 174,
    "start_time": "2023-06-14T18:51:57.270Z"
   },
   {
    "duration": 158,
    "start_time": "2023-06-14T18:52:12.453Z"
   },
   {
    "duration": 113,
    "start_time": "2023-06-14T18:52:57.738Z"
   },
   {
    "duration": 155,
    "start_time": "2023-06-14T18:53:03.696Z"
   },
   {
    "duration": 158,
    "start_time": "2023-06-14T18:53:08.525Z"
   },
   {
    "duration": 4,
    "start_time": "2023-06-14T18:56:48.098Z"
   },
   {
    "duration": 204,
    "start_time": "2023-06-14T18:57:43.713Z"
   },
   {
    "duration": 212,
    "start_time": "2023-06-14T18:58:04.802Z"
   },
   {
    "duration": 10,
    "start_time": "2023-06-14T18:59:25.151Z"
   },
   {
    "duration": 321,
    "start_time": "2023-06-14T18:59:32.795Z"
   },
   {
    "duration": 140,
    "start_time": "2023-06-14T18:59:37.082Z"
   },
   {
    "duration": 4,
    "start_time": "2023-06-14T18:59:57.603Z"
   },
   {
    "duration": 244,
    "start_time": "2023-06-14T18:59:58.230Z"
   },
   {
    "duration": 136,
    "start_time": "2023-06-14T19:00:02.830Z"
   },
   {
    "duration": 298,
    "start_time": "2023-06-14T19:00:44.483Z"
   },
   {
    "duration": 4,
    "start_time": "2023-06-14T19:01:19.639Z"
   },
   {
    "duration": 321,
    "start_time": "2023-06-14T19:01:20.399Z"
   },
   {
    "duration": 315,
    "start_time": "2023-06-14T19:01:36.020Z"
   },
   {
    "duration": 145,
    "start_time": "2023-06-14T19:01:41.821Z"
   },
   {
    "duration": 152,
    "start_time": "2023-06-14T19:02:18.121Z"
   },
   {
    "duration": 408,
    "start_time": "2023-06-14T19:02:32.751Z"
   },
   {
    "duration": 12,
    "start_time": "2023-06-14T19:16:20.452Z"
   },
   {
    "duration": 157,
    "start_time": "2023-06-14T19:18:15.789Z"
   },
   {
    "duration": 13,
    "start_time": "2023-06-14T19:23:45.120Z"
   },
   {
    "duration": 3116,
    "start_time": "2023-06-14T19:23:51.847Z"
   },
   {
    "duration": 597,
    "start_time": "2023-06-14T19:23:56.963Z"
   },
   {
    "duration": 646,
    "start_time": "2023-06-14T19:24:56.282Z"
   },
   {
    "duration": 135,
    "start_time": "2023-06-14T19:28:24.217Z"
   },
   {
    "duration": 79,
    "start_time": "2023-06-15T12:46:18.222Z"
   },
   {
    "duration": 1898,
    "start_time": "2023-06-15T12:46:32.034Z"
   },
   {
    "duration": 0,
    "start_time": "2023-06-15T12:46:33.934Z"
   },
   {
    "duration": 0,
    "start_time": "2023-06-15T12:46:33.936Z"
   },
   {
    "duration": 0,
    "start_time": "2023-06-15T12:46:33.938Z"
   },
   {
    "duration": 0,
    "start_time": "2023-06-15T12:46:33.939Z"
   },
   {
    "duration": 0,
    "start_time": "2023-06-15T12:46:33.941Z"
   },
   {
    "duration": 0,
    "start_time": "2023-06-15T12:46:33.942Z"
   },
   {
    "duration": 0,
    "start_time": "2023-06-15T12:46:33.943Z"
   },
   {
    "duration": 0,
    "start_time": "2023-06-15T12:46:33.944Z"
   },
   {
    "duration": 0,
    "start_time": "2023-06-15T12:46:33.945Z"
   },
   {
    "duration": 0,
    "start_time": "2023-06-15T12:46:33.946Z"
   },
   {
    "duration": 0,
    "start_time": "2023-06-15T12:46:33.947Z"
   },
   {
    "duration": 0,
    "start_time": "2023-06-15T12:46:33.948Z"
   },
   {
    "duration": 0,
    "start_time": "2023-06-15T12:46:33.949Z"
   },
   {
    "duration": 0,
    "start_time": "2023-06-15T12:46:33.950Z"
   },
   {
    "duration": 0,
    "start_time": "2023-06-15T12:46:33.950Z"
   },
   {
    "duration": 0,
    "start_time": "2023-06-15T12:46:33.951Z"
   },
   {
    "duration": 0,
    "start_time": "2023-06-15T12:46:33.952Z"
   },
   {
    "duration": 0,
    "start_time": "2023-06-15T12:46:33.953Z"
   },
   {
    "duration": 0,
    "start_time": "2023-06-15T12:46:33.954Z"
   },
   {
    "duration": 0,
    "start_time": "2023-06-15T12:46:33.955Z"
   },
   {
    "duration": 12,
    "start_time": "2023-06-15T12:49:03.024Z"
   },
   {
    "duration": 3755,
    "start_time": "2023-06-15T12:49:17.729Z"
   },
   {
    "duration": 2625,
    "start_time": "2023-06-15T12:49:29.306Z"
   },
   {
    "duration": 2020,
    "start_time": "2023-06-15T12:49:31.933Z"
   },
   {
    "duration": 95,
    "start_time": "2023-06-15T12:49:33.961Z"
   },
   {
    "duration": 21,
    "start_time": "2023-06-15T12:49:34.058Z"
   },
   {
    "duration": 11,
    "start_time": "2023-06-15T12:49:34.082Z"
   },
   {
    "duration": 40,
    "start_time": "2023-06-15T12:49:34.095Z"
   },
   {
    "duration": 9,
    "start_time": "2023-06-15T12:49:34.137Z"
   },
   {
    "duration": 16,
    "start_time": "2023-06-15T12:49:34.149Z"
   },
   {
    "duration": 16,
    "start_time": "2023-06-15T12:49:34.167Z"
   },
   {
    "duration": 13,
    "start_time": "2023-06-15T12:49:34.185Z"
   },
   {
    "duration": 9,
    "start_time": "2023-06-15T12:49:34.200Z"
   },
   {
    "duration": 25,
    "start_time": "2023-06-15T12:49:34.211Z"
   },
   {
    "duration": 13,
    "start_time": "2023-06-15T12:49:34.239Z"
   },
   {
    "duration": 520,
    "start_time": "2023-06-15T12:49:34.256Z"
   },
   {
    "duration": 219,
    "start_time": "2023-06-15T12:49:34.778Z"
   },
   {
    "duration": 224,
    "start_time": "2023-06-15T12:49:34.999Z"
   },
   {
    "duration": 26,
    "start_time": "2023-06-15T12:49:35.225Z"
   },
   {
    "duration": 544,
    "start_time": "2023-06-15T12:49:35.257Z"
   },
   {
    "duration": 211,
    "start_time": "2023-06-15T12:49:35.804Z"
   },
   {
    "duration": 175,
    "start_time": "2023-06-15T12:49:36.018Z"
   },
   {
    "duration": 811,
    "start_time": "2023-06-15T12:49:36.196Z"
   },
   {
    "duration": 6,
    "start_time": "2023-06-15T12:49:37.009Z"
   },
   {
    "duration": 190,
    "start_time": "2023-06-15T12:49:37.017Z"
   },
   {
    "duration": 61,
    "start_time": "2023-06-15T12:49:58.228Z"
   },
   {
    "duration": 14,
    "start_time": "2023-06-15T12:50:17.839Z"
   },
   {
    "duration": 29,
    "start_time": "2023-06-15T12:51:47.166Z"
   },
   {
    "duration": 3,
    "start_time": "2023-06-15T12:56:20.203Z"
   },
   {
    "duration": 24,
    "start_time": "2023-06-15T12:56:29.033Z"
   },
   {
    "duration": 11,
    "start_time": "2023-06-15T12:56:46.277Z"
   },
   {
    "duration": 10,
    "start_time": "2023-06-15T12:57:03.705Z"
   },
   {
    "duration": 4,
    "start_time": "2023-06-15T12:57:05.904Z"
   },
   {
    "duration": 16,
    "start_time": "2023-06-15T12:59:04.051Z"
   },
   {
    "duration": 10,
    "start_time": "2023-06-15T12:59:20.119Z"
   },
   {
    "duration": 4,
    "start_time": "2023-06-15T13:00:47.351Z"
   },
   {
    "duration": 4,
    "start_time": "2023-06-15T13:01:07.776Z"
   },
   {
    "duration": 5,
    "start_time": "2023-06-15T13:02:10.972Z"
   },
   {
    "duration": 6,
    "start_time": "2023-06-15T13:03:17.314Z"
   },
   {
    "duration": 19,
    "start_time": "2023-06-15T13:03:20.801Z"
   },
   {
    "duration": 7,
    "start_time": "2023-06-15T13:03:23.529Z"
   },
   {
    "duration": 17,
    "start_time": "2023-06-15T13:03:28.411Z"
   },
   {
    "duration": 6,
    "start_time": "2023-06-15T13:04:21.505Z"
   },
   {
    "duration": 7,
    "start_time": "2023-06-15T13:04:23.218Z"
   },
   {
    "duration": 4,
    "start_time": "2023-06-15T13:04:59.336Z"
   },
   {
    "duration": 5,
    "start_time": "2023-06-15T13:05:07.486Z"
   },
   {
    "duration": 3,
    "start_time": "2023-06-15T13:06:52.035Z"
   },
   {
    "duration": 74,
    "start_time": "2023-06-15T13:09:14.820Z"
   },
   {
    "duration": 3135,
    "start_time": "2023-06-15T15:22:26.718Z"
   },
   {
    "duration": 2167,
    "start_time": "2023-06-15T15:22:29.855Z"
   },
   {
    "duration": 81,
    "start_time": "2023-06-15T15:22:32.023Z"
   },
   {
    "duration": 4,
    "start_time": "2023-06-15T15:22:32.106Z"
   },
   {
    "duration": 28,
    "start_time": "2023-06-15T15:22:32.111Z"
   },
   {
    "duration": 35,
    "start_time": "2023-06-15T15:22:32.141Z"
   },
   {
    "duration": 10,
    "start_time": "2023-06-15T15:22:32.177Z"
   },
   {
    "duration": 50,
    "start_time": "2023-06-15T15:22:32.189Z"
   },
   {
    "duration": 54,
    "start_time": "2023-06-15T15:22:32.240Z"
   },
   {
    "duration": 21,
    "start_time": "2023-06-15T15:22:32.298Z"
   },
   {
    "duration": 73,
    "start_time": "2023-06-15T15:22:32.321Z"
   },
   {
    "duration": 20,
    "start_time": "2023-06-15T15:22:32.395Z"
   },
   {
    "duration": 14,
    "start_time": "2023-06-15T15:22:32.417Z"
   },
   {
    "duration": 374,
    "start_time": "2023-06-15T15:22:32.433Z"
   },
   {
    "duration": 163,
    "start_time": "2023-06-15T15:22:32.810Z"
   },
   {
    "duration": 173,
    "start_time": "2023-06-15T15:22:32.976Z"
   },
   {
    "duration": 6,
    "start_time": "2023-06-15T15:22:33.153Z"
   },
   {
    "duration": 500,
    "start_time": "2023-06-15T15:22:33.161Z"
   },
   {
    "duration": 178,
    "start_time": "2023-06-15T15:22:33.663Z"
   },
   {
    "duration": 156,
    "start_time": "2023-06-15T15:22:33.843Z"
   },
   {
    "duration": 730,
    "start_time": "2023-06-15T15:22:34.001Z"
   },
   {
    "duration": 6,
    "start_time": "2023-06-15T15:22:34.733Z"
   },
   {
    "duration": 20,
    "start_time": "2023-06-15T15:22:34.741Z"
   },
   {
    "duration": 12,
    "start_time": "2023-06-15T15:22:34.763Z"
   },
   {
    "duration": 20,
    "start_time": "2023-06-15T15:25:26.017Z"
   },
   {
    "duration": 58,
    "start_time": "2023-06-15T19:13:36.814Z"
   },
   {
    "duration": 2937,
    "start_time": "2023-06-15T19:13:40.307Z"
   },
   {
    "duration": 1787,
    "start_time": "2023-06-15T19:13:43.246Z"
   },
   {
    "duration": 81,
    "start_time": "2023-06-15T19:13:45.035Z"
   },
   {
    "duration": 12,
    "start_time": "2023-06-15T19:13:45.117Z"
   },
   {
    "duration": 31,
    "start_time": "2023-06-15T19:13:45.132Z"
   },
   {
    "duration": 56,
    "start_time": "2023-06-15T19:13:45.165Z"
   },
   {
    "duration": 14,
    "start_time": "2023-06-15T19:13:45.224Z"
   },
   {
    "duration": 14,
    "start_time": "2023-06-15T19:13:45.239Z"
   },
   {
    "duration": 14,
    "start_time": "2023-06-15T19:13:45.255Z"
   },
   {
    "duration": 21,
    "start_time": "2023-06-15T19:13:45.270Z"
   },
   {
    "duration": 18,
    "start_time": "2023-06-15T19:13:45.293Z"
   },
   {
    "duration": 27,
    "start_time": "2023-06-15T19:13:45.313Z"
   },
   {
    "duration": 13,
    "start_time": "2023-06-15T19:13:45.342Z"
   },
   {
    "duration": 332,
    "start_time": "2023-06-15T19:13:45.357Z"
   },
   {
    "duration": 145,
    "start_time": "2023-06-15T19:13:45.691Z"
   },
   {
    "duration": 159,
    "start_time": "2023-06-15T19:13:45.837Z"
   },
   {
    "duration": 5,
    "start_time": "2023-06-15T19:13:45.997Z"
   },
   {
    "duration": 399,
    "start_time": "2023-06-15T19:13:46.003Z"
   },
   {
    "duration": 162,
    "start_time": "2023-06-15T19:13:46.403Z"
   },
   {
    "duration": 133,
    "start_time": "2023-06-15T19:13:46.566Z"
   },
   {
    "duration": 631,
    "start_time": "2023-06-15T19:13:46.701Z"
   },
   {
    "duration": 7,
    "start_time": "2023-06-15T19:13:47.334Z"
   },
   {
    "duration": 11,
    "start_time": "2023-06-15T19:13:47.342Z"
   },
   {
    "duration": 86,
    "start_time": "2023-06-15T19:13:47.354Z"
   },
   {
    "duration": 140,
    "start_time": "2023-06-15T19:13:47.441Z"
   },
   {
    "duration": 8,
    "start_time": "2023-06-15T19:14:09.043Z"
   },
   {
    "duration": 23,
    "start_time": "2023-06-15T19:17:18.132Z"
   },
   {
    "duration": 995,
    "start_time": "2023-06-15T19:24:28.507Z"
   },
   {
    "duration": 3,
    "start_time": "2023-06-15T19:24:51.120Z"
   },
   {
    "duration": 25,
    "start_time": "2023-06-15T19:25:05.209Z"
   },
   {
    "duration": 23,
    "start_time": "2023-06-15T19:25:23.703Z"
   },
   {
    "duration": 20,
    "start_time": "2023-06-15T19:25:28.039Z"
   },
   {
    "duration": 15,
    "start_time": "2023-06-15T19:25:50.443Z"
   },
   {
    "duration": 21,
    "start_time": "2023-06-15T19:25:59.823Z"
   },
   {
    "duration": 25,
    "start_time": "2023-06-15T19:27:07.520Z"
   },
   {
    "duration": 23,
    "start_time": "2023-06-15T19:27:22.051Z"
   },
   {
    "duration": 29,
    "start_time": "2023-06-15T19:27:46.327Z"
   },
   {
    "duration": 17,
    "start_time": "2023-06-15T19:28:23.134Z"
   },
   {
    "duration": 21,
    "start_time": "2023-06-15T19:28:38.155Z"
   },
   {
    "duration": 17,
    "start_time": "2023-06-15T19:28:50.402Z"
   },
   {
    "duration": 15,
    "start_time": "2023-06-15T19:28:56.493Z"
   },
   {
    "duration": 21,
    "start_time": "2023-06-15T19:30:30.818Z"
   },
   {
    "duration": 18,
    "start_time": "2023-06-15T19:30:39.694Z"
   },
   {
    "duration": 5,
    "start_time": "2023-06-15T19:31:50.293Z"
   },
   {
    "duration": 4,
    "start_time": "2023-06-15T19:31:53.450Z"
   },
   {
    "duration": 6,
    "start_time": "2023-06-15T19:32:26.323Z"
   },
   {
    "duration": 6,
    "start_time": "2023-06-15T19:32:33.433Z"
   },
   {
    "duration": 4,
    "start_time": "2023-06-15T19:32:35.450Z"
   },
   {
    "duration": 7,
    "start_time": "2023-06-15T19:32:41.122Z"
   },
   {
    "duration": 7,
    "start_time": "2023-06-15T19:32:58.218Z"
   },
   {
    "duration": 7,
    "start_time": "2023-06-15T19:32:58.905Z"
   },
   {
    "duration": 5,
    "start_time": "2023-06-15T19:33:02.652Z"
   },
   {
    "duration": 9,
    "start_time": "2023-06-15T19:33:06.943Z"
   },
   {
    "duration": 4,
    "start_time": "2023-06-15T19:33:13.634Z"
   },
   {
    "duration": 4,
    "start_time": "2023-06-15T19:33:25.757Z"
   },
   {
    "duration": 14,
    "start_time": "2023-06-15T19:33:40.532Z"
   },
   {
    "duration": 9,
    "start_time": "2023-06-15T19:33:51.603Z"
   },
   {
    "duration": 4,
    "start_time": "2023-06-15T19:34:06.533Z"
   },
   {
    "duration": 4,
    "start_time": "2023-06-15T19:34:09.398Z"
   },
   {
    "duration": 3,
    "start_time": "2023-06-15T19:34:13.310Z"
   },
   {
    "duration": 5,
    "start_time": "2023-06-15T19:34:20.933Z"
   },
   {
    "duration": 3,
    "start_time": "2023-06-15T19:34:34.110Z"
   },
   {
    "duration": 12,
    "start_time": "2023-06-15T19:35:08.806Z"
   },
   {
    "duration": 11,
    "start_time": "2023-06-15T19:35:46.345Z"
   },
   {
    "duration": 17,
    "start_time": "2023-06-15T19:36:27.295Z"
   },
   {
    "duration": 6,
    "start_time": "2023-06-15T19:36:30.205Z"
   },
   {
    "duration": 15,
    "start_time": "2023-06-15T19:36:30.598Z"
   },
   {
    "duration": 9,
    "start_time": "2023-06-15T19:39:08.096Z"
   },
   {
    "duration": 3,
    "start_time": "2023-06-15T19:39:10.029Z"
   },
   {
    "duration": 3,
    "start_time": "2023-06-15T19:39:27.801Z"
   },
   {
    "duration": 15,
    "start_time": "2023-06-15T19:43:58.146Z"
   },
   {
    "duration": 11,
    "start_time": "2023-06-15T19:44:05.083Z"
   },
   {
    "duration": 17,
    "start_time": "2023-06-15T19:44:44.318Z"
   },
   {
    "duration": 16,
    "start_time": "2023-06-15T19:44:49.246Z"
   },
   {
    "duration": 28,
    "start_time": "2023-06-15T19:45:00.410Z"
   },
   {
    "duration": 30,
    "start_time": "2023-06-15T19:45:16.502Z"
   },
   {
    "duration": 25,
    "start_time": "2023-06-15T19:45:28.341Z"
   },
   {
    "duration": 20,
    "start_time": "2023-06-15T19:46:51.506Z"
   },
   {
    "duration": 3070,
    "start_time": "2023-06-16T14:02:41.470Z"
   },
   {
    "duration": 2174,
    "start_time": "2023-06-16T14:02:44.542Z"
   },
   {
    "duration": 81,
    "start_time": "2023-06-16T14:02:46.720Z"
   },
   {
    "duration": 4,
    "start_time": "2023-06-16T14:02:46.803Z"
   },
   {
    "duration": 37,
    "start_time": "2023-06-16T14:02:46.808Z"
   },
   {
    "duration": 25,
    "start_time": "2023-06-16T14:02:46.846Z"
   },
   {
    "duration": 3,
    "start_time": "2023-06-16T14:02:46.872Z"
   },
   {
    "duration": 10,
    "start_time": "2023-06-16T14:02:46.877Z"
   },
   {
    "duration": 13,
    "start_time": "2023-06-16T14:02:46.888Z"
   },
   {
    "duration": 27,
    "start_time": "2023-06-16T14:02:46.904Z"
   },
   {
    "duration": 10,
    "start_time": "2023-06-16T14:02:46.934Z"
   },
   {
    "duration": 8,
    "start_time": "2023-06-16T14:02:46.945Z"
   },
   {
    "duration": 5,
    "start_time": "2023-06-16T14:02:46.954Z"
   },
   {
    "duration": 328,
    "start_time": "2023-06-16T14:02:46.961Z"
   },
   {
    "duration": 164,
    "start_time": "2023-06-16T14:02:47.290Z"
   },
   {
    "duration": 169,
    "start_time": "2023-06-16T14:02:47.456Z"
   },
   {
    "duration": 5,
    "start_time": "2023-06-16T14:02:47.636Z"
   },
   {
    "duration": 414,
    "start_time": "2023-06-16T14:02:47.643Z"
   },
   {
    "duration": 186,
    "start_time": "2023-06-16T14:02:48.059Z"
   },
   {
    "duration": 143,
    "start_time": "2023-06-16T14:02:48.247Z"
   },
   {
    "duration": 658,
    "start_time": "2023-06-16T14:02:48.391Z"
   },
   {
    "duration": 3,
    "start_time": "2023-06-16T14:02:49.053Z"
   },
   {
    "duration": 266,
    "start_time": "2023-06-16T14:02:49.058Z"
   },
   {
    "duration": 0,
    "start_time": "2023-06-16T14:02:49.325Z"
   },
   {
    "duration": 0,
    "start_time": "2023-06-16T14:02:49.326Z"
   },
   {
    "duration": 28,
    "start_time": "2023-06-16T14:03:22.963Z"
   },
   {
    "duration": 3212,
    "start_time": "2023-06-16T14:03:33.988Z"
   },
   {
    "duration": 18,
    "start_time": "2023-06-16T14:03:42.242Z"
   },
   {
    "duration": 19,
    "start_time": "2023-06-16T14:03:45.978Z"
   },
   {
    "duration": 33,
    "start_time": "2023-06-16T14:03:55.392Z"
   },
   {
    "duration": 26,
    "start_time": "2023-06-16T14:04:01.117Z"
   },
   {
    "duration": 22,
    "start_time": "2023-06-16T14:04:32.249Z"
   },
   {
    "duration": 27,
    "start_time": "2023-06-16T14:04:58.898Z"
   },
   {
    "duration": 18,
    "start_time": "2023-06-16T14:05:20.043Z"
   },
   {
    "duration": 25,
    "start_time": "2023-06-16T14:05:24.046Z"
   },
   {
    "duration": 27,
    "start_time": "2023-06-16T14:05:36.461Z"
   },
   {
    "duration": 28,
    "start_time": "2023-06-16T14:05:53.913Z"
   },
   {
    "duration": 24,
    "start_time": "2023-06-16T14:05:58.474Z"
   },
   {
    "duration": 26,
    "start_time": "2023-06-16T14:06:09.960Z"
   },
   {
    "duration": 21,
    "start_time": "2023-06-16T14:06:26.607Z"
   },
   {
    "duration": 37,
    "start_time": "2023-06-16T14:06:33.402Z"
   },
   {
    "duration": 39,
    "start_time": "2023-06-16T14:06:51.714Z"
   },
   {
    "duration": 20,
    "start_time": "2023-06-16T14:07:17.780Z"
   },
   {
    "duration": 21,
    "start_time": "2023-06-16T14:07:22.995Z"
   },
   {
    "duration": 21,
    "start_time": "2023-06-16T14:07:33.328Z"
   },
   {
    "duration": 21,
    "start_time": "2023-06-16T14:07:50.298Z"
   },
   {
    "duration": 39,
    "start_time": "2023-06-16T14:09:07.498Z"
   },
   {
    "duration": 49,
    "start_time": "2023-06-16T14:09:16.699Z"
   },
   {
    "duration": 41,
    "start_time": "2023-06-16T14:10:28.305Z"
   },
   {
    "duration": 15,
    "start_time": "2023-06-16T14:12:10.956Z"
   },
   {
    "duration": 12,
    "start_time": "2023-06-16T14:12:31.639Z"
   },
   {
    "duration": 19,
    "start_time": "2023-06-16T14:13:01.235Z"
   },
   {
    "duration": 30,
    "start_time": "2023-06-16T14:13:36.612Z"
   },
   {
    "duration": 10,
    "start_time": "2023-06-16T14:13:43.575Z"
   },
   {
    "duration": 6,
    "start_time": "2023-06-16T14:13:51.339Z"
   },
   {
    "duration": 7,
    "start_time": "2023-06-16T14:13:56.583Z"
   },
   {
    "duration": 5,
    "start_time": "2023-06-16T14:13:59.744Z"
   },
   {
    "duration": 7,
    "start_time": "2023-06-16T14:14:18.893Z"
   },
   {
    "duration": 45,
    "start_time": "2023-06-16T14:14:19.333Z"
   },
   {
    "duration": 11,
    "start_time": "2023-06-16T14:14:30.208Z"
   },
   {
    "duration": 3,
    "start_time": "2023-06-16T14:14:34.811Z"
   },
   {
    "duration": 5,
    "start_time": "2023-06-16T14:15:20.400Z"
   },
   {
    "duration": 9,
    "start_time": "2023-06-16T14:15:21.320Z"
   },
   {
    "duration": 25,
    "start_time": "2023-06-16T14:15:21.935Z"
   },
   {
    "duration": 20,
    "start_time": "2023-06-16T14:17:34.972Z"
   },
   {
    "duration": 5,
    "start_time": "2023-06-16T14:17:36.139Z"
   },
   {
    "duration": 7,
    "start_time": "2023-06-16T14:17:36.836Z"
   },
   {
    "duration": 52,
    "start_time": "2023-06-16T14:17:37.102Z"
   },
   {
    "duration": 11,
    "start_time": "2023-06-16T14:19:08.100Z"
   },
   {
    "duration": 6,
    "start_time": "2023-06-16T14:19:10.340Z"
   },
   {
    "duration": 28,
    "start_time": "2023-06-16T14:19:13.405Z"
   },
   {
    "duration": 18,
    "start_time": "2023-06-16T14:19:43.007Z"
   },
   {
    "duration": 10,
    "start_time": "2023-06-16T14:19:43.266Z"
   },
   {
    "duration": 4,
    "start_time": "2023-06-16T14:19:44.341Z"
   },
   {
    "duration": 36,
    "start_time": "2023-06-16T14:19:44.535Z"
   },
   {
    "duration": 20,
    "start_time": "2023-06-16T14:19:53.235Z"
   },
   {
    "duration": 5,
    "start_time": "2023-06-16T14:19:53.835Z"
   },
   {
    "duration": 28,
    "start_time": "2023-06-16T14:19:54.093Z"
   },
   {
    "duration": 15,
    "start_time": "2023-06-16T14:20:09.948Z"
   },
   {
    "duration": 5,
    "start_time": "2023-06-16T14:20:10.655Z"
   },
   {
    "duration": 24,
    "start_time": "2023-06-16T14:20:11.192Z"
   },
   {
    "duration": 11,
    "start_time": "2023-06-16T14:20:21.734Z"
   },
   {
    "duration": 5,
    "start_time": "2023-06-16T14:20:25.826Z"
   },
   {
    "duration": 4,
    "start_time": "2023-06-16T14:20:31.797Z"
   },
   {
    "duration": 5,
    "start_time": "2023-06-16T14:20:35.752Z"
   },
   {
    "duration": 3,
    "start_time": "2023-06-16T14:20:38.904Z"
   },
   {
    "duration": 3,
    "start_time": "2023-06-16T14:20:43.374Z"
   },
   {
    "duration": 11,
    "start_time": "2023-06-16T14:20:53.150Z"
   },
   {
    "duration": 28,
    "start_time": "2023-06-16T14:21:13.636Z"
   },
   {
    "duration": 3,
    "start_time": "2023-06-16T14:21:59.558Z"
   },
   {
    "duration": 21,
    "start_time": "2023-06-16T14:22:03.662Z"
   },
   {
    "duration": 13,
    "start_time": "2023-06-16T14:22:34.886Z"
   },
   {
    "duration": 15,
    "start_time": "2023-06-16T14:22:51.962Z"
   },
   {
    "duration": 27,
    "start_time": "2023-06-16T14:23:16.754Z"
   },
   {
    "duration": 7,
    "start_time": "2023-06-16T14:23:43.016Z"
   },
   {
    "duration": 35,
    "start_time": "2023-06-16T14:23:43.561Z"
   },
   {
    "duration": 17,
    "start_time": "2023-06-16T14:23:59.099Z"
   },
   {
    "duration": 9,
    "start_time": "2023-06-16T14:24:06.094Z"
   },
   {
    "duration": 42,
    "start_time": "2023-06-16T14:24:08.619Z"
   },
   {
    "duration": 26,
    "start_time": "2023-06-16T14:24:21.163Z"
   },
   {
    "duration": 8,
    "start_time": "2023-06-16T14:24:43.204Z"
   },
   {
    "duration": 7,
    "start_time": "2023-06-16T14:24:45.543Z"
   },
   {
    "duration": 9,
    "start_time": "2023-06-16T14:24:47.287Z"
   },
   {
    "duration": 8,
    "start_time": "2023-06-16T14:24:52.184Z"
   },
   {
    "duration": 4,
    "start_time": "2023-06-16T14:24:55.948Z"
   },
   {
    "duration": 22,
    "start_time": "2023-06-16T14:24:59.318Z"
   },
   {
    "duration": 36,
    "start_time": "2023-06-16T14:24:59.535Z"
   },
   {
    "duration": 7,
    "start_time": "2023-06-16T14:27:01.652Z"
   },
   {
    "duration": 5,
    "start_time": "2023-06-16T14:27:06.949Z"
   },
   {
    "duration": 5,
    "start_time": "2023-06-16T14:27:11.944Z"
   },
   {
    "duration": 28,
    "start_time": "2023-06-16T14:27:12.397Z"
   },
   {
    "duration": 63,
    "start_time": "2023-06-16T14:27:22.510Z"
   },
   {
    "duration": 32,
    "start_time": "2023-06-16T14:27:46.048Z"
   },
   {
    "duration": 487,
    "start_time": "2023-06-16T14:34:46.139Z"
   },
   {
    "duration": 5,
    "start_time": "2023-06-16T14:34:57.276Z"
   },
   {
    "duration": 421,
    "start_time": "2023-06-16T14:34:57.714Z"
   },
   {
    "duration": 2109,
    "start_time": "2023-06-16T14:35:03.860Z"
   },
   {
    "duration": 1770,
    "start_time": "2023-06-16T14:35:05.972Z"
   },
   {
    "duration": 40,
    "start_time": "2023-06-16T14:35:07.744Z"
   },
   {
    "duration": 4,
    "start_time": "2023-06-16T14:35:07.787Z"
   },
   {
    "duration": 19,
    "start_time": "2023-06-16T14:35:07.793Z"
   },
   {
    "duration": 53,
    "start_time": "2023-06-16T14:35:07.814Z"
   },
   {
    "duration": 3,
    "start_time": "2023-06-16T14:35:07.868Z"
   },
   {
    "duration": 26,
    "start_time": "2023-06-16T14:35:07.874Z"
   },
   {
    "duration": 28,
    "start_time": "2023-06-16T14:35:07.902Z"
   },
   {
    "duration": 29,
    "start_time": "2023-06-16T14:35:07.933Z"
   },
   {
    "duration": 58,
    "start_time": "2023-06-16T14:35:07.964Z"
   },
   {
    "duration": 65,
    "start_time": "2023-06-16T14:35:08.024Z"
   },
   {
    "duration": 47,
    "start_time": "2023-06-16T14:35:08.090Z"
   },
   {
    "duration": 378,
    "start_time": "2023-06-16T14:35:08.139Z"
   },
   {
    "duration": 159,
    "start_time": "2023-06-16T14:35:08.519Z"
   },
   {
    "duration": 179,
    "start_time": "2023-06-16T14:35:08.679Z"
   },
   {
    "duration": 5,
    "start_time": "2023-06-16T14:35:08.860Z"
   },
   {
    "duration": 457,
    "start_time": "2023-06-16T14:35:08.867Z"
   },
   {
    "duration": 211,
    "start_time": "2023-06-16T14:35:09.326Z"
   },
   {
    "duration": 156,
    "start_time": "2023-06-16T14:35:09.539Z"
   },
   {
    "duration": 655,
    "start_time": "2023-06-16T14:35:09.697Z"
   },
   {
    "duration": 112,
    "start_time": "2023-06-16T14:35:10.353Z"
   },
   {
    "duration": 27,
    "start_time": "2023-06-16T14:35:10.466Z"
   },
   {
    "duration": 56,
    "start_time": "2023-06-16T14:35:10.495Z"
   },
   {
    "duration": 406,
    "start_time": "2023-06-16T14:35:10.552Z"
   },
   {
    "duration": 392,
    "start_time": "2023-06-16T14:35:20.954Z"
   },
   {
    "duration": 2157,
    "start_time": "2023-06-16T14:35:27.414Z"
   },
   {
    "duration": 1896,
    "start_time": "2023-06-16T14:35:29.574Z"
   },
   {
    "duration": 41,
    "start_time": "2023-06-16T14:35:31.472Z"
   },
   {
    "duration": 33,
    "start_time": "2023-06-16T14:35:31.515Z"
   },
   {
    "duration": 28,
    "start_time": "2023-06-16T14:35:31.549Z"
   },
   {
    "duration": 36,
    "start_time": "2023-06-16T14:35:31.579Z"
   },
   {
    "duration": 32,
    "start_time": "2023-06-16T14:35:31.617Z"
   },
   {
    "duration": 36,
    "start_time": "2023-06-16T14:35:31.651Z"
   },
   {
    "duration": 109,
    "start_time": "2023-06-16T14:35:31.689Z"
   },
   {
    "duration": 106,
    "start_time": "2023-06-16T14:35:31.802Z"
   },
   {
    "duration": 53,
    "start_time": "2023-06-16T14:35:31.910Z"
   },
   {
    "duration": 27,
    "start_time": "2023-06-16T14:35:31.965Z"
   },
   {
    "duration": 51,
    "start_time": "2023-06-16T14:35:31.993Z"
   },
   {
    "duration": 391,
    "start_time": "2023-06-16T14:35:32.046Z"
   },
   {
    "duration": 215,
    "start_time": "2023-06-16T14:35:32.439Z"
   },
   {
    "duration": 217,
    "start_time": "2023-06-16T14:35:32.656Z"
   },
   {
    "duration": 6,
    "start_time": "2023-06-16T14:35:32.875Z"
   },
   {
    "duration": 568,
    "start_time": "2023-06-16T14:35:32.883Z"
   },
   {
    "duration": 188,
    "start_time": "2023-06-16T14:35:33.453Z"
   },
   {
    "duration": 168,
    "start_time": "2023-06-16T14:35:33.647Z"
   },
   {
    "duration": 665,
    "start_time": "2023-06-16T14:35:33.819Z"
   },
   {
    "duration": 116,
    "start_time": "2023-06-16T14:35:34.485Z"
   },
   {
    "duration": 5,
    "start_time": "2023-06-16T14:35:34.602Z"
   },
   {
    "duration": 541,
    "start_time": "2023-06-16T14:35:34.619Z"
   },
   {
    "duration": 24,
    "start_time": "2023-06-16T14:37:32.443Z"
   },
   {
    "duration": 10,
    "start_time": "2023-06-16T14:37:37.566Z"
   },
   {
    "duration": 7,
    "start_time": "2023-06-16T14:37:39.943Z"
   },
   {
    "duration": 496,
    "start_time": "2023-06-16T14:37:40.139Z"
   },
   {
    "duration": 10,
    "start_time": "2023-06-16T14:37:53.238Z"
   },
   {
    "duration": 2375,
    "start_time": "2023-06-16T14:37:58.978Z"
   },
   {
    "duration": 1753,
    "start_time": "2023-06-16T14:38:01.355Z"
   },
   {
    "duration": 50,
    "start_time": "2023-06-16T14:38:03.109Z"
   },
   {
    "duration": 4,
    "start_time": "2023-06-16T14:38:03.161Z"
   },
   {
    "duration": 31,
    "start_time": "2023-06-16T14:38:03.168Z"
   },
   {
    "duration": 39,
    "start_time": "2023-06-16T14:38:03.200Z"
   },
   {
    "duration": 20,
    "start_time": "2023-06-16T14:38:03.241Z"
   },
   {
    "duration": 13,
    "start_time": "2023-06-16T14:38:03.263Z"
   },
   {
    "duration": 42,
    "start_time": "2023-06-16T14:38:03.277Z"
   },
   {
    "duration": 45,
    "start_time": "2023-06-16T14:38:03.325Z"
   },
   {
    "duration": 34,
    "start_time": "2023-06-16T14:38:03.371Z"
   },
   {
    "duration": 35,
    "start_time": "2023-06-16T14:38:03.407Z"
   },
   {
    "duration": 21,
    "start_time": "2023-06-16T14:38:03.444Z"
   },
   {
    "duration": 372,
    "start_time": "2023-06-16T14:38:03.468Z"
   },
   {
    "duration": 147,
    "start_time": "2023-06-16T14:38:03.842Z"
   },
   {
    "duration": 169,
    "start_time": "2023-06-16T14:38:03.990Z"
   },
   {
    "duration": 5,
    "start_time": "2023-06-16T14:38:04.161Z"
   },
   {
    "duration": 412,
    "start_time": "2023-06-16T14:38:04.168Z"
   },
   {
    "duration": 170,
    "start_time": "2023-06-16T14:38:04.582Z"
   },
   {
    "duration": 148,
    "start_time": "2023-06-16T14:38:04.753Z"
   },
   {
    "duration": 688,
    "start_time": "2023-06-16T14:38:04.903Z"
   },
   {
    "duration": 120,
    "start_time": "2023-06-16T14:38:05.593Z"
   },
   {
    "duration": 42,
    "start_time": "2023-06-16T14:38:05.714Z"
   },
   {
    "duration": 16,
    "start_time": "2023-06-16T14:38:05.757Z"
   },
   {
    "duration": 475,
    "start_time": "2023-06-16T14:38:05.774Z"
   },
   {
    "duration": 8,
    "start_time": "2023-06-16T14:38:17.937Z"
   },
   {
    "duration": 2,
    "start_time": "2023-06-16T14:38:23.407Z"
   },
   {
    "duration": 311,
    "start_time": "2023-06-16T14:38:32.035Z"
   },
   {
    "duration": 9,
    "start_time": "2023-06-16T14:38:39.888Z"
   },
   {
    "duration": 436,
    "start_time": "2023-06-16T14:38:49.800Z"
   },
   {
    "duration": 5,
    "start_time": "2023-06-16T14:38:55.259Z"
   },
   {
    "duration": 289,
    "start_time": "2023-06-16T14:38:55.443Z"
   },
   {
    "duration": 2078,
    "start_time": "2023-06-16T14:39:01.537Z"
   },
   {
    "duration": 1957,
    "start_time": "2023-06-16T14:39:03.618Z"
   },
   {
    "duration": 41,
    "start_time": "2023-06-16T14:39:05.577Z"
   },
   {
    "duration": 3,
    "start_time": "2023-06-16T14:39:05.620Z"
   },
   {
    "duration": 56,
    "start_time": "2023-06-16T14:39:05.625Z"
   },
   {
    "duration": 29,
    "start_time": "2023-06-16T14:39:05.683Z"
   },
   {
    "duration": 2,
    "start_time": "2023-06-16T14:39:05.713Z"
   },
   {
    "duration": 58,
    "start_time": "2023-06-16T14:39:05.717Z"
   },
   {
    "duration": 22,
    "start_time": "2023-06-16T14:39:05.776Z"
   },
   {
    "duration": 50,
    "start_time": "2023-06-16T14:39:05.799Z"
   },
   {
    "duration": 40,
    "start_time": "2023-06-16T14:39:05.851Z"
   },
   {
    "duration": 26,
    "start_time": "2023-06-16T14:39:05.893Z"
   },
   {
    "duration": 43,
    "start_time": "2023-06-16T14:39:05.921Z"
   },
   {
    "duration": 359,
    "start_time": "2023-06-16T14:39:05.966Z"
   },
   {
    "duration": 157,
    "start_time": "2023-06-16T14:39:06.327Z"
   },
   {
    "duration": 221,
    "start_time": "2023-06-16T14:39:06.485Z"
   },
   {
    "duration": 16,
    "start_time": "2023-06-16T14:39:06.709Z"
   },
   {
    "duration": 481,
    "start_time": "2023-06-16T14:39:06.728Z"
   },
   {
    "duration": 199,
    "start_time": "2023-06-16T14:39:07.210Z"
   },
   {
    "duration": 182,
    "start_time": "2023-06-16T14:39:07.411Z"
   },
   {
    "duration": 680,
    "start_time": "2023-06-16T14:39:07.595Z"
   },
   {
    "duration": 109,
    "start_time": "2023-06-16T14:39:08.277Z"
   },
   {
    "duration": 140,
    "start_time": "2023-06-16T14:39:08.387Z"
   },
   {
    "duration": 57,
    "start_time": "2023-06-16T14:39:08.529Z"
   },
   {
    "duration": 50,
    "start_time": "2023-06-16T14:39:08.588Z"
   },
   {
    "duration": 488,
    "start_time": "2023-06-16T14:39:08.640Z"
   },
   {
    "duration": 2,
    "start_time": "2023-06-16T14:39:24.190Z"
   },
   {
    "duration": 10,
    "start_time": "2023-06-16T14:39:26.633Z"
   },
   {
    "duration": 19,
    "start_time": "2023-06-16T14:39:28.036Z"
   },
   {
    "duration": 3,
    "start_time": "2023-06-16T14:39:28.337Z"
   },
   {
    "duration": 9,
    "start_time": "2023-06-16T14:39:28.641Z"
   },
   {
    "duration": 5,
    "start_time": "2023-06-16T14:39:29.494Z"
   },
   {
    "duration": 494,
    "start_time": "2023-06-16T14:39:29.933Z"
   },
   {
    "duration": 1998,
    "start_time": "2023-06-16T14:39:39.214Z"
   },
   {
    "duration": 1817,
    "start_time": "2023-06-16T14:39:41.213Z"
   },
   {
    "duration": 39,
    "start_time": "2023-06-16T14:39:43.031Z"
   },
   {
    "duration": 114,
    "start_time": "2023-06-16T14:39:43.072Z"
   },
   {
    "duration": 22,
    "start_time": "2023-06-16T14:39:43.187Z"
   },
   {
    "duration": 24,
    "start_time": "2023-06-16T14:39:43.211Z"
   },
   {
    "duration": 14,
    "start_time": "2023-06-16T14:39:43.237Z"
   },
   {
    "duration": 8,
    "start_time": "2023-06-16T14:39:43.253Z"
   },
   {
    "duration": 17,
    "start_time": "2023-06-16T14:39:43.263Z"
   },
   {
    "duration": 7,
    "start_time": "2023-06-16T14:39:43.283Z"
   },
   {
    "duration": 10,
    "start_time": "2023-06-16T14:39:43.292Z"
   },
   {
    "duration": 9,
    "start_time": "2023-06-16T14:39:43.303Z"
   },
   {
    "duration": 8,
    "start_time": "2023-06-16T14:39:43.313Z"
   },
   {
    "duration": 366,
    "start_time": "2023-06-16T14:39:43.323Z"
   },
   {
    "duration": 155,
    "start_time": "2023-06-16T14:39:43.690Z"
   },
   {
    "duration": 182,
    "start_time": "2023-06-16T14:39:43.847Z"
   },
   {
    "duration": 6,
    "start_time": "2023-06-16T14:39:44.031Z"
   },
   {
    "duration": 451,
    "start_time": "2023-06-16T14:39:44.039Z"
   },
   {
    "duration": 183,
    "start_time": "2023-06-16T14:39:44.492Z"
   },
   {
    "duration": 176,
    "start_time": "2023-06-16T14:39:44.677Z"
   },
   {
    "duration": 816,
    "start_time": "2023-06-16T14:39:44.854Z"
   },
   {
    "duration": 132,
    "start_time": "2023-06-16T14:39:45.672Z"
   },
   {
    "duration": 3,
    "start_time": "2023-06-16T14:39:45.806Z"
   },
   {
    "duration": 58,
    "start_time": "2023-06-16T14:39:45.811Z"
   },
   {
    "duration": 10,
    "start_time": "2023-06-16T14:39:45.871Z"
   },
   {
    "duration": 452,
    "start_time": "2023-06-16T14:39:45.882Z"
   },
   {
    "duration": 6,
    "start_time": "2023-06-16T14:42:08.411Z"
   },
   {
    "duration": 188,
    "start_time": "2023-06-16T14:42:09.096Z"
   },
   {
    "duration": 7,
    "start_time": "2023-06-16T14:43:06.130Z"
   },
   {
    "duration": 17,
    "start_time": "2023-06-16T14:43:06.597Z"
   },
   {
    "duration": 6,
    "start_time": "2023-06-16T14:43:19.656Z"
   },
   {
    "duration": 539,
    "start_time": "2023-06-16T14:43:20.299Z"
   },
   {
    "duration": 2250,
    "start_time": "2023-06-16T14:43:26.189Z"
   },
   {
    "duration": 2001,
    "start_time": "2023-06-16T14:43:28.441Z"
   },
   {
    "duration": 45,
    "start_time": "2023-06-16T14:43:30.446Z"
   },
   {
    "duration": 490,
    "start_time": "2023-06-16T14:43:30.492Z"
   },
   {
    "duration": 322,
    "start_time": "2023-06-16T14:43:30.985Z"
   },
   {
    "duration": 84,
    "start_time": "2023-06-16T14:43:31.308Z"
   },
   {
    "duration": 52,
    "start_time": "2023-06-16T14:43:31.394Z"
   },
   {
    "duration": 298,
    "start_time": "2023-06-16T14:43:31.448Z"
   },
   {
    "duration": 236,
    "start_time": "2023-06-16T14:43:31.748Z"
   },
   {
    "duration": 398,
    "start_time": "2023-06-16T14:43:31.985Z"
   },
   {
    "duration": 74,
    "start_time": "2023-06-16T14:43:32.384Z"
   },
   {
    "duration": 39,
    "start_time": "2023-06-16T14:43:32.460Z"
   },
   {
    "duration": 34,
    "start_time": "2023-06-16T14:43:32.501Z"
   },
   {
    "duration": 400,
    "start_time": "2023-06-16T14:43:32.549Z"
   },
   {
    "duration": 153,
    "start_time": "2023-06-16T14:43:32.951Z"
   },
   {
    "duration": 207,
    "start_time": "2023-06-16T14:43:33.106Z"
   },
   {
    "duration": 14,
    "start_time": "2023-06-16T14:43:33.314Z"
   },
   {
    "duration": 485,
    "start_time": "2023-06-16T14:43:33.329Z"
   },
   {
    "duration": 188,
    "start_time": "2023-06-16T14:43:33.815Z"
   },
   {
    "duration": 166,
    "start_time": "2023-06-16T14:43:34.005Z"
   },
   {
    "duration": 659,
    "start_time": "2023-06-16T14:43:34.173Z"
   },
   {
    "duration": 121,
    "start_time": "2023-06-16T14:43:34.834Z"
   },
   {
    "duration": 2,
    "start_time": "2023-06-16T14:43:34.957Z"
   },
   {
    "duration": 24,
    "start_time": "2023-06-16T14:43:34.961Z"
   },
   {
    "duration": 5,
    "start_time": "2023-06-16T14:43:34.987Z"
   },
   {
    "duration": 665,
    "start_time": "2023-06-16T14:43:34.993Z"
   },
   {
    "duration": 1834,
    "start_time": "2023-06-16T14:43:54.308Z"
   },
   {
    "duration": 3247,
    "start_time": "2023-06-16T14:44:05.991Z"
   },
   {
    "duration": 40,
    "start_time": "2023-06-16T14:45:11.117Z"
   },
   {
    "duration": 12,
    "start_time": "2023-06-16T14:45:22.793Z"
   },
   {
    "duration": 2211,
    "start_time": "2023-06-16T14:45:56.947Z"
   },
   {
    "duration": 1922,
    "start_time": "2023-06-16T14:45:59.160Z"
   },
   {
    "duration": 37,
    "start_time": "2023-06-16T14:46:01.083Z"
   },
   {
    "duration": 15,
    "start_time": "2023-06-16T14:46:01.130Z"
   },
   {
    "duration": 45,
    "start_time": "2023-06-16T14:46:01.149Z"
   },
   {
    "duration": 70,
    "start_time": "2023-06-16T14:46:01.196Z"
   },
   {
    "duration": 24,
    "start_time": "2023-06-16T14:46:01.268Z"
   },
   {
    "duration": 105,
    "start_time": "2023-06-16T14:46:01.293Z"
   },
   {
    "duration": 96,
    "start_time": "2023-06-16T14:46:01.400Z"
   },
   {
    "duration": 185,
    "start_time": "2023-06-16T14:46:01.498Z"
   },
   {
    "duration": 72,
    "start_time": "2023-06-16T14:46:01.684Z"
   },
   {
    "duration": 48,
    "start_time": "2023-06-16T14:46:01.758Z"
   },
   {
    "duration": 69,
    "start_time": "2023-06-16T14:46:01.807Z"
   },
   {
    "duration": 470,
    "start_time": "2023-06-16T14:46:01.879Z"
   },
   {
    "duration": 179,
    "start_time": "2023-06-16T14:46:02.358Z"
   },
   {
    "duration": 180,
    "start_time": "2023-06-16T14:46:02.539Z"
   },
   {
    "duration": 6,
    "start_time": "2023-06-16T14:46:02.720Z"
   },
   {
    "duration": 474,
    "start_time": "2023-06-16T14:46:02.728Z"
   },
   {
    "duration": 178,
    "start_time": "2023-06-16T14:46:03.204Z"
   },
   {
    "duration": 164,
    "start_time": "2023-06-16T14:46:03.384Z"
   },
   {
    "duration": 619,
    "start_time": "2023-06-16T14:46:03.550Z"
   },
   {
    "duration": 108,
    "start_time": "2023-06-16T14:46:04.171Z"
   },
   {
    "duration": 11,
    "start_time": "2023-06-16T14:46:04.280Z"
   },
   {
    "duration": 20,
    "start_time": "2023-06-16T14:46:04.292Z"
   },
   {
    "duration": 720,
    "start_time": "2023-06-16T14:46:04.313Z"
   },
   {
    "duration": 24,
    "start_time": "2023-06-16T14:46:57.847Z"
   },
   {
    "duration": 2,
    "start_time": "2023-06-16T14:46:58.509Z"
   },
   {
    "duration": 5,
    "start_time": "2023-06-16T14:46:59.700Z"
   },
   {
    "duration": 689,
    "start_time": "2023-06-16T14:46:59.941Z"
   },
   {
    "duration": 6,
    "start_time": "2023-06-16T14:47:07.750Z"
   },
   {
    "duration": 7,
    "start_time": "2023-06-16T14:47:10.293Z"
   },
   {
    "duration": 187,
    "start_time": "2023-06-16T14:47:35.898Z"
   },
   {
    "duration": 19,
    "start_time": "2023-06-16T14:47:57.773Z"
   },
   {
    "duration": 4,
    "start_time": "2023-06-16T14:47:59.991Z"
   },
   {
    "duration": 919,
    "start_time": "2023-06-16T14:48:00.334Z"
   },
   {
    "duration": 31,
    "start_time": "2023-06-16T14:49:07.238Z"
   },
   {
    "duration": 28,
    "start_time": "2023-06-16T14:50:09.040Z"
   },
   {
    "duration": 42,
    "start_time": "2023-06-16T14:50:20.013Z"
   },
   {
    "duration": 24,
    "start_time": "2023-06-16T14:50:29.938Z"
   },
   {
    "duration": 22,
    "start_time": "2023-06-16T14:50:42.109Z"
   },
   {
    "duration": 7,
    "start_time": "2023-06-16T14:50:42.971Z"
   },
   {
    "duration": 864,
    "start_time": "2023-06-16T14:50:43.166Z"
   },
   {
    "duration": 22,
    "start_time": "2023-06-16T14:50:57.703Z"
   },
   {
    "duration": 7,
    "start_time": "2023-06-16T14:50:58.441Z"
   },
   {
    "duration": 581,
    "start_time": "2023-06-16T14:50:58.644Z"
   },
   {
    "duration": 3198,
    "start_time": "2023-06-16T14:51:46.551Z"
   },
   {
    "duration": 6079,
    "start_time": "2023-06-16T14:51:54.259Z"
   },
   {
    "duration": 19,
    "start_time": "2023-06-16T14:52:12.844Z"
   },
   {
    "duration": 6,
    "start_time": "2023-06-16T14:52:17.798Z"
   },
   {
    "duration": 8,
    "start_time": "2023-06-16T14:52:45.392Z"
   },
   {
    "duration": 5,
    "start_time": "2023-06-16T14:52:49.182Z"
   },
   {
    "duration": 1012,
    "start_time": "2023-06-16T14:52:55.735Z"
   },
   {
    "duration": 2318,
    "start_time": "2023-06-16T14:53:08.236Z"
   },
   {
    "duration": 1865,
    "start_time": "2023-06-16T14:53:10.558Z"
   },
   {
    "duration": 45,
    "start_time": "2023-06-16T14:53:12.425Z"
   },
   {
    "duration": 3,
    "start_time": "2023-06-16T14:53:12.472Z"
   },
   {
    "duration": 9,
    "start_time": "2023-06-16T14:53:12.477Z"
   },
   {
    "duration": 49,
    "start_time": "2023-06-16T14:53:12.487Z"
   },
   {
    "duration": 5,
    "start_time": "2023-06-16T14:53:12.541Z"
   },
   {
    "duration": 10,
    "start_time": "2023-06-16T14:53:12.548Z"
   },
   {
    "duration": 19,
    "start_time": "2023-06-16T14:53:12.560Z"
   },
   {
    "duration": 15,
    "start_time": "2023-06-16T14:53:12.581Z"
   },
   {
    "duration": 21,
    "start_time": "2023-06-16T14:53:12.597Z"
   },
   {
    "duration": 40,
    "start_time": "2023-06-16T14:53:12.620Z"
   },
   {
    "duration": 4,
    "start_time": "2023-06-16T14:53:12.663Z"
   },
   {
    "duration": 371,
    "start_time": "2023-06-16T14:53:12.669Z"
   },
   {
    "duration": 165,
    "start_time": "2023-06-16T14:53:13.042Z"
   },
   {
    "duration": 196,
    "start_time": "2023-06-16T14:53:13.209Z"
   },
   {
    "duration": 7,
    "start_time": "2023-06-16T14:53:13.406Z"
   },
   {
    "duration": 484,
    "start_time": "2023-06-16T14:53:13.414Z"
   },
   {
    "duration": 192,
    "start_time": "2023-06-16T14:53:13.900Z"
   },
   {
    "duration": 173,
    "start_time": "2023-06-16T14:53:14.093Z"
   },
   {
    "duration": 628,
    "start_time": "2023-06-16T14:53:14.268Z"
   },
   {
    "duration": 122,
    "start_time": "2023-06-16T14:53:14.898Z"
   },
   {
    "duration": 60,
    "start_time": "2023-06-16T14:53:15.023Z"
   },
   {
    "duration": 15,
    "start_time": "2023-06-16T14:53:15.085Z"
   },
   {
    "duration": 830,
    "start_time": "2023-06-16T14:53:15.101Z"
   },
   {
    "duration": 7,
    "start_time": "2023-06-16T14:53:23.365Z"
   },
   {
    "duration": 18,
    "start_time": "2023-06-16T14:53:29.592Z"
   },
   {
    "duration": 6,
    "start_time": "2023-06-16T14:53:30.663Z"
   },
   {
    "duration": 3,
    "start_time": "2023-06-16T14:53:40.061Z"
   },
   {
    "duration": 15,
    "start_time": "2023-06-16T14:53:40.743Z"
   },
   {
    "duration": 3,
    "start_time": "2023-06-16T14:53:42.297Z"
   },
   {
    "duration": 16,
    "start_time": "2023-06-16T14:53:42.739Z"
   },
   {
    "duration": 3,
    "start_time": "2023-06-16T14:53:45.503Z"
   },
   {
    "duration": 6,
    "start_time": "2023-06-16T14:53:46.075Z"
   },
   {
    "duration": 3,
    "start_time": "2023-06-16T14:53:56.365Z"
   },
   {
    "duration": 9,
    "start_time": "2023-06-16T14:53:56.589Z"
   },
   {
    "duration": 6,
    "start_time": "2023-06-16T14:54:00.031Z"
   },
   {
    "duration": 902,
    "start_time": "2023-06-16T14:54:00.319Z"
   },
   {
    "duration": 2139,
    "start_time": "2023-06-16T14:54:04.993Z"
   },
   {
    "duration": 2055,
    "start_time": "2023-06-16T14:54:07.134Z"
   },
   {
    "duration": 49,
    "start_time": "2023-06-16T14:54:09.191Z"
   },
   {
    "duration": 5,
    "start_time": "2023-06-16T14:54:09.242Z"
   },
   {
    "duration": 14,
    "start_time": "2023-06-16T14:54:09.249Z"
   },
   {
    "duration": 25,
    "start_time": "2023-06-16T14:54:09.265Z"
   },
   {
    "duration": 2,
    "start_time": "2023-06-16T14:54:09.292Z"
   },
   {
    "duration": 8,
    "start_time": "2023-06-16T14:54:09.296Z"
   },
   {
    "duration": 20,
    "start_time": "2023-06-16T14:54:09.305Z"
   },
   {
    "duration": 39,
    "start_time": "2023-06-16T14:54:09.326Z"
   },
   {
    "duration": 10,
    "start_time": "2023-06-16T14:54:09.366Z"
   },
   {
    "duration": 9,
    "start_time": "2023-06-16T14:54:09.378Z"
   },
   {
    "duration": 9,
    "start_time": "2023-06-16T14:54:09.389Z"
   },
   {
    "duration": 382,
    "start_time": "2023-06-16T14:54:09.401Z"
   },
   {
    "duration": 165,
    "start_time": "2023-06-16T14:54:09.785Z"
   },
   {
    "duration": 195,
    "start_time": "2023-06-16T14:54:09.952Z"
   },
   {
    "duration": 7,
    "start_time": "2023-06-16T14:54:10.149Z"
   },
   {
    "duration": 433,
    "start_time": "2023-06-16T14:54:10.158Z"
   },
   {
    "duration": 173,
    "start_time": "2023-06-16T14:54:10.593Z"
   },
   {
    "duration": 168,
    "start_time": "2023-06-16T14:54:10.768Z"
   },
   {
    "duration": 601,
    "start_time": "2023-06-16T14:54:10.937Z"
   },
   {
    "duration": 99,
    "start_time": "2023-06-16T14:54:11.539Z"
   },
   {
    "duration": 21,
    "start_time": "2023-06-16T14:54:11.640Z"
   },
   {
    "duration": 25,
    "start_time": "2023-06-16T14:54:11.662Z"
   },
   {
    "duration": 12,
    "start_time": "2023-06-16T14:54:11.688Z"
   },
   {
    "duration": 641,
    "start_time": "2023-06-16T14:54:11.701Z"
   },
   {
    "duration": 192,
    "start_time": "2023-06-16T14:54:39.853Z"
   },
   {
    "duration": 259,
    "start_time": "2023-06-16T14:56:15.661Z"
   },
   {
    "duration": 145,
    "start_time": "2023-06-16T14:56:23.972Z"
   },
   {
    "duration": 300,
    "start_time": "2023-06-16T14:56:28.225Z"
   },
   {
    "duration": 2006,
    "start_time": "2023-06-16T14:56:32.820Z"
   },
   {
    "duration": 1776,
    "start_time": "2023-06-16T14:56:34.828Z"
   },
   {
    "duration": 41,
    "start_time": "2023-06-16T14:56:36.606Z"
   },
   {
    "duration": 4,
    "start_time": "2023-06-16T14:56:36.649Z"
   },
   {
    "duration": 26,
    "start_time": "2023-06-16T14:56:36.654Z"
   },
   {
    "duration": 35,
    "start_time": "2023-06-16T14:56:36.682Z"
   },
   {
    "duration": 10,
    "start_time": "2023-06-16T14:56:36.718Z"
   },
   {
    "duration": 30,
    "start_time": "2023-06-16T14:56:36.729Z"
   },
   {
    "duration": 20,
    "start_time": "2023-06-16T14:56:36.761Z"
   },
   {
    "duration": 22,
    "start_time": "2023-06-16T14:56:36.784Z"
   },
   {
    "duration": 12,
    "start_time": "2023-06-16T14:56:36.808Z"
   },
   {
    "duration": 22,
    "start_time": "2023-06-16T14:56:36.822Z"
   },
   {
    "duration": 28,
    "start_time": "2023-06-16T14:56:36.845Z"
   },
   {
    "duration": 394,
    "start_time": "2023-06-16T14:56:36.875Z"
   },
   {
    "duration": 158,
    "start_time": "2023-06-16T14:56:37.271Z"
   },
   {
    "duration": 189,
    "start_time": "2023-06-16T14:56:37.431Z"
   },
   {
    "duration": 5,
    "start_time": "2023-06-16T14:56:37.622Z"
   },
   {
    "duration": 442,
    "start_time": "2023-06-16T14:56:37.629Z"
   },
   {
    "duration": 189,
    "start_time": "2023-06-16T14:56:38.073Z"
   },
   {
    "duration": 146,
    "start_time": "2023-06-16T14:56:38.263Z"
   },
   {
    "duration": 630,
    "start_time": "2023-06-16T14:56:38.420Z"
   },
   {
    "duration": 102,
    "start_time": "2023-06-16T14:56:39.052Z"
   },
   {
    "duration": 3,
    "start_time": "2023-06-16T14:56:39.156Z"
   },
   {
    "duration": 12,
    "start_time": "2023-06-16T14:56:39.161Z"
   },
   {
    "duration": 352,
    "start_time": "2023-06-16T14:56:39.175Z"
   },
   {
    "duration": 54,
    "start_time": "2023-06-16T14:56:51.026Z"
   },
   {
    "duration": 9,
    "start_time": "2023-06-16T14:56:52.932Z"
   },
   {
    "duration": 4,
    "start_time": "2023-06-16T14:57:28.536Z"
   },
   {
    "duration": 7,
    "start_time": "2023-06-16T14:57:28.956Z"
   },
   {
    "duration": 179,
    "start_time": "2023-06-16T14:57:29.170Z"
   },
   {
    "duration": 4,
    "start_time": "2023-06-16T14:57:38.889Z"
   },
   {
    "duration": 8,
    "start_time": "2023-06-16T14:57:39.503Z"
   },
   {
    "duration": 28,
    "start_time": "2023-06-16T14:57:39.766Z"
   },
   {
    "duration": 3,
    "start_time": "2023-06-16T14:57:47.352Z"
   },
   {
    "duration": 7,
    "start_time": "2023-06-16T14:57:47.927Z"
   },
   {
    "duration": 44,
    "start_time": "2023-06-16T14:57:48.161Z"
   },
   {
    "duration": 3,
    "start_time": "2023-06-16T14:57:54.771Z"
   },
   {
    "duration": 5,
    "start_time": "2023-06-16T14:57:55.311Z"
   },
   {
    "duration": 33,
    "start_time": "2023-06-16T14:57:55.500Z"
   },
   {
    "duration": 23,
    "start_time": "2023-06-16T14:58:00.770Z"
   },
   {
    "duration": 4,
    "start_time": "2023-06-16T14:58:00.952Z"
   },
   {
    "duration": 5,
    "start_time": "2023-06-16T14:58:01.656Z"
   },
   {
    "duration": 268,
    "start_time": "2023-06-16T14:58:01.868Z"
   },
   {
    "duration": 26,
    "start_time": "2023-06-16T14:58:13.350Z"
   },
   {
    "duration": 4,
    "start_time": "2023-06-16T14:58:13.653Z"
   },
   {
    "duration": 7,
    "start_time": "2023-06-16T14:58:14.309Z"
   },
   {
    "duration": 356,
    "start_time": "2023-06-16T14:58:14.476Z"
   },
   {
    "duration": 5,
    "start_time": "2023-06-16T14:58:27.459Z"
   },
   {
    "duration": 6,
    "start_time": "2023-06-16T14:58:27.912Z"
   },
   {
    "duration": 34,
    "start_time": "2023-06-16T14:58:28.099Z"
   },
   {
    "duration": 2296,
    "start_time": "2023-06-16T15:45:47.193Z"
   },
   {
    "duration": 1952,
    "start_time": "2023-06-16T15:45:49.492Z"
   },
   {
    "duration": 38,
    "start_time": "2023-06-16T15:45:51.446Z"
   },
   {
    "duration": 4,
    "start_time": "2023-06-16T15:45:51.486Z"
   },
   {
    "duration": 9,
    "start_time": "2023-06-16T15:45:51.493Z"
   },
   {
    "duration": 22,
    "start_time": "2023-06-16T15:45:51.504Z"
   },
   {
    "duration": 6,
    "start_time": "2023-06-16T15:45:51.528Z"
   },
   {
    "duration": 27,
    "start_time": "2023-06-16T15:45:51.535Z"
   },
   {
    "duration": 23,
    "start_time": "2023-06-16T15:45:51.564Z"
   },
   {
    "duration": 13,
    "start_time": "2023-06-16T15:45:51.588Z"
   },
   {
    "duration": 9,
    "start_time": "2023-06-16T15:45:51.603Z"
   },
   {
    "duration": 10,
    "start_time": "2023-06-16T15:45:51.614Z"
   },
   {
    "duration": 7,
    "start_time": "2023-06-16T15:45:51.626Z"
   },
   {
    "duration": 409,
    "start_time": "2023-06-16T15:45:51.637Z"
   },
   {
    "duration": 172,
    "start_time": "2023-06-16T15:45:52.048Z"
   },
   {
    "duration": 181,
    "start_time": "2023-06-16T15:45:52.222Z"
   },
   {
    "duration": 16,
    "start_time": "2023-06-16T15:45:52.406Z"
   },
   {
    "duration": 475,
    "start_time": "2023-06-16T15:45:52.424Z"
   },
   {
    "duration": 206,
    "start_time": "2023-06-16T15:45:52.900Z"
   },
   {
    "duration": 179,
    "start_time": "2023-06-16T15:45:53.108Z"
   },
   {
    "duration": 677,
    "start_time": "2023-06-16T15:45:53.289Z"
   },
   {
    "duration": 118,
    "start_time": "2023-06-16T15:45:53.967Z"
   },
   {
    "duration": 24,
    "start_time": "2023-06-16T15:45:54.088Z"
   },
   {
    "duration": 32,
    "start_time": "2023-06-16T15:45:54.113Z"
   },
   {
    "duration": 380,
    "start_time": "2023-06-16T15:45:54.147Z"
   },
   {
    "duration": 182,
    "start_time": "2023-06-16T15:46:31.156Z"
   },
   {
    "duration": 276,
    "start_time": "2023-06-16T15:47:10.663Z"
   },
   {
    "duration": 303,
    "start_time": "2023-06-16T15:47:17.624Z"
   },
   {
    "duration": 341,
    "start_time": "2023-06-16T15:47:26.293Z"
   },
   {
    "duration": 209,
    "start_time": "2023-06-16T15:47:32.411Z"
   },
   {
    "duration": 21,
    "start_time": "2023-06-16T15:47:36.506Z"
   },
   {
    "duration": 24,
    "start_time": "2023-06-16T15:47:43.735Z"
   },
   {
    "duration": 34,
    "start_time": "2023-06-16T15:47:49.777Z"
   },
   {
    "duration": 6,
    "start_time": "2023-06-16T15:47:51.791Z"
   },
   {
    "duration": 25,
    "start_time": "2023-06-16T15:47:51.972Z"
   },
   {
    "duration": 176,
    "start_time": "2023-06-16T15:47:58.846Z"
   },
   {
    "duration": 123,
    "start_time": "2023-06-16T15:48:02.003Z"
   },
   {
    "duration": 273,
    "start_time": "2023-06-16T15:48:04.056Z"
   },
   {
    "duration": 388,
    "start_time": "2023-06-16T15:48:09.632Z"
   },
   {
    "duration": 364,
    "start_time": "2023-06-16T15:48:23.566Z"
   },
   {
    "duration": 162,
    "start_time": "2023-06-16T15:48:44.364Z"
   },
   {
    "duration": 184,
    "start_time": "2023-06-16T15:49:03.855Z"
   },
   {
    "duration": 6,
    "start_time": "2023-06-16T15:49:12.125Z"
   },
   {
    "duration": 220,
    "start_time": "2023-06-16T15:49:12.302Z"
   },
   {
    "duration": 11,
    "start_time": "2023-06-16T15:49:27.119Z"
   },
   {
    "duration": 12,
    "start_time": "2023-06-16T15:49:53.035Z"
   },
   {
    "duration": 433,
    "start_time": "2023-06-16T15:49:57.393Z"
   },
   {
    "duration": 7,
    "start_time": "2023-06-16T15:50:15.044Z"
   },
   {
    "duration": 566,
    "start_time": "2023-06-16T15:50:15.360Z"
   },
   {
    "duration": 5,
    "start_time": "2023-06-16T15:50:32.171Z"
   },
   {
    "duration": 1236,
    "start_time": "2023-06-16T15:50:32.890Z"
   },
   {
    "duration": 26,
    "start_time": "2023-06-16T15:50:38.894Z"
   },
   {
    "duration": 3,
    "start_time": "2023-06-16T15:50:39.289Z"
   },
   {
    "duration": 5,
    "start_time": "2023-06-16T15:50:39.875Z"
   },
   {
    "duration": 1122,
    "start_time": "2023-06-16T15:50:40.031Z"
   },
   {
    "duration": 303,
    "start_time": "2023-06-16T15:51:06.121Z"
   },
   {
    "duration": 372,
    "start_time": "2023-06-16T15:51:15.652Z"
   },
   {
    "duration": 329,
    "start_time": "2023-06-16T15:51:38.400Z"
   },
   {
    "duration": 479,
    "start_time": "2023-06-16T15:51:48.552Z"
   },
   {
    "duration": 537,
    "start_time": "2023-06-16T15:51:56.689Z"
   },
   {
    "duration": 914,
    "start_time": "2023-06-16T15:52:08.420Z"
   },
   {
    "duration": 4,
    "start_time": "2023-06-16T15:52:27.118Z"
   },
   {
    "duration": 23,
    "start_time": "2023-06-16T15:52:31.934Z"
   },
   {
    "duration": 1153,
    "start_time": "2023-06-16T15:52:32.099Z"
   },
   {
    "duration": 26,
    "start_time": "2023-06-16T15:52:33.253Z"
   },
   {
    "duration": 1443,
    "start_time": "2023-06-16T15:52:33.281Z"
   },
   {
    "duration": 165,
    "start_time": "2023-06-16T15:53:04.576Z"
   },
   {
    "duration": 46,
    "start_time": "2023-06-16T18:09:36.140Z"
   },
   {
    "duration": 2986,
    "start_time": "2023-06-16T18:09:51.392Z"
   },
   {
    "duration": 1885,
    "start_time": "2023-06-16T18:09:54.381Z"
   },
   {
    "duration": 68,
    "start_time": "2023-06-16T18:09:56.268Z"
   },
   {
    "duration": 4,
    "start_time": "2023-06-16T18:09:56.337Z"
   },
   {
    "duration": 6,
    "start_time": "2023-06-16T18:09:56.342Z"
   },
   {
    "duration": 23,
    "start_time": "2023-06-16T18:09:56.350Z"
   },
   {
    "duration": 3,
    "start_time": "2023-06-16T18:09:56.374Z"
   },
   {
    "duration": 17,
    "start_time": "2023-06-16T18:09:56.378Z"
   },
   {
    "duration": 22,
    "start_time": "2023-06-16T18:09:56.397Z"
   },
   {
    "duration": 13,
    "start_time": "2023-06-16T18:09:56.422Z"
   },
   {
    "duration": 6,
    "start_time": "2023-06-16T18:09:56.436Z"
   },
   {
    "duration": 12,
    "start_time": "2023-06-16T18:09:56.444Z"
   },
   {
    "duration": 27,
    "start_time": "2023-06-16T18:09:56.458Z"
   },
   {
    "duration": 333,
    "start_time": "2023-06-16T18:09:56.487Z"
   },
   {
    "duration": 149,
    "start_time": "2023-06-16T18:09:56.821Z"
   },
   {
    "duration": 165,
    "start_time": "2023-06-16T18:09:56.972Z"
   },
   {
    "duration": 6,
    "start_time": "2023-06-16T18:09:57.139Z"
   },
   {
    "duration": 487,
    "start_time": "2023-06-16T18:09:57.146Z"
   },
   {
    "duration": 174,
    "start_time": "2023-06-16T18:09:57.634Z"
   },
   {
    "duration": 146,
    "start_time": "2023-06-16T18:09:57.810Z"
   },
   {
    "duration": 661,
    "start_time": "2023-06-16T18:09:57.957Z"
   },
   {
    "duration": 110,
    "start_time": "2023-06-16T18:09:58.620Z"
   },
   {
    "duration": 23,
    "start_time": "2023-06-16T18:09:58.732Z"
   },
   {
    "duration": 30,
    "start_time": "2023-06-16T18:09:58.756Z"
   },
   {
    "duration": 2975,
    "start_time": "2023-06-16T18:09:58.787Z"
   },
   {
    "duration": 3351,
    "start_time": "2023-06-16T18:10:13.605Z"
   },
   {
    "duration": 5,
    "start_time": "2023-06-16T18:10:32.687Z"
   },
   {
    "duration": 154,
    "start_time": "2023-06-16T18:10:33.218Z"
   },
   {
    "duration": 5,
    "start_time": "2023-06-16T18:10:37.858Z"
   },
   {
    "duration": 14,
    "start_time": "2023-06-16T18:10:38.726Z"
   },
   {
    "duration": 4,
    "start_time": "2023-06-16T18:10:53.640Z"
   },
   {
    "duration": 3607,
    "start_time": "2023-06-16T18:10:54.167Z"
   },
   {
    "duration": 3871,
    "start_time": "2023-06-16T18:11:13.596Z"
   },
   {
    "duration": 3600,
    "start_time": "2023-06-16T18:11:39.362Z"
   },
   {
    "duration": 4093,
    "start_time": "2023-06-16T18:11:55.889Z"
   },
   {
    "duration": 3947,
    "start_time": "2023-06-16T18:12:17.722Z"
   },
   {
    "duration": 4131,
    "start_time": "2023-06-16T18:12:27.823Z"
   },
   {
    "duration": 6726,
    "start_time": "2023-06-16T18:12:51.732Z"
   },
   {
    "duration": 1995,
    "start_time": "2023-06-16T18:13:08.691Z"
   },
   {
    "duration": 1677,
    "start_time": "2023-06-16T18:13:10.688Z"
   },
   {
    "duration": 35,
    "start_time": "2023-06-16T18:13:12.367Z"
   },
   {
    "duration": 3,
    "start_time": "2023-06-16T18:13:12.405Z"
   },
   {
    "duration": 15,
    "start_time": "2023-06-16T18:13:12.410Z"
   },
   {
    "duration": 23,
    "start_time": "2023-06-16T18:13:12.426Z"
   },
   {
    "duration": 3,
    "start_time": "2023-06-16T18:13:12.451Z"
   },
   {
    "duration": 12,
    "start_time": "2023-06-16T18:13:12.455Z"
   },
   {
    "duration": 16,
    "start_time": "2023-06-16T18:13:12.468Z"
   },
   {
    "duration": 22,
    "start_time": "2023-06-16T18:13:12.486Z"
   },
   {
    "duration": 18,
    "start_time": "2023-06-16T18:13:12.510Z"
   },
   {
    "duration": 10,
    "start_time": "2023-06-16T18:13:12.530Z"
   },
   {
    "duration": 4,
    "start_time": "2023-06-16T18:13:12.542Z"
   },
   {
    "duration": 307,
    "start_time": "2023-06-16T18:13:12.547Z"
   },
   {
    "duration": 144,
    "start_time": "2023-06-16T18:13:12.855Z"
   },
   {
    "duration": 168,
    "start_time": "2023-06-16T18:13:13.000Z"
   },
   {
    "duration": 5,
    "start_time": "2023-06-16T18:13:13.169Z"
   },
   {
    "duration": 430,
    "start_time": "2023-06-16T18:13:13.176Z"
   },
   {
    "duration": 175,
    "start_time": "2023-06-16T18:13:13.607Z"
   },
   {
    "duration": 144,
    "start_time": "2023-06-16T18:13:13.784Z"
   },
   {
    "duration": 621,
    "start_time": "2023-06-16T18:13:13.929Z"
   },
   {
    "duration": 116,
    "start_time": "2023-06-16T18:13:14.552Z"
   },
   {
    "duration": 2,
    "start_time": "2023-06-16T18:13:14.670Z"
   },
   {
    "duration": 6,
    "start_time": "2023-06-16T18:13:14.673Z"
   },
   {
    "duration": 7084,
    "start_time": "2023-06-16T18:13:14.680Z"
   },
   {
    "duration": 131,
    "start_time": "2023-06-16T18:16:45.875Z"
   },
   {
    "duration": 6683,
    "start_time": "2023-06-16T18:16:46.394Z"
   },
   {
    "duration": 8,
    "start_time": "2023-06-16T18:17:03.225Z"
   },
   {
    "duration": 10523,
    "start_time": "2023-06-16T18:17:03.755Z"
   },
   {
    "duration": 4,
    "start_time": "2023-06-16T18:22:08.975Z"
   },
   {
    "duration": 9810,
    "start_time": "2023-06-16T18:22:11.750Z"
   },
   {
    "duration": 7,
    "start_time": "2023-06-16T18:22:59.734Z"
   },
   {
    "duration": 4,
    "start_time": "2023-06-16T18:22:59.893Z"
   },
   {
    "duration": 9233,
    "start_time": "2023-06-16T18:23:00.935Z"
   },
   {
    "duration": 6,
    "start_time": "2023-06-16T18:23:12.331Z"
   },
   {
    "duration": 9803,
    "start_time": "2023-06-16T18:23:12.671Z"
   },
   {
    "duration": 6,
    "start_time": "2023-06-16T18:29:33.434Z"
   },
   {
    "duration": 4,
    "start_time": "2023-06-16T18:29:34.840Z"
   },
   {
    "duration": 13213,
    "start_time": "2023-06-16T18:29:35.068Z"
   },
   {
    "duration": 11972,
    "start_time": "2023-06-16T18:30:11.393Z"
   },
   {
    "duration": 12808,
    "start_time": "2023-06-16T18:30:26.968Z"
   },
   {
    "duration": 12763,
    "start_time": "2023-06-16T18:30:44.298Z"
   },
   {
    "duration": 13131,
    "start_time": "2023-06-16T18:30:59.256Z"
   },
   {
    "duration": 106,
    "start_time": "2023-06-16T18:34:38.018Z"
   },
   {
    "duration": 11,
    "start_time": "2023-06-16T18:34:43.318Z"
   },
   {
    "duration": 11,
    "start_time": "2023-06-16T18:34:53.973Z"
   },
   {
    "duration": 458,
    "start_time": "2023-06-16T18:35:10.422Z"
   },
   {
    "duration": 2094,
    "start_time": "2023-06-16T18:35:18.814Z"
   },
   {
    "duration": 1770,
    "start_time": "2023-06-16T18:35:20.910Z"
   },
   {
    "duration": 38,
    "start_time": "2023-06-16T18:35:22.682Z"
   },
   {
    "duration": 3,
    "start_time": "2023-06-16T18:35:22.722Z"
   },
   {
    "duration": 17,
    "start_time": "2023-06-16T18:35:22.727Z"
   },
   {
    "duration": 45,
    "start_time": "2023-06-16T18:35:22.746Z"
   },
   {
    "duration": 24,
    "start_time": "2023-06-16T18:35:22.793Z"
   },
   {
    "duration": 7,
    "start_time": "2023-06-16T18:35:22.818Z"
   },
   {
    "duration": 10,
    "start_time": "2023-06-16T18:35:22.827Z"
   },
   {
    "duration": 27,
    "start_time": "2023-06-16T18:35:22.838Z"
   },
   {
    "duration": 10,
    "start_time": "2023-06-16T18:35:22.866Z"
   },
   {
    "duration": 37,
    "start_time": "2023-06-16T18:35:22.878Z"
   },
   {
    "duration": 13,
    "start_time": "2023-06-16T18:35:22.916Z"
   },
   {
    "duration": 330,
    "start_time": "2023-06-16T18:35:22.931Z"
   },
   {
    "duration": 162,
    "start_time": "2023-06-16T18:35:23.262Z"
   },
   {
    "duration": 196,
    "start_time": "2023-06-16T18:35:23.427Z"
   },
   {
    "duration": 7,
    "start_time": "2023-06-16T18:35:23.625Z"
   },
   {
    "duration": 496,
    "start_time": "2023-06-16T18:35:23.633Z"
   },
   {
    "duration": 199,
    "start_time": "2023-06-16T18:35:24.131Z"
   },
   {
    "duration": 168,
    "start_time": "2023-06-16T18:35:24.332Z"
   },
   {
    "duration": 705,
    "start_time": "2023-06-16T18:35:24.501Z"
   },
   {
    "duration": 123,
    "start_time": "2023-06-16T18:35:25.207Z"
   },
   {
    "duration": 3,
    "start_time": "2023-06-16T18:35:25.331Z"
   },
   {
    "duration": 26,
    "start_time": "2023-06-16T18:35:25.335Z"
   },
   {
    "duration": 11,
    "start_time": "2023-06-16T18:35:25.362Z"
   },
   {
    "duration": 11197,
    "start_time": "2023-06-16T18:35:25.374Z"
   },
   {
    "duration": 7,
    "start_time": "2023-06-16T18:35:36.572Z"
   },
   {
    "duration": 209,
    "start_time": "2023-06-16T18:35:36.580Z"
   },
   {
    "duration": 3,
    "start_time": "2023-06-16T18:36:25.111Z"
   },
   {
    "duration": 6,
    "start_time": "2023-06-16T18:36:25.665Z"
   },
   {
    "duration": 5,
    "start_time": "2023-06-16T18:36:25.939Z"
   },
   {
    "duration": 8613,
    "start_time": "2023-06-16T18:36:26.754Z"
   },
   {
    "duration": 514,
    "start_time": "2023-06-16T18:36:39.042Z"
   },
   {
    "duration": 10712,
    "start_time": "2023-06-16T18:36:48.451Z"
   },
   {
    "duration": 9840,
    "start_time": "2023-06-16T18:37:00.923Z"
   },
   {
    "duration": 2188,
    "start_time": "2023-06-16T18:37:41.412Z"
   },
   {
    "duration": 1815,
    "start_time": "2023-06-16T18:37:43.602Z"
   },
   {
    "duration": 39,
    "start_time": "2023-06-16T18:37:45.418Z"
   },
   {
    "duration": 6,
    "start_time": "2023-06-16T18:37:45.459Z"
   },
   {
    "duration": 26,
    "start_time": "2023-06-16T18:37:45.467Z"
   },
   {
    "duration": 35,
    "start_time": "2023-06-16T18:37:45.495Z"
   },
   {
    "duration": 3,
    "start_time": "2023-06-16T18:37:45.531Z"
   },
   {
    "duration": 26,
    "start_time": "2023-06-16T18:37:45.535Z"
   },
   {
    "duration": 12,
    "start_time": "2023-06-16T18:37:45.565Z"
   },
   {
    "duration": 18,
    "start_time": "2023-06-16T18:37:45.579Z"
   },
   {
    "duration": 16,
    "start_time": "2023-06-16T18:37:45.598Z"
   },
   {
    "duration": 14,
    "start_time": "2023-06-16T18:37:45.615Z"
   },
   {
    "duration": 22,
    "start_time": "2023-06-16T18:37:45.630Z"
   },
   {
    "duration": 345,
    "start_time": "2023-06-16T18:37:45.654Z"
   },
   {
    "duration": 169,
    "start_time": "2023-06-16T18:37:46.001Z"
   },
   {
    "duration": 161,
    "start_time": "2023-06-16T18:37:46.172Z"
   },
   {
    "duration": 6,
    "start_time": "2023-06-16T18:37:46.334Z"
   },
   {
    "duration": 490,
    "start_time": "2023-06-16T18:37:46.341Z"
   },
   {
    "duration": 183,
    "start_time": "2023-06-16T18:37:46.832Z"
   },
   {
    "duration": 163,
    "start_time": "2023-06-16T18:37:47.017Z"
   },
   {
    "duration": 807,
    "start_time": "2023-06-16T18:37:47.182Z"
   },
   {
    "duration": 19,
    "start_time": "2023-06-16T18:37:47.991Z"
   },
   {
    "duration": 5,
    "start_time": "2023-06-16T18:37:48.012Z"
   },
   {
    "duration": 17,
    "start_time": "2023-06-16T18:37:48.018Z"
   },
   {
    "duration": 11,
    "start_time": "2023-06-16T18:37:48.036Z"
   },
   {
    "duration": 13332,
    "start_time": "2023-06-16T18:37:48.048Z"
   },
   {
    "duration": 79,
    "start_time": "2023-06-16T18:38:01.381Z"
   },
   {
    "duration": 155,
    "start_time": "2023-06-16T18:38:01.468Z"
   },
   {
    "duration": 26,
    "start_time": "2023-06-16T18:38:46.319Z"
   },
   {
    "duration": 22,
    "start_time": "2023-06-16T18:39:15.789Z"
   },
   {
    "duration": 3,
    "start_time": "2023-06-16T18:39:23.375Z"
   },
   {
    "duration": 7,
    "start_time": "2023-06-16T18:39:23.916Z"
   },
   {
    "duration": 5,
    "start_time": "2023-06-16T18:39:24.395Z"
   },
   {
    "duration": 28,
    "start_time": "2023-06-16T18:39:24.962Z"
   },
   {
    "duration": 28,
    "start_time": "2023-06-16T18:39:53.547Z"
   },
   {
    "duration": 26,
    "start_time": "2023-06-16T18:39:58.768Z"
   },
   {
    "duration": 23,
    "start_time": "2023-06-16T18:40:11.152Z"
   },
   {
    "duration": 21,
    "start_time": "2023-06-16T18:40:14.685Z"
   },
   {
    "duration": 26,
    "start_time": "2023-06-16T18:40:20.390Z"
   },
   {
    "duration": 24,
    "start_time": "2023-06-16T18:40:57.510Z"
   },
   {
    "duration": 7,
    "start_time": "2023-06-16T18:41:03.567Z"
   },
   {
    "duration": 5,
    "start_time": "2023-06-16T18:41:03.813Z"
   },
   {
    "duration": 37,
    "start_time": "2023-06-16T18:41:04.858Z"
   },
   {
    "duration": 27,
    "start_time": "2023-06-16T18:41:11.771Z"
   },
   {
    "duration": 14608,
    "start_time": "2023-06-16T18:41:14.459Z"
   },
   {
    "duration": 19,
    "start_time": "2023-06-16T18:43:04.397Z"
   },
   {
    "duration": 22,
    "start_time": "2023-06-16T18:43:12.264Z"
   },
   {
    "duration": 27,
    "start_time": "2023-06-16T18:43:17.361Z"
   },
   {
    "duration": 18,
    "start_time": "2023-06-16T18:43:20.477Z"
   },
   {
    "duration": 7,
    "start_time": "2023-06-16T18:43:21.978Z"
   },
   {
    "duration": 4,
    "start_time": "2023-06-16T18:43:22.466Z"
   },
   {
    "duration": 10098,
    "start_time": "2023-06-16T18:43:23.273Z"
   },
   {
    "duration": 10258,
    "start_time": "2023-06-16T18:44:17.816Z"
   },
   {
    "duration": 25,
    "start_time": "2023-06-16T18:46:36.459Z"
   },
   {
    "duration": 7,
    "start_time": "2023-06-16T18:46:49.241Z"
   },
   {
    "duration": 7,
    "start_time": "2023-06-16T18:47:40.778Z"
   },
   {
    "duration": 23,
    "start_time": "2023-06-16T18:47:41.256Z"
   },
   {
    "duration": 20,
    "start_time": "2023-06-16T18:48:23.367Z"
   },
   {
    "duration": 19,
    "start_time": "2023-06-16T18:49:21.909Z"
   },
   {
    "duration": 2220,
    "start_time": "2023-06-16T18:50:50.730Z"
   },
   {
    "duration": 1817,
    "start_time": "2023-06-16T18:50:52.952Z"
   },
   {
    "duration": 37,
    "start_time": "2023-06-16T18:50:54.770Z"
   },
   {
    "duration": 3,
    "start_time": "2023-06-16T18:50:54.809Z"
   },
   {
    "duration": 14,
    "start_time": "2023-06-16T18:50:54.813Z"
   },
   {
    "duration": 24,
    "start_time": "2023-06-16T18:50:54.829Z"
   },
   {
    "duration": 8,
    "start_time": "2023-06-16T18:50:54.856Z"
   },
   {
    "duration": 15,
    "start_time": "2023-06-16T18:50:54.865Z"
   },
   {
    "duration": 16,
    "start_time": "2023-06-16T18:50:54.882Z"
   },
   {
    "duration": 22,
    "start_time": "2023-06-16T18:50:54.900Z"
   },
   {
    "duration": 5,
    "start_time": "2023-06-16T18:50:54.924Z"
   },
   {
    "duration": 13,
    "start_time": "2023-06-16T18:50:54.930Z"
   },
   {
    "duration": 7,
    "start_time": "2023-06-16T18:50:54.945Z"
   },
   {
    "duration": 348,
    "start_time": "2023-06-16T18:50:54.953Z"
   },
   {
    "duration": 164,
    "start_time": "2023-06-16T18:50:55.303Z"
   },
   {
    "duration": 177,
    "start_time": "2023-06-16T18:50:55.469Z"
   },
   {
    "duration": 9,
    "start_time": "2023-06-16T18:50:55.649Z"
   },
   {
    "duration": 440,
    "start_time": "2023-06-16T18:50:55.659Z"
   },
   {
    "duration": 180,
    "start_time": "2023-06-16T18:50:56.101Z"
   },
   {
    "duration": 159,
    "start_time": "2023-06-16T18:50:56.283Z"
   },
   {
    "duration": 664,
    "start_time": "2023-06-16T18:50:56.444Z"
   },
   {
    "duration": 119,
    "start_time": "2023-06-16T18:50:57.109Z"
   },
   {
    "duration": 6,
    "start_time": "2023-06-16T18:50:57.229Z"
   },
   {
    "duration": 24,
    "start_time": "2023-06-16T18:50:57.236Z"
   },
   {
    "duration": 13097,
    "start_time": "2023-06-16T18:50:57.263Z"
   },
   {
    "duration": 4,
    "start_time": "2023-06-16T18:51:10.363Z"
   },
   {
    "duration": 13,
    "start_time": "2023-06-16T18:51:10.370Z"
   },
   {
    "duration": 1897,
    "start_time": "2023-06-16T18:51:10.387Z"
   },
   {
    "duration": 3717,
    "start_time": "2023-06-16T18:51:34.415Z"
   },
   {
    "duration": 3111,
    "start_time": "2023-06-18T08:56:48.697Z"
   },
   {
    "duration": 1993,
    "start_time": "2023-06-18T08:56:51.810Z"
   },
   {
    "duration": 86,
    "start_time": "2023-06-18T08:56:53.804Z"
   },
   {
    "duration": 4,
    "start_time": "2023-06-18T08:56:53.892Z"
   },
   {
    "duration": 8,
    "start_time": "2023-06-18T08:56:53.899Z"
   },
   {
    "duration": 30,
    "start_time": "2023-06-18T08:56:53.908Z"
   },
   {
    "duration": 3,
    "start_time": "2023-06-18T08:56:53.939Z"
   },
   {
    "duration": 6,
    "start_time": "2023-06-18T08:56:53.944Z"
   },
   {
    "duration": 17,
    "start_time": "2023-06-18T08:56:53.977Z"
   },
   {
    "duration": 11,
    "start_time": "2023-06-18T08:56:53.996Z"
   },
   {
    "duration": 16,
    "start_time": "2023-06-18T08:56:54.009Z"
   },
   {
    "duration": 6,
    "start_time": "2023-06-18T08:56:54.027Z"
   },
   {
    "duration": 6,
    "start_time": "2023-06-18T08:56:54.035Z"
   },
   {
    "duration": 404,
    "start_time": "2023-06-18T08:56:54.044Z"
   },
   {
    "duration": 165,
    "start_time": "2023-06-18T08:56:54.449Z"
   },
   {
    "duration": 174,
    "start_time": "2023-06-18T08:56:54.616Z"
   },
   {
    "duration": 6,
    "start_time": "2023-06-18T08:56:54.792Z"
   },
   {
    "duration": 429,
    "start_time": "2023-06-18T08:56:54.799Z"
   },
   {
    "duration": 178,
    "start_time": "2023-06-18T08:56:55.229Z"
   },
   {
    "duration": 151,
    "start_time": "2023-06-18T08:56:55.409Z"
   },
   {
    "duration": 653,
    "start_time": "2023-06-18T08:56:55.562Z"
   },
   {
    "duration": 115,
    "start_time": "2023-06-18T08:56:56.216Z"
   },
   {
    "duration": 6,
    "start_time": "2023-06-18T08:56:56.332Z"
   },
   {
    "duration": 6,
    "start_time": "2023-06-18T08:56:56.340Z"
   },
   {
    "duration": 8930,
    "start_time": "2023-06-18T08:56:56.347Z"
   },
   {
    "duration": 2,
    "start_time": "2023-06-18T08:57:05.279Z"
   },
   {
    "duration": 8,
    "start_time": "2023-06-18T08:57:05.283Z"
   },
   {
    "duration": 3407,
    "start_time": "2023-06-18T08:57:05.292Z"
   },
   {
    "duration": 5,
    "start_time": "2023-06-18T08:57:58.857Z"
   },
   {
    "duration": 10695,
    "start_time": "2023-06-18T08:57:58.997Z"
   },
   {
    "duration": 6,
    "start_time": "2023-06-18T08:58:19.298Z"
   },
   {
    "duration": 6,
    "start_time": "2023-06-18T08:58:19.719Z"
   },
   {
    "duration": 17145,
    "start_time": "2023-06-18T08:58:20.434Z"
   },
   {
    "duration": 7,
    "start_time": "2023-06-18T08:58:42.990Z"
   },
   {
    "duration": 3795,
    "start_time": "2023-06-18T08:58:44.246Z"
   },
   {
    "duration": 2302,
    "start_time": "2023-06-18T08:59:23.238Z"
   },
   {
    "duration": 2051,
    "start_time": "2023-06-18T08:59:25.543Z"
   },
   {
    "duration": 42,
    "start_time": "2023-06-18T08:59:27.596Z"
   },
   {
    "duration": 4,
    "start_time": "2023-06-18T08:59:27.640Z"
   },
   {
    "duration": 8,
    "start_time": "2023-06-18T08:59:27.645Z"
   },
   {
    "duration": 56,
    "start_time": "2023-06-18T08:59:27.655Z"
   },
   {
    "duration": 3,
    "start_time": "2023-06-18T08:59:27.714Z"
   },
   {
    "duration": 8,
    "start_time": "2023-06-18T08:59:27.719Z"
   },
   {
    "duration": 13,
    "start_time": "2023-06-18T08:59:27.729Z"
   },
   {
    "duration": 9,
    "start_time": "2023-06-18T08:59:27.744Z"
   },
   {
    "duration": 16,
    "start_time": "2023-06-18T08:59:27.754Z"
   },
   {
    "duration": 8,
    "start_time": "2023-06-18T08:59:27.772Z"
   },
   {
    "duration": 17,
    "start_time": "2023-06-18T08:59:27.782Z"
   },
   {
    "duration": 396,
    "start_time": "2023-06-18T08:59:27.801Z"
   },
   {
    "duration": 172,
    "start_time": "2023-06-18T08:59:28.199Z"
   },
   {
    "duration": 185,
    "start_time": "2023-06-18T08:59:28.373Z"
   },
   {
    "duration": 9,
    "start_time": "2023-06-18T08:59:28.560Z"
   },
   {
    "duration": 503,
    "start_time": "2023-06-18T08:59:28.572Z"
   },
   {
    "duration": 212,
    "start_time": "2023-06-18T08:59:29.076Z"
   },
   {
    "duration": 194,
    "start_time": "2023-06-18T08:59:29.290Z"
   },
   {
    "duration": 824,
    "start_time": "2023-06-18T08:59:29.487Z"
   },
   {
    "duration": 15,
    "start_time": "2023-06-18T08:59:30.313Z"
   },
   {
    "duration": 58,
    "start_time": "2023-06-18T08:59:30.330Z"
   },
   {
    "duration": 34,
    "start_time": "2023-06-18T08:59:30.390Z"
   },
   {
    "duration": 15667,
    "start_time": "2023-06-18T08:59:30.426Z"
   },
   {
    "duration": 3,
    "start_time": "2023-06-18T08:59:46.095Z"
   },
   {
    "duration": 74,
    "start_time": "2023-06-18T08:59:46.100Z"
   },
   {
    "duration": 3851,
    "start_time": "2023-06-18T08:59:46.178Z"
   },
   {
    "duration": 8,
    "start_time": "2023-06-18T09:00:50.394Z"
   },
   {
    "duration": 3705,
    "start_time": "2023-06-18T09:00:50.834Z"
   },
   {
    "duration": 5,
    "start_time": "2023-06-18T09:02:50.426Z"
   },
   {
    "duration": 6,
    "start_time": "2023-06-18T09:02:50.572Z"
   },
   {
    "duration": 9065,
    "start_time": "2023-06-18T09:02:51.626Z"
   },
   {
    "duration": 2152,
    "start_time": "2023-06-18T09:03:17.905Z"
   },
   {
    "duration": 4,
    "start_time": "2023-06-18T09:03:20.059Z"
   },
   {
    "duration": 49,
    "start_time": "2023-06-18T09:03:20.065Z"
   },
   {
    "duration": 4,
    "start_time": "2023-06-18T09:03:20.115Z"
   },
   {
    "duration": 11,
    "start_time": "2023-06-18T09:03:20.122Z"
   },
   {
    "duration": 27,
    "start_time": "2023-06-18T09:03:20.134Z"
   },
   {
    "duration": 2,
    "start_time": "2023-06-18T09:03:20.163Z"
   },
   {
    "duration": 19,
    "start_time": "2023-06-18T09:03:20.167Z"
   },
   {
    "duration": 33,
    "start_time": "2023-06-18T09:03:20.187Z"
   },
   {
    "duration": 13,
    "start_time": "2023-06-18T09:03:20.221Z"
   },
   {
    "duration": 5,
    "start_time": "2023-06-18T09:03:20.236Z"
   },
   {
    "duration": 8,
    "start_time": "2023-06-18T09:03:20.242Z"
   },
   {
    "duration": 9,
    "start_time": "2023-06-18T09:03:20.251Z"
   },
   {
    "duration": 238,
    "start_time": "2023-06-18T09:03:20.262Z"
   },
   {
    "duration": 153,
    "start_time": "2023-06-18T09:03:20.502Z"
   },
   {
    "duration": 171,
    "start_time": "2023-06-18T09:03:20.656Z"
   },
   {
    "duration": 5,
    "start_time": "2023-06-18T09:03:20.829Z"
   },
   {
    "duration": 427,
    "start_time": "2023-06-18T09:03:20.835Z"
   },
   {
    "duration": 175,
    "start_time": "2023-06-18T09:03:21.267Z"
   },
   {
    "duration": 149,
    "start_time": "2023-06-18T09:03:21.444Z"
   },
   {
    "duration": 718,
    "start_time": "2023-06-18T09:03:21.595Z"
   },
   {
    "duration": 16,
    "start_time": "2023-06-18T09:03:22.315Z"
   },
   {
    "duration": 7,
    "start_time": "2023-06-18T09:03:22.332Z"
   },
   {
    "duration": 28,
    "start_time": "2023-06-18T09:03:22.341Z"
   },
   {
    "duration": 39944,
    "start_time": "2023-06-18T09:03:22.370Z"
   },
   {
    "duration": 5,
    "start_time": "2023-06-18T09:04:07.452Z"
   },
   {
    "duration": 6,
    "start_time": "2023-06-18T09:04:07.863Z"
   },
   {
    "duration": 13362,
    "start_time": "2023-06-18T09:04:08.332Z"
   },
   {
    "duration": 42185,
    "start_time": "2023-06-18T09:04:30.501Z"
   },
   {
    "duration": 4,
    "start_time": "2023-06-18T09:06:21.697Z"
   },
   {
    "duration": 5460,
    "start_time": "2023-06-18T09:07:01.901Z"
   },
   {
    "duration": 2270,
    "start_time": "2023-06-18T09:07:11.834Z"
   },
   {
    "duration": 1790,
    "start_time": "2023-06-18T09:07:14.106Z"
   },
   {
    "duration": 36,
    "start_time": "2023-06-18T09:07:15.898Z"
   },
   {
    "duration": 3,
    "start_time": "2023-06-18T09:07:15.936Z"
   },
   {
    "duration": 10,
    "start_time": "2023-06-18T09:07:15.941Z"
   },
   {
    "duration": 40,
    "start_time": "2023-06-18T09:07:15.952Z"
   },
   {
    "duration": 3,
    "start_time": "2023-06-18T09:07:15.994Z"
   },
   {
    "duration": 8,
    "start_time": "2023-06-18T09:07:15.998Z"
   },
   {
    "duration": 10,
    "start_time": "2023-06-18T09:07:16.007Z"
   },
   {
    "duration": 17,
    "start_time": "2023-06-18T09:07:16.019Z"
   },
   {
    "duration": 5,
    "start_time": "2023-06-18T09:07:16.037Z"
   },
   {
    "duration": 5,
    "start_time": "2023-06-18T09:07:16.044Z"
   },
   {
    "duration": 7,
    "start_time": "2023-06-18T09:07:16.050Z"
   },
   {
    "duration": 340,
    "start_time": "2023-06-18T09:07:16.070Z"
   },
   {
    "duration": 158,
    "start_time": "2023-06-18T09:07:16.412Z"
   },
   {
    "duration": 185,
    "start_time": "2023-06-18T09:07:16.572Z"
   },
   {
    "duration": 10,
    "start_time": "2023-06-18T09:07:16.758Z"
   },
   {
    "duration": 471,
    "start_time": "2023-06-18T09:07:16.770Z"
   },
   {
    "duration": 189,
    "start_time": "2023-06-18T09:07:17.245Z"
   },
   {
    "duration": 156,
    "start_time": "2023-06-18T09:07:17.436Z"
   },
   {
    "duration": 631,
    "start_time": "2023-06-18T09:07:17.594Z"
   },
   {
    "duration": 119,
    "start_time": "2023-06-18T09:07:18.227Z"
   },
   {
    "duration": 13,
    "start_time": "2023-06-18T09:07:18.347Z"
   },
   {
    "duration": 28,
    "start_time": "2023-06-18T09:07:18.361Z"
   },
   {
    "duration": 39685,
    "start_time": "2023-06-18T09:07:18.391Z"
   },
   {
    "duration": 2,
    "start_time": "2023-06-18T09:07:58.078Z"
   },
   {
    "duration": 13,
    "start_time": "2023-06-18T09:07:58.081Z"
   },
   {
    "duration": 6,
    "start_time": "2023-06-18T09:08:14.771Z"
   },
   {
    "duration": 17094,
    "start_time": "2023-06-18T09:08:14.779Z"
   },
   {
    "duration": 3851,
    "start_time": "2023-06-18T09:09:27.774Z"
   },
   {
    "duration": 2034,
    "start_time": "2023-06-18T09:09:34.771Z"
   },
   {
    "duration": 3,
    "start_time": "2023-06-18T09:09:36.807Z"
   },
   {
    "duration": 46,
    "start_time": "2023-06-18T09:09:36.811Z"
   },
   {
    "duration": 4,
    "start_time": "2023-06-18T09:09:36.858Z"
   },
   {
    "duration": 7,
    "start_time": "2023-06-18T09:09:36.863Z"
   },
   {
    "duration": 20,
    "start_time": "2023-06-18T09:09:36.871Z"
   },
   {
    "duration": 3,
    "start_time": "2023-06-18T09:09:36.892Z"
   },
   {
    "duration": 7,
    "start_time": "2023-06-18T09:09:36.896Z"
   },
   {
    "duration": 11,
    "start_time": "2023-06-18T09:09:36.905Z"
   },
   {
    "duration": 7,
    "start_time": "2023-06-18T09:09:36.919Z"
   },
   {
    "duration": 6,
    "start_time": "2023-06-18T09:09:36.927Z"
   },
   {
    "duration": 37,
    "start_time": "2023-06-18T09:09:36.934Z"
   },
   {
    "duration": 4,
    "start_time": "2023-06-18T09:09:36.972Z"
   },
   {
    "duration": 247,
    "start_time": "2023-06-18T09:09:36.977Z"
   },
   {
    "duration": 166,
    "start_time": "2023-06-18T09:09:37.227Z"
   },
   {
    "duration": 161,
    "start_time": "2023-06-18T09:09:37.395Z"
   },
   {
    "duration": 10,
    "start_time": "2023-06-18T09:09:37.558Z"
   },
   {
    "duration": 425,
    "start_time": "2023-06-18T09:09:37.570Z"
   },
   {
    "duration": 176,
    "start_time": "2023-06-18T09:09:37.997Z"
   },
   {
    "duration": 142,
    "start_time": "2023-06-18T09:09:38.175Z"
   },
   {
    "duration": 721,
    "start_time": "2023-06-18T09:09:38.319Z"
   },
   {
    "duration": 18,
    "start_time": "2023-06-18T09:09:39.041Z"
   },
   {
    "duration": 7,
    "start_time": "2023-06-18T09:09:39.068Z"
   },
   {
    "duration": 6,
    "start_time": "2023-06-18T09:09:39.076Z"
   },
   {
    "duration": 26,
    "start_time": "2023-06-18T09:09:39.084Z"
   },
   {
    "duration": 0,
    "start_time": "2023-06-18T09:09:39.112Z"
   },
   {
    "duration": 0,
    "start_time": "2023-06-18T09:09:39.113Z"
   },
   {
    "duration": 0,
    "start_time": "2023-06-18T09:09:39.114Z"
   },
   {
    "duration": 40283,
    "start_time": "2023-06-18T09:09:48.001Z"
   },
   {
    "duration": 7,
    "start_time": "2023-06-18T09:11:03.942Z"
   },
   {
    "duration": 16371,
    "start_time": "2023-06-18T09:11:04.110Z"
   },
   {
    "duration": 6528,
    "start_time": "2023-06-18T09:11:45.751Z"
   },
   {
    "duration": 83,
    "start_time": "2023-06-18T09:13:28.450Z"
   },
   {
    "duration": 7046,
    "start_time": "2023-06-18T09:13:42.732Z"
   },
   {
    "duration": 2127,
    "start_time": "2023-06-18T09:14:01.155Z"
   },
   {
    "duration": 3,
    "start_time": "2023-06-18T09:14:03.285Z"
   },
   {
    "duration": 54,
    "start_time": "2023-06-18T09:14:03.290Z"
   },
   {
    "duration": 4,
    "start_time": "2023-06-18T09:14:03.346Z"
   },
   {
    "duration": 10,
    "start_time": "2023-06-18T09:14:03.352Z"
   },
   {
    "duration": 29,
    "start_time": "2023-06-18T09:14:03.363Z"
   },
   {
    "duration": 3,
    "start_time": "2023-06-18T09:14:03.393Z"
   },
   {
    "duration": 19,
    "start_time": "2023-06-18T09:14:03.397Z"
   },
   {
    "duration": 27,
    "start_time": "2023-06-18T09:14:03.417Z"
   },
   {
    "duration": 24,
    "start_time": "2023-06-18T09:14:03.446Z"
   },
   {
    "duration": 4,
    "start_time": "2023-06-18T09:14:03.472Z"
   },
   {
    "duration": 12,
    "start_time": "2023-06-18T09:14:03.477Z"
   },
   {
    "duration": 7,
    "start_time": "2023-06-18T09:14:03.490Z"
   },
   {
    "duration": 245,
    "start_time": "2023-06-18T09:14:03.499Z"
   },
   {
    "duration": 290,
    "start_time": "2023-06-18T09:14:03.746Z"
   },
   {
    "duration": 197,
    "start_time": "2023-06-18T09:14:04.038Z"
   },
   {
    "duration": 5,
    "start_time": "2023-06-18T09:14:04.237Z"
   },
   {
    "duration": 431,
    "start_time": "2023-06-18T09:14:04.244Z"
   },
   {
    "duration": 169,
    "start_time": "2023-06-18T09:14:04.677Z"
   },
   {
    "duration": 144,
    "start_time": "2023-06-18T09:14:04.847Z"
   },
   {
    "duration": 648,
    "start_time": "2023-06-18T09:14:04.992Z"
   },
   {
    "duration": 14,
    "start_time": "2023-06-18T09:14:05.641Z"
   },
   {
    "duration": 65,
    "start_time": "2023-06-18T09:14:05.657Z"
   },
   {
    "duration": 8,
    "start_time": "2023-06-18T09:14:05.723Z"
   },
   {
    "duration": 40853,
    "start_time": "2023-06-18T09:14:05.732Z"
   },
   {
    "duration": 2,
    "start_time": "2023-06-18T09:14:46.587Z"
   },
   {
    "duration": 82,
    "start_time": "2023-06-18T09:14:46.591Z"
   },
   {
    "duration": 15790,
    "start_time": "2023-06-18T09:14:46.675Z"
   },
   {
    "duration": 28616,
    "start_time": "2023-06-18T09:15:19.264Z"
   },
   {
    "duration": 0,
    "start_time": "2023-06-18T09:15:47.882Z"
   },
   {
    "duration": 0,
    "start_time": "2023-06-18T09:15:47.883Z"
   },
   {
    "duration": 2084,
    "start_time": "2023-06-18T09:15:53.251Z"
   },
   {
    "duration": 4,
    "start_time": "2023-06-18T09:15:55.337Z"
   },
   {
    "duration": 46,
    "start_time": "2023-06-18T09:15:55.342Z"
   },
   {
    "duration": 4,
    "start_time": "2023-06-18T09:15:55.390Z"
   },
   {
    "duration": 10,
    "start_time": "2023-06-18T09:15:55.395Z"
   },
   {
    "duration": 22,
    "start_time": "2023-06-18T09:15:55.407Z"
   },
   {
    "duration": 2,
    "start_time": "2023-06-18T09:15:55.431Z"
   },
   {
    "duration": 7,
    "start_time": "2023-06-18T09:15:55.435Z"
   },
   {
    "duration": 10,
    "start_time": "2023-06-18T09:15:55.443Z"
   },
   {
    "duration": 5,
    "start_time": "2023-06-18T09:15:55.468Z"
   },
   {
    "duration": 5,
    "start_time": "2023-06-18T09:15:55.474Z"
   },
   {
    "duration": 11,
    "start_time": "2023-06-18T09:15:55.480Z"
   },
   {
    "duration": 8,
    "start_time": "2023-06-18T09:15:55.492Z"
   },
   {
    "duration": 250,
    "start_time": "2023-06-18T09:15:55.501Z"
   },
   {
    "duration": 163,
    "start_time": "2023-06-18T09:15:55.752Z"
   },
   {
    "duration": 168,
    "start_time": "2023-06-18T09:15:55.916Z"
   },
   {
    "duration": 5,
    "start_time": "2023-06-18T09:15:56.086Z"
   },
   {
    "duration": 516,
    "start_time": "2023-06-18T09:15:56.092Z"
   },
   {
    "duration": 171,
    "start_time": "2023-06-18T09:15:56.609Z"
   },
   {
    "duration": 145,
    "start_time": "2023-06-18T09:15:56.782Z"
   },
   {
    "duration": 691,
    "start_time": "2023-06-18T09:15:56.928Z"
   },
   {
    "duration": 14,
    "start_time": "2023-06-18T09:15:57.621Z"
   },
   {
    "duration": 15,
    "start_time": "2023-06-18T09:15:57.636Z"
   },
   {
    "duration": 15,
    "start_time": "2023-06-18T09:15:57.652Z"
   },
   {
    "duration": 2042,
    "start_time": "2023-06-18T09:16:37.519Z"
   },
   {
    "duration": 1815,
    "start_time": "2023-06-18T09:16:39.563Z"
   },
   {
    "duration": 36,
    "start_time": "2023-06-18T09:16:41.380Z"
   },
   {
    "duration": 4,
    "start_time": "2023-06-18T09:16:41.418Z"
   },
   {
    "duration": 11,
    "start_time": "2023-06-18T09:16:41.424Z"
   },
   {
    "duration": 26,
    "start_time": "2023-06-18T09:16:41.437Z"
   },
   {
    "duration": 2,
    "start_time": "2023-06-18T09:16:41.464Z"
   },
   {
    "duration": 14,
    "start_time": "2023-06-18T09:16:41.468Z"
   },
   {
    "duration": 14,
    "start_time": "2023-06-18T09:16:41.483Z"
   },
   {
    "duration": 32,
    "start_time": "2023-06-18T09:16:41.498Z"
   },
   {
    "duration": 29,
    "start_time": "2023-06-18T09:16:41.532Z"
   },
   {
    "duration": 7,
    "start_time": "2023-06-18T09:16:41.563Z"
   },
   {
    "duration": 5,
    "start_time": "2023-06-18T09:16:41.572Z"
   },
   {
    "duration": 318,
    "start_time": "2023-06-18T09:16:41.579Z"
   },
   {
    "duration": 156,
    "start_time": "2023-06-18T09:16:41.898Z"
   },
   {
    "duration": 164,
    "start_time": "2023-06-18T09:16:42.056Z"
   },
   {
    "duration": 5,
    "start_time": "2023-06-18T09:16:42.222Z"
   },
   {
    "duration": 417,
    "start_time": "2023-06-18T09:16:42.228Z"
   },
   {
    "duration": 161,
    "start_time": "2023-06-18T09:16:42.647Z"
   },
   {
    "duration": 146,
    "start_time": "2023-06-18T09:16:42.810Z"
   },
   {
    "duration": 617,
    "start_time": "2023-06-18T09:16:42.957Z"
   },
   {
    "duration": 112,
    "start_time": "2023-06-18T09:16:43.575Z"
   },
   {
    "duration": 17,
    "start_time": "2023-06-18T09:16:43.688Z"
   },
   {
    "duration": 20,
    "start_time": "2023-06-18T09:16:43.706Z"
   },
   {
    "duration": 41163,
    "start_time": "2023-06-18T09:16:43.727Z"
   },
   {
    "duration": 77,
    "start_time": "2023-06-18T09:17:24.891Z"
   },
   {
    "duration": 27,
    "start_time": "2023-06-18T09:17:24.970Z"
   },
   {
    "duration": 9796,
    "start_time": "2023-06-18T09:17:24.998Z"
   },
   {
    "duration": 0,
    "start_time": "2023-06-18T09:17:34.796Z"
   },
   {
    "duration": 2092,
    "start_time": "2023-06-18T09:17:39.308Z"
   },
   {
    "duration": 1785,
    "start_time": "2023-06-18T09:17:41.401Z"
   },
   {
    "duration": 35,
    "start_time": "2023-06-18T09:17:43.187Z"
   },
   {
    "duration": 3,
    "start_time": "2023-06-18T09:17:43.224Z"
   },
   {
    "duration": 16,
    "start_time": "2023-06-18T09:17:43.229Z"
   },
   {
    "duration": 48,
    "start_time": "2023-06-18T09:17:43.246Z"
   },
   {
    "duration": 2,
    "start_time": "2023-06-18T09:17:43.296Z"
   },
   {
    "duration": 19,
    "start_time": "2023-06-18T09:17:43.300Z"
   },
   {
    "duration": 11,
    "start_time": "2023-06-18T09:17:43.320Z"
   },
   {
    "duration": 12,
    "start_time": "2023-06-18T09:17:43.332Z"
   },
   {
    "duration": 36,
    "start_time": "2023-06-18T09:17:43.345Z"
   },
   {
    "duration": 7,
    "start_time": "2023-06-18T09:17:43.383Z"
   },
   {
    "duration": 4,
    "start_time": "2023-06-18T09:17:43.391Z"
   },
   {
    "duration": 315,
    "start_time": "2023-06-18T09:17:43.398Z"
   },
   {
    "duration": 161,
    "start_time": "2023-06-18T09:17:43.715Z"
   },
   {
    "duration": 206,
    "start_time": "2023-06-18T09:17:43.877Z"
   },
   {
    "duration": 8,
    "start_time": "2023-06-18T09:17:44.085Z"
   },
   {
    "duration": 476,
    "start_time": "2023-06-18T09:17:44.094Z"
   },
   {
    "duration": 170,
    "start_time": "2023-06-18T09:17:44.571Z"
   },
   {
    "duration": 154,
    "start_time": "2023-06-18T09:17:44.743Z"
   },
   {
    "duration": 613,
    "start_time": "2023-06-18T09:17:44.898Z"
   },
   {
    "duration": 113,
    "start_time": "2023-06-18T09:17:45.513Z"
   },
   {
    "duration": 7,
    "start_time": "2023-06-18T09:17:45.628Z"
   },
   {
    "duration": 15,
    "start_time": "2023-06-18T09:17:45.636Z"
   },
   {
    "duration": 40315,
    "start_time": "2023-06-18T09:17:45.653Z"
   },
   {
    "duration": 4,
    "start_time": "2023-06-18T09:18:25.970Z"
   },
   {
    "duration": 26,
    "start_time": "2023-06-18T09:18:25.976Z"
   },
   {
    "duration": 16023,
    "start_time": "2023-06-18T09:18:26.005Z"
   },
   {
    "duration": 6,
    "start_time": "2023-06-18T09:20:55.741Z"
   },
   {
    "duration": 15661,
    "start_time": "2023-06-18T09:20:56.271Z"
   },
   {
    "duration": 8,
    "start_time": "2023-06-18T09:21:21.532Z"
   },
   {
    "duration": 5510,
    "start_time": "2023-06-18T09:21:23.541Z"
   },
   {
    "duration": 7,
    "start_time": "2023-06-18T09:21:42.056Z"
   },
   {
    "duration": 6,
    "start_time": "2023-06-18T09:21:57.952Z"
   },
   {
    "duration": 9611,
    "start_time": "2023-06-18T09:21:57.969Z"
   },
   {
    "duration": 2089,
    "start_time": "2023-06-18T09:22:25.860Z"
   },
   {
    "duration": 1803,
    "start_time": "2023-06-18T09:22:27.951Z"
   },
   {
    "duration": 35,
    "start_time": "2023-06-18T09:22:29.756Z"
   },
   {
    "duration": 3,
    "start_time": "2023-06-18T09:22:29.793Z"
   },
   {
    "duration": 8,
    "start_time": "2023-06-18T09:22:29.798Z"
   },
   {
    "duration": 25,
    "start_time": "2023-06-18T09:22:29.807Z"
   },
   {
    "duration": 4,
    "start_time": "2023-06-18T09:22:29.833Z"
   },
   {
    "duration": 9,
    "start_time": "2023-06-18T09:22:29.838Z"
   },
   {
    "duration": 10,
    "start_time": "2023-06-18T09:22:29.849Z"
   },
   {
    "duration": 8,
    "start_time": "2023-06-18T09:22:29.867Z"
   },
   {
    "duration": 5,
    "start_time": "2023-06-18T09:22:29.876Z"
   },
   {
    "duration": 6,
    "start_time": "2023-06-18T09:22:29.882Z"
   },
   {
    "duration": 4,
    "start_time": "2023-06-18T09:22:29.890Z"
   },
   {
    "duration": 331,
    "start_time": "2023-06-18T09:22:29.895Z"
   },
   {
    "duration": 157,
    "start_time": "2023-06-18T09:22:30.227Z"
   },
   {
    "duration": 171,
    "start_time": "2023-06-18T09:22:30.386Z"
   },
   {
    "duration": 10,
    "start_time": "2023-06-18T09:22:30.558Z"
   },
   {
    "duration": 456,
    "start_time": "2023-06-18T09:22:30.570Z"
   },
   {
    "duration": 169,
    "start_time": "2023-06-18T09:22:31.028Z"
   },
   {
    "duration": 151,
    "start_time": "2023-06-18T09:22:31.198Z"
   },
   {
    "duration": 638,
    "start_time": "2023-06-18T09:22:31.350Z"
   },
   {
    "duration": 107,
    "start_time": "2023-06-18T09:22:31.990Z"
   },
   {
    "duration": 22,
    "start_time": "2023-06-18T09:22:32.098Z"
   },
   {
    "duration": 6,
    "start_time": "2023-06-18T09:22:32.122Z"
   },
   {
    "duration": 38447,
    "start_time": "2023-06-18T09:22:32.129Z"
   },
   {
    "duration": 2,
    "start_time": "2023-06-18T09:23:10.578Z"
   },
   {
    "duration": 9,
    "start_time": "2023-06-18T09:23:10.582Z"
   },
   {
    "duration": 16442,
    "start_time": "2023-06-18T09:23:10.593Z"
   },
   {
    "duration": 7,
    "start_time": "2023-06-18T09:23:58.720Z"
   },
   {
    "duration": 2325,
    "start_time": "2023-06-18T09:24:07.056Z"
   },
   {
    "duration": 1799,
    "start_time": "2023-06-18T09:24:09.383Z"
   },
   {
    "duration": 35,
    "start_time": "2023-06-18T09:24:11.184Z"
   },
   {
    "duration": 3,
    "start_time": "2023-06-18T09:24:11.222Z"
   },
   {
    "duration": 9,
    "start_time": "2023-06-18T09:24:11.227Z"
   },
   {
    "duration": 30,
    "start_time": "2023-06-18T09:24:11.238Z"
   },
   {
    "duration": 3,
    "start_time": "2023-06-18T09:24:11.270Z"
   },
   {
    "duration": 6,
    "start_time": "2023-06-18T09:24:11.275Z"
   },
   {
    "duration": 11,
    "start_time": "2023-06-18T09:24:11.283Z"
   },
   {
    "duration": 8,
    "start_time": "2023-06-18T09:24:11.297Z"
   },
   {
    "duration": 8,
    "start_time": "2023-06-18T09:24:11.307Z"
   },
   {
    "duration": 7,
    "start_time": "2023-06-18T09:24:11.317Z"
   },
   {
    "duration": 5,
    "start_time": "2023-06-18T09:24:11.325Z"
   },
   {
    "duration": 365,
    "start_time": "2023-06-18T09:24:11.331Z"
   },
   {
    "duration": 199,
    "start_time": "2023-06-18T09:24:11.698Z"
   },
   {
    "duration": 192,
    "start_time": "2023-06-18T09:24:11.899Z"
   },
   {
    "duration": 5,
    "start_time": "2023-06-18T09:24:12.093Z"
   },
   {
    "duration": 524,
    "start_time": "2023-06-18T09:24:12.100Z"
   },
   {
    "duration": 200,
    "start_time": "2023-06-18T09:24:12.626Z"
   },
   {
    "duration": 175,
    "start_time": "2023-06-18T09:24:12.827Z"
   },
   {
    "duration": 742,
    "start_time": "2023-06-18T09:24:13.004Z"
   },
   {
    "duration": 124,
    "start_time": "2023-06-18T09:24:13.747Z"
   },
   {
    "duration": 7,
    "start_time": "2023-06-18T09:24:13.873Z"
   },
   {
    "duration": 10,
    "start_time": "2023-06-18T09:24:13.882Z"
   },
   {
    "duration": 40296,
    "start_time": "2023-06-18T09:24:13.894Z"
   },
   {
    "duration": 76,
    "start_time": "2023-06-18T09:24:54.192Z"
   },
   {
    "duration": 6,
    "start_time": "2023-06-18T09:24:54.270Z"
   },
   {
    "duration": 15970,
    "start_time": "2023-06-18T09:24:54.279Z"
   },
   {
    "duration": 5,
    "start_time": "2023-06-18T09:25:10.251Z"
   },
   {
    "duration": 6,
    "start_time": "2023-06-18T09:25:30.408Z"
   },
   {
    "duration": 5,
    "start_time": "2023-06-18T09:25:30.567Z"
   },
   {
    "duration": 39055,
    "start_time": "2023-06-18T09:25:30.719Z"
   },
   {
    "duration": 7,
    "start_time": "2023-06-18T09:26:26.966Z"
   },
   {
    "duration": 15826,
    "start_time": "2023-06-18T09:26:27.556Z"
   },
   {
    "duration": 6,
    "start_time": "2023-06-18T09:27:02.942Z"
   },
   {
    "duration": 16487,
    "start_time": "2023-06-18T09:27:03.577Z"
   },
   {
    "duration": 6,
    "start_time": "2023-06-18T09:30:18.384Z"
   },
   {
    "duration": 27,
    "start_time": "2023-06-18T09:30:18.392Z"
   },
   {
    "duration": 23292,
    "start_time": "2023-06-18T09:30:18.421Z"
   },
   {
    "duration": 41639,
    "start_time": "2023-06-18T09:30:44.154Z"
   },
   {
    "duration": 20,
    "start_time": "2023-06-18T09:32:42.622Z"
   },
   {
    "duration": 28,
    "start_time": "2023-06-18T09:33:00.810Z"
   },
   {
    "duration": 21,
    "start_time": "2023-06-18T09:33:37.256Z"
   },
   {
    "duration": 6,
    "start_time": "2023-06-18T09:33:39.026Z"
   },
   {
    "duration": 5,
    "start_time": "2023-06-18T09:33:39.204Z"
   },
   {
    "duration": 39586,
    "start_time": "2023-06-18T09:33:39.694Z"
   },
   {
    "duration": 11,
    "start_time": "2023-06-18T09:46:05.863Z"
   },
   {
    "duration": 11,
    "start_time": "2023-06-18T09:46:17.566Z"
   },
   {
    "duration": 11,
    "start_time": "2023-06-18T09:46:24.007Z"
   },
   {
    "duration": 8,
    "start_time": "2023-06-18T09:46:30.005Z"
   },
   {
    "duration": 15,
    "start_time": "2023-06-18T09:46:31.598Z"
   },
   {
    "duration": 15,
    "start_time": "2023-06-18T09:47:27.520Z"
   },
   {
    "duration": 13,
    "start_time": "2023-06-18T09:47:30.835Z"
   },
   {
    "duration": 10,
    "start_time": "2023-06-18T09:47:48.701Z"
   },
   {
    "duration": 9,
    "start_time": "2023-06-18T09:47:51.133Z"
   },
   {
    "duration": 4,
    "start_time": "2023-06-18T09:47:55.717Z"
   },
   {
    "duration": 2093,
    "start_time": "2023-06-18T09:48:01.746Z"
   },
   {
    "duration": 1923,
    "start_time": "2023-06-18T09:48:03.841Z"
   },
   {
    "duration": 39,
    "start_time": "2023-06-18T09:48:05.765Z"
   },
   {
    "duration": 4,
    "start_time": "2023-06-18T09:48:05.806Z"
   },
   {
    "duration": 7,
    "start_time": "2023-06-18T09:48:05.812Z"
   },
   {
    "duration": 24,
    "start_time": "2023-06-18T09:48:05.821Z"
   },
   {
    "duration": 3,
    "start_time": "2023-06-18T09:48:05.847Z"
   },
   {
    "duration": 18,
    "start_time": "2023-06-18T09:48:05.852Z"
   },
   {
    "duration": 11,
    "start_time": "2023-06-18T09:48:05.871Z"
   },
   {
    "duration": 11,
    "start_time": "2023-06-18T09:48:05.884Z"
   },
   {
    "duration": 8,
    "start_time": "2023-06-18T09:48:05.896Z"
   },
   {
    "duration": 9,
    "start_time": "2023-06-18T09:48:05.906Z"
   },
   {
    "duration": 12,
    "start_time": "2023-06-18T09:48:05.916Z"
   },
   {
    "duration": 323,
    "start_time": "2023-06-18T09:48:05.929Z"
   },
   {
    "duration": 147,
    "start_time": "2023-06-18T09:48:06.254Z"
   },
   {
    "duration": 172,
    "start_time": "2023-06-18T09:48:06.403Z"
   },
   {
    "duration": 6,
    "start_time": "2023-06-18T09:48:06.577Z"
   },
   {
    "duration": 419,
    "start_time": "2023-06-18T09:48:06.585Z"
   },
   {
    "duration": 173,
    "start_time": "2023-06-18T09:48:07.006Z"
   },
   {
    "duration": 163,
    "start_time": "2023-06-18T09:48:07.181Z"
   },
   {
    "duration": 699,
    "start_time": "2023-06-18T09:48:07.345Z"
   },
   {
    "duration": 14,
    "start_time": "2023-06-18T09:48:08.046Z"
   },
   {
    "duration": 20,
    "start_time": "2023-06-18T09:48:08.068Z"
   },
   {
    "duration": 6,
    "start_time": "2023-06-18T09:48:08.090Z"
   },
   {
    "duration": 39579,
    "start_time": "2023-06-18T09:48:08.097Z"
   },
   {
    "duration": 8,
    "start_time": "2023-06-18T09:48:47.678Z"
   },
   {
    "duration": 15831,
    "start_time": "2023-06-18T09:48:47.688Z"
   },
   {
    "duration": 10,
    "start_time": "2023-06-18T09:49:03.521Z"
   },
   {
    "duration": 12,
    "start_time": "2023-06-18T09:49:03.532Z"
   },
   {
    "duration": 12,
    "start_time": "2023-06-18T09:49:21.473Z"
   },
   {
    "duration": 83,
    "start_time": "2023-06-18T09:49:21.690Z"
   },
   {
    "duration": 12,
    "start_time": "2023-06-18T09:49:23.501Z"
   },
   {
    "duration": 22,
    "start_time": "2023-06-18T09:49:34.205Z"
   },
   {
    "duration": 14,
    "start_time": "2023-06-18T09:49:39.530Z"
   },
   {
    "duration": 132,
    "start_time": "2023-06-18T09:50:27.453Z"
   },
   {
    "duration": 14,
    "start_time": "2023-06-18T09:50:36.230Z"
   },
   {
    "duration": 21,
    "start_time": "2023-06-18T09:50:41.223Z"
   },
   {
    "duration": 13,
    "start_time": "2023-06-18T09:50:43.603Z"
   },
   {
    "duration": 12,
    "start_time": "2023-06-18T09:50:53.325Z"
   },
   {
    "duration": 4,
    "start_time": "2023-06-18T09:53:58.180Z"
   },
   {
    "duration": 23,
    "start_time": "2023-06-18T09:54:49.284Z"
   },
   {
    "duration": 7,
    "start_time": "2023-06-18T09:54:53.715Z"
   },
   {
    "duration": 10,
    "start_time": "2023-06-18T09:54:57.980Z"
   },
   {
    "duration": 9,
    "start_time": "2023-06-18T09:54:59.552Z"
   },
   {
    "duration": 4,
    "start_time": "2023-06-18T09:55:09.079Z"
   },
   {
    "duration": 7,
    "start_time": "2023-06-18T09:55:13.077Z"
   },
   {
    "duration": 3,
    "start_time": "2023-06-18T09:55:19.155Z"
   },
   {
    "duration": 37,
    "start_time": "2023-06-18T09:55:37.458Z"
   },
   {
    "duration": 7,
    "start_time": "2023-06-18T09:56:03.533Z"
   },
   {
    "duration": 44,
    "start_time": "2023-06-18T09:56:04.036Z"
   },
   {
    "duration": 4,
    "start_time": "2023-06-18T09:56:26.733Z"
   },
   {
    "duration": 29,
    "start_time": "2023-06-18T09:56:29.129Z"
   },
   {
    "duration": 3,
    "start_time": "2023-06-18T09:57:08.102Z"
   },
   {
    "duration": 8,
    "start_time": "2023-06-18T09:57:11.943Z"
   },
   {
    "duration": 12684,
    "start_time": "2023-06-18T09:57:21.800Z"
   },
   {
    "duration": 9,
    "start_time": "2023-06-18T09:57:38.399Z"
   },
   {
    "duration": 12,
    "start_time": "2023-06-18T09:57:40.542Z"
   },
   {
    "duration": 19,
    "start_time": "2023-06-18T09:57:44.769Z"
   },
   {
    "duration": 25,
    "start_time": "2023-06-18T09:57:55.796Z"
   },
   {
    "duration": 9,
    "start_time": "2023-06-18T09:57:57.832Z"
   },
   {
    "duration": 9,
    "start_time": "2023-06-18T09:58:01.827Z"
   },
   {
    "duration": 8,
    "start_time": "2023-06-18T09:58:04.965Z"
   },
   {
    "duration": 4,
    "start_time": "2023-06-18T09:58:12.137Z"
   },
   {
    "duration": 36,
    "start_time": "2023-06-18T09:58:23.058Z"
   },
   {
    "duration": 8,
    "start_time": "2023-06-18T09:58:25.149Z"
   },
   {
    "duration": 4,
    "start_time": "2023-06-18T09:58:26.842Z"
   },
   {
    "duration": 6997,
    "start_time": "2023-06-18T09:58:28.389Z"
   },
   {
    "duration": 2111,
    "start_time": "2023-06-18T09:58:40.732Z"
   },
   {
    "duration": 1959,
    "start_time": "2023-06-18T09:58:42.845Z"
   },
   {
    "duration": 37,
    "start_time": "2023-06-18T09:58:44.806Z"
   },
   {
    "duration": 4,
    "start_time": "2023-06-18T09:58:44.844Z"
   },
   {
    "duration": 10,
    "start_time": "2023-06-18T09:58:44.849Z"
   },
   {
    "duration": 24,
    "start_time": "2023-06-18T09:58:44.860Z"
   },
   {
    "duration": 4,
    "start_time": "2023-06-18T09:58:44.885Z"
   },
   {
    "duration": 9,
    "start_time": "2023-06-18T09:58:44.891Z"
   },
   {
    "duration": 10,
    "start_time": "2023-06-18T09:58:44.901Z"
   },
   {
    "duration": 7,
    "start_time": "2023-06-18T09:58:44.913Z"
   },
   {
    "duration": 6,
    "start_time": "2023-06-18T09:58:44.921Z"
   },
   {
    "duration": 11,
    "start_time": "2023-06-18T09:58:44.928Z"
   },
   {
    "duration": 13,
    "start_time": "2023-06-18T09:58:44.940Z"
   },
   {
    "duration": 349,
    "start_time": "2023-06-18T09:58:44.954Z"
   },
   {
    "duration": 159,
    "start_time": "2023-06-18T09:58:45.304Z"
   },
   {
    "duration": 174,
    "start_time": "2023-06-18T09:58:45.469Z"
   },
   {
    "duration": 5,
    "start_time": "2023-06-18T09:58:45.644Z"
   },
   {
    "duration": 460,
    "start_time": "2023-06-18T09:58:45.651Z"
   },
   {
    "duration": 195,
    "start_time": "2023-06-18T09:58:46.112Z"
   },
   {
    "duration": 152,
    "start_time": "2023-06-18T09:58:46.309Z"
   },
   {
    "duration": 632,
    "start_time": "2023-06-18T09:58:46.471Z"
   },
   {
    "duration": 111,
    "start_time": "2023-06-18T09:58:47.104Z"
   },
   {
    "duration": 4,
    "start_time": "2023-06-18T09:58:47.217Z"
   },
   {
    "duration": 7,
    "start_time": "2023-06-18T09:58:47.223Z"
   },
   {
    "duration": 6,
    "start_time": "2023-06-18T09:58:47.232Z"
   },
   {
    "duration": 48947,
    "start_time": "2023-06-18T09:58:47.240Z"
   },
   {
    "duration": 8,
    "start_time": "2023-06-18T09:59:36.189Z"
   },
   {
    "duration": 16169,
    "start_time": "2023-06-18T09:59:36.199Z"
   },
   {
    "duration": 139,
    "start_time": "2023-06-18T09:59:52.369Z"
   },
   {
    "duration": 0,
    "start_time": "2023-06-18T09:59:52.510Z"
   },
   {
    "duration": 0,
    "start_time": "2023-06-18T09:59:52.512Z"
   },
   {
    "duration": 0,
    "start_time": "2023-06-18T09:59:52.513Z"
   },
   {
    "duration": 15,
    "start_time": "2023-06-18T10:01:31.680Z"
   },
   {
    "duration": 25,
    "start_time": "2023-06-18T10:01:35.600Z"
   },
   {
    "duration": 14,
    "start_time": "2023-06-18T10:02:02.973Z"
   },
   {
    "duration": 12,
    "start_time": "2023-06-18T10:02:04.241Z"
   },
   {
    "duration": 14,
    "start_time": "2023-06-18T10:02:05.450Z"
   },
   {
    "duration": 22,
    "start_time": "2023-06-18T10:02:11.101Z"
   },
   {
    "duration": 12,
    "start_time": "2023-06-18T10:02:15.902Z"
   },
   {
    "duration": 27,
    "start_time": "2023-06-18T10:02:57.202Z"
   },
   {
    "duration": 7,
    "start_time": "2023-06-18T10:02:59.151Z"
   },
   {
    "duration": 4,
    "start_time": "2023-06-18T10:03:01.696Z"
   },
   {
    "duration": 7328,
    "start_time": "2023-06-18T10:03:02.053Z"
   },
   {
    "duration": 2180,
    "start_time": "2023-06-18T10:03:12.703Z"
   },
   {
    "duration": 1783,
    "start_time": "2023-06-18T10:03:14.885Z"
   },
   {
    "duration": 35,
    "start_time": "2023-06-18T10:03:16.670Z"
   },
   {
    "duration": 3,
    "start_time": "2023-06-18T10:03:16.707Z"
   },
   {
    "duration": 14,
    "start_time": "2023-06-18T10:03:16.712Z"
   },
   {
    "duration": 37,
    "start_time": "2023-06-18T10:03:16.728Z"
   },
   {
    "duration": 2,
    "start_time": "2023-06-18T10:03:16.767Z"
   },
   {
    "duration": 16,
    "start_time": "2023-06-18T10:03:16.771Z"
   },
   {
    "duration": 28,
    "start_time": "2023-06-18T10:03:16.788Z"
   },
   {
    "duration": 10,
    "start_time": "2023-06-18T10:03:16.817Z"
   },
   {
    "duration": 13,
    "start_time": "2023-06-18T10:03:16.829Z"
   },
   {
    "duration": 5,
    "start_time": "2023-06-18T10:03:16.843Z"
   },
   {
    "duration": 4,
    "start_time": "2023-06-18T10:03:16.849Z"
   },
   {
    "duration": 315,
    "start_time": "2023-06-18T10:03:16.856Z"
   },
   {
    "duration": 172,
    "start_time": "2023-06-18T10:03:17.172Z"
   },
   {
    "duration": 161,
    "start_time": "2023-06-18T10:03:17.345Z"
   },
   {
    "duration": 5,
    "start_time": "2023-06-18T10:03:17.508Z"
   },
   {
    "duration": 434,
    "start_time": "2023-06-18T10:03:17.514Z"
   },
   {
    "duration": 170,
    "start_time": "2023-06-18T10:03:17.949Z"
   },
   {
    "duration": 159,
    "start_time": "2023-06-18T10:03:18.121Z"
   },
   {
    "duration": 615,
    "start_time": "2023-06-18T10:03:18.281Z"
   },
   {
    "duration": 114,
    "start_time": "2023-06-18T10:03:18.898Z"
   },
   {
    "duration": 10,
    "start_time": "2023-06-18T10:03:19.014Z"
   },
   {
    "duration": 18,
    "start_time": "2023-06-18T10:03:19.025Z"
   },
   {
    "duration": 10,
    "start_time": "2023-06-18T10:03:19.045Z"
   },
   {
    "duration": 41213,
    "start_time": "2023-06-18T10:03:19.057Z"
   },
   {
    "duration": 8,
    "start_time": "2023-06-18T10:04:00.271Z"
   },
   {
    "duration": 16219,
    "start_time": "2023-06-18T10:04:00.280Z"
   },
   {
    "duration": 26,
    "start_time": "2023-06-18T10:04:16.501Z"
   },
   {
    "duration": 7,
    "start_time": "2023-06-18T10:04:16.529Z"
   },
   {
    "duration": 5,
    "start_time": "2023-06-18T10:04:16.537Z"
   },
   {
    "duration": 36034,
    "start_time": "2023-06-18T10:04:16.543Z"
   },
   {
    "duration": 9032,
    "start_time": "2023-06-18T10:14:48.527Z"
   },
   {
    "duration": 2237,
    "start_time": "2023-06-18T10:15:20.655Z"
   },
   {
    "duration": 1771,
    "start_time": "2023-06-18T10:15:22.894Z"
   },
   {
    "duration": 36,
    "start_time": "2023-06-18T10:15:24.667Z"
   },
   {
    "duration": 3,
    "start_time": "2023-06-18T10:15:24.705Z"
   },
   {
    "duration": 7,
    "start_time": "2023-06-18T10:15:24.709Z"
   },
   {
    "duration": 19,
    "start_time": "2023-06-18T10:15:24.718Z"
   },
   {
    "duration": 6,
    "start_time": "2023-06-18T10:15:24.738Z"
   },
   {
    "duration": 17,
    "start_time": "2023-06-18T10:15:24.745Z"
   },
   {
    "duration": 23,
    "start_time": "2023-06-18T10:15:24.763Z"
   },
   {
    "duration": 9,
    "start_time": "2023-06-18T10:15:24.788Z"
   },
   {
    "duration": 13,
    "start_time": "2023-06-18T10:15:24.798Z"
   },
   {
    "duration": 24,
    "start_time": "2023-06-18T10:15:24.813Z"
   },
   {
    "duration": 20,
    "start_time": "2023-06-18T10:15:24.838Z"
   },
   {
    "duration": 317,
    "start_time": "2023-06-18T10:15:24.860Z"
   },
   {
    "duration": 140,
    "start_time": "2023-06-18T10:15:25.179Z"
   },
   {
    "duration": 167,
    "start_time": "2023-06-18T10:15:25.320Z"
   },
   {
    "duration": 5,
    "start_time": "2023-06-18T10:15:25.488Z"
   },
   {
    "duration": 434,
    "start_time": "2023-06-18T10:15:25.494Z"
   },
   {
    "duration": 162,
    "start_time": "2023-06-18T10:15:25.929Z"
   },
   {
    "duration": 144,
    "start_time": "2023-06-18T10:15:26.093Z"
   },
   {
    "duration": 609,
    "start_time": "2023-06-18T10:15:26.239Z"
   },
   {
    "duration": 106,
    "start_time": "2023-06-18T10:15:26.850Z"
   },
   {
    "duration": 14,
    "start_time": "2023-06-18T10:15:26.957Z"
   },
   {
    "duration": 9,
    "start_time": "2023-06-18T10:15:26.972Z"
   },
   {
    "duration": 6,
    "start_time": "2023-06-18T10:15:26.982Z"
   },
   {
    "duration": 40295,
    "start_time": "2023-06-18T10:15:26.989Z"
   },
   {
    "duration": 9,
    "start_time": "2023-06-18T10:16:07.286Z"
   },
   {
    "duration": 16605,
    "start_time": "2023-06-18T10:16:07.297Z"
   },
   {
    "duration": 16588,
    "start_time": "2023-06-18T10:16:23.903Z"
   },
   {
    "duration": 92,
    "start_time": "2023-06-19T11:37:03.076Z"
   },
   {
    "duration": 3456,
    "start_time": "2023-06-19T11:42:44.108Z"
   },
   {
    "duration": 0,
    "start_time": "2023-06-19T11:42:47.568Z"
   },
   {
    "duration": 0,
    "start_time": "2023-06-19T11:42:47.570Z"
   },
   {
    "duration": 0,
    "start_time": "2023-06-19T11:42:47.571Z"
   },
   {
    "duration": 0,
    "start_time": "2023-06-19T11:42:47.572Z"
   },
   {
    "duration": 0,
    "start_time": "2023-06-19T11:42:47.573Z"
   },
   {
    "duration": 0,
    "start_time": "2023-06-19T11:42:47.575Z"
   },
   {
    "duration": 0,
    "start_time": "2023-06-19T11:42:47.576Z"
   },
   {
    "duration": 0,
    "start_time": "2023-06-19T11:42:47.578Z"
   },
   {
    "duration": 0,
    "start_time": "2023-06-19T11:42:47.580Z"
   },
   {
    "duration": 0,
    "start_time": "2023-06-19T11:42:47.581Z"
   },
   {
    "duration": 0,
    "start_time": "2023-06-19T11:42:47.582Z"
   },
   {
    "duration": 0,
    "start_time": "2023-06-19T11:42:47.584Z"
   },
   {
    "duration": 0,
    "start_time": "2023-06-19T11:42:47.585Z"
   },
   {
    "duration": 0,
    "start_time": "2023-06-19T11:42:47.586Z"
   },
   {
    "duration": 0,
    "start_time": "2023-06-19T11:42:47.587Z"
   },
   {
    "duration": 0,
    "start_time": "2023-06-19T11:42:47.588Z"
   },
   {
    "duration": 0,
    "start_time": "2023-06-19T11:42:47.589Z"
   },
   {
    "duration": 0,
    "start_time": "2023-06-19T11:42:47.591Z"
   },
   {
    "duration": 0,
    "start_time": "2023-06-19T11:42:47.592Z"
   },
   {
    "duration": 0,
    "start_time": "2023-06-19T11:42:47.593Z"
   },
   {
    "duration": 0,
    "start_time": "2023-06-19T11:42:47.594Z"
   },
   {
    "duration": 0,
    "start_time": "2023-06-19T11:42:47.595Z"
   },
   {
    "duration": 0,
    "start_time": "2023-06-19T11:42:47.597Z"
   },
   {
    "duration": 0,
    "start_time": "2023-06-19T11:42:47.599Z"
   },
   {
    "duration": 0,
    "start_time": "2023-06-19T11:42:47.601Z"
   },
   {
    "duration": 0,
    "start_time": "2023-06-19T11:42:47.657Z"
   },
   {
    "duration": 0,
    "start_time": "2023-06-19T11:42:47.658Z"
   },
   {
    "duration": 2505,
    "start_time": "2023-06-19T11:42:56.089Z"
   },
   {
    "duration": 0,
    "start_time": "2023-06-19T11:42:58.596Z"
   },
   {
    "duration": 0,
    "start_time": "2023-06-19T11:42:58.598Z"
   },
   {
    "duration": 0,
    "start_time": "2023-06-19T11:42:58.599Z"
   },
   {
    "duration": 0,
    "start_time": "2023-06-19T11:42:58.600Z"
   },
   {
    "duration": 0,
    "start_time": "2023-06-19T11:42:58.601Z"
   },
   {
    "duration": 0,
    "start_time": "2023-06-19T11:42:58.602Z"
   },
   {
    "duration": 0,
    "start_time": "2023-06-19T11:42:58.603Z"
   },
   {
    "duration": 0,
    "start_time": "2023-06-19T11:42:58.605Z"
   },
   {
    "duration": 0,
    "start_time": "2023-06-19T11:42:58.606Z"
   },
   {
    "duration": 0,
    "start_time": "2023-06-19T11:42:58.607Z"
   },
   {
    "duration": 0,
    "start_time": "2023-06-19T11:42:58.608Z"
   },
   {
    "duration": 0,
    "start_time": "2023-06-19T11:42:58.610Z"
   },
   {
    "duration": 1,
    "start_time": "2023-06-19T11:42:58.610Z"
   },
   {
    "duration": 0,
    "start_time": "2023-06-19T11:42:58.612Z"
   },
   {
    "duration": 0,
    "start_time": "2023-06-19T11:42:58.613Z"
   },
   {
    "duration": 0,
    "start_time": "2023-06-19T11:42:58.614Z"
   },
   {
    "duration": 0,
    "start_time": "2023-06-19T11:42:58.615Z"
   },
   {
    "duration": 0,
    "start_time": "2023-06-19T11:42:58.616Z"
   },
   {
    "duration": 0,
    "start_time": "2023-06-19T11:42:58.617Z"
   },
   {
    "duration": 2048,
    "start_time": "2023-06-19T12:30:27.675Z"
   },
   {
    "duration": 2279,
    "start_time": "2023-06-19T12:30:58.249Z"
   },
   {
    "duration": 266,
    "start_time": "2023-06-19T12:32:33.115Z"
   },
   {
    "duration": 77518,
    "start_time": "2023-06-19T12:32:34.988Z"
   },
   {
    "duration": 8,
    "start_time": "2023-06-19T12:33:52.509Z"
   },
   {
    "duration": 0,
    "start_time": "2023-06-19T12:33:52.519Z"
   },
   {
    "duration": 2386,
    "start_time": "2023-06-19T12:33:54.373Z"
   },
   {
    "duration": 10290,
    "start_time": "2023-06-19T12:35:27.447Z"
   },
   {
    "duration": 6172,
    "start_time": "2023-06-19T12:35:38.851Z"
   },
   {
    "duration": 4561,
    "start_time": "2023-06-19T12:36:12.285Z"
   },
   {
    "duration": 82,
    "start_time": "2023-06-19T12:36:25.226Z"
   },
   {
    "duration": 6221,
    "start_time": "2023-06-19T12:36:33.734Z"
   },
   {
    "duration": 5454,
    "start_time": "2023-06-19T12:36:39.958Z"
   },
   {
    "duration": 38,
    "start_time": "2023-06-19T12:36:45.414Z"
   },
   {
    "duration": 5,
    "start_time": "2023-06-19T12:36:45.454Z"
   },
   {
    "duration": 15,
    "start_time": "2023-06-19T12:36:45.462Z"
   },
   {
    "duration": 48,
    "start_time": "2023-06-19T12:36:45.479Z"
   },
   {
    "duration": 3,
    "start_time": "2023-06-19T12:36:45.528Z"
   },
   {
    "duration": 50,
    "start_time": "2023-06-19T12:36:45.533Z"
   },
   {
    "duration": 26,
    "start_time": "2023-06-19T12:36:45.584Z"
   },
   {
    "duration": 19,
    "start_time": "2023-06-19T12:36:45.612Z"
   },
   {
    "duration": 20,
    "start_time": "2023-06-19T12:36:45.633Z"
   },
   {
    "duration": 17,
    "start_time": "2023-06-19T12:36:45.655Z"
   },
   {
    "duration": 6,
    "start_time": "2023-06-19T12:36:45.674Z"
   },
   {
    "duration": 439,
    "start_time": "2023-06-19T12:36:45.683Z"
   },
   {
    "duration": 216,
    "start_time": "2023-06-19T12:36:46.124Z"
   },
   {
    "duration": 238,
    "start_time": "2023-06-19T12:36:46.342Z"
   },
   {
    "duration": 7,
    "start_time": "2023-06-19T12:36:46.582Z"
   },
   {
    "duration": 586,
    "start_time": "2023-06-19T12:36:46.591Z"
   },
   {
    "duration": 245,
    "start_time": "2023-06-19T12:36:47.179Z"
   },
   {
    "duration": 201,
    "start_time": "2023-06-19T12:36:47.425Z"
   },
   {
    "duration": 812,
    "start_time": "2023-06-19T12:36:47.627Z"
   },
   {
    "duration": 5332,
    "start_time": "2023-06-19T12:41:22.968Z"
   },
   {
    "duration": 5411,
    "start_time": "2023-06-19T12:41:28.303Z"
   },
   {
    "duration": 38,
    "start_time": "2023-06-19T12:41:33.716Z"
   },
   {
    "duration": 28,
    "start_time": "2023-06-19T12:41:33.756Z"
   },
   {
    "duration": 20,
    "start_time": "2023-06-19T12:41:33.787Z"
   },
   {
    "duration": 181,
    "start_time": "2023-06-19T12:41:33.809Z"
   },
   {
    "duration": 4,
    "start_time": "2023-06-19T12:41:33.992Z"
   },
   {
    "duration": 27,
    "start_time": "2023-06-19T12:41:33.999Z"
   },
   {
    "duration": 18,
    "start_time": "2023-06-19T12:41:34.028Z"
   },
   {
    "duration": 22,
    "start_time": "2023-06-19T12:41:34.048Z"
   },
   {
    "duration": 7,
    "start_time": "2023-06-19T12:41:34.072Z"
   },
   {
    "duration": 9,
    "start_time": "2023-06-19T12:41:34.081Z"
   },
   {
    "duration": 9,
    "start_time": "2023-06-19T12:41:34.094Z"
   },
   {
    "duration": 317,
    "start_time": "2023-06-19T12:41:34.106Z"
   },
   {
    "duration": 179,
    "start_time": "2023-06-19T12:41:34.425Z"
   },
   {
    "duration": 203,
    "start_time": "2023-06-19T12:41:34.607Z"
   },
   {
    "duration": 6,
    "start_time": "2023-06-19T12:41:34.813Z"
   },
   {
    "duration": 497,
    "start_time": "2023-06-19T12:41:34.821Z"
   },
   {
    "duration": 198,
    "start_time": "2023-06-19T12:41:35.319Z"
   },
   {
    "duration": 168,
    "start_time": "2023-06-19T12:41:35.519Z"
   },
   {
    "duration": 754,
    "start_time": "2023-06-19T12:41:35.690Z"
   },
   {
    "duration": 44,
    "start_time": "2023-06-19T12:42:26.578Z"
   },
   {
    "duration": 14,
    "start_time": "2023-06-19T12:42:35.747Z"
   },
   {
    "duration": 5,
    "start_time": "2023-06-19T12:42:42.128Z"
   },
   {
    "duration": 191,
    "start_time": "2023-06-19T12:46:06.835Z"
   },
   {
    "duration": 26,
    "start_time": "2023-06-19T12:46:13.141Z"
   },
   {
    "duration": 27,
    "start_time": "2023-06-19T12:46:18.216Z"
   },
   {
    "duration": 30,
    "start_time": "2023-06-19T12:46:50.441Z"
   },
   {
    "duration": 36,
    "start_time": "2023-06-19T12:47:36.708Z"
   },
   {
    "duration": 4,
    "start_time": "2023-06-19T12:52:26.777Z"
   },
   {
    "duration": 9,
    "start_time": "2023-06-19T12:52:32.380Z"
   },
   {
    "duration": 21,
    "start_time": "2023-06-19T12:52:34.658Z"
   },
   {
    "duration": 63857,
    "start_time": "2023-06-19T12:52:35.440Z"
   },
   {
    "duration": 5,
    "start_time": "2023-06-19T12:55:26.176Z"
   },
   {
    "duration": 65376,
    "start_time": "2023-06-19T12:55:29.082Z"
   },
   {
    "duration": 7,
    "start_time": "2023-06-19T12:57:15.685Z"
   },
   {
    "duration": 1002,
    "start_time": "2023-06-19T12:57:17.722Z"
   },
   {
    "duration": 1200,
    "start_time": "2023-06-19T12:57:18.726Z"
   },
   {
    "duration": 68559,
    "start_time": "2023-06-19T12:57:19.929Z"
   },
   {
    "duration": 111,
    "start_time": "2023-06-19T13:11:59.481Z"
   },
   {
    "duration": 18,
    "start_time": "2023-06-19T13:12:08.539Z"
   },
   {
    "duration": 10,
    "start_time": "2023-06-19T13:12:33.257Z"
   },
   {
    "duration": 11,
    "start_time": "2023-06-19T13:13:36.280Z"
   },
   {
    "duration": 5,
    "start_time": "2023-06-19T13:13:40.674Z"
   },
   {
    "duration": 7,
    "start_time": "2023-06-19T13:13:41.287Z"
   },
   {
    "duration": 5,
    "start_time": "2023-06-19T13:13:41.583Z"
   },
   {
    "duration": 47032,
    "start_time": "2023-06-19T13:13:42.243Z"
   },
   {
    "duration": 10,
    "start_time": "2023-06-19T13:14:42.907Z"
   },
   {
    "duration": 4798,
    "start_time": "2023-06-19T13:14:44.390Z"
   },
   {
    "duration": 5,
    "start_time": "2023-06-19T13:15:11.315Z"
   },
   {
    "duration": 4324,
    "start_time": "2023-06-19T13:15:15.209Z"
   },
   {
    "duration": 6,
    "start_time": "2023-06-19T13:15:31.441Z"
   },
   {
    "duration": 13,
    "start_time": "2023-06-19T13:15:43.890Z"
   },
   {
    "duration": 40154,
    "start_time": "2023-06-19T13:15:47.521Z"
   },
   {
    "duration": 4,
    "start_time": "2023-06-19T13:16:39.558Z"
   },
   {
    "duration": 14,
    "start_time": "2023-06-19T13:16:55.286Z"
   },
   {
    "duration": 33218,
    "start_time": "2023-06-19T13:17:02.956Z"
   },
   {
    "duration": 6025,
    "start_time": "2023-06-19T13:17:39.772Z"
   },
   {
    "duration": 6379,
    "start_time": "2023-06-19T13:17:45.800Z"
   },
   {
    "duration": 43,
    "start_time": "2023-06-19T13:17:52.182Z"
   },
   {
    "duration": 6,
    "start_time": "2023-06-19T13:17:52.228Z"
   },
   {
    "duration": 27,
    "start_time": "2023-06-19T13:17:52.236Z"
   },
   {
    "duration": 70,
    "start_time": "2023-06-19T13:17:52.265Z"
   },
   {
    "duration": 27,
    "start_time": "2023-06-19T13:17:52.337Z"
   },
   {
    "duration": 19,
    "start_time": "2023-06-19T13:17:52.372Z"
   },
   {
    "duration": 46,
    "start_time": "2023-06-19T13:17:52.393Z"
   },
   {
    "duration": 41,
    "start_time": "2023-06-19T13:17:52.443Z"
   },
   {
    "duration": 29,
    "start_time": "2023-06-19T13:17:52.486Z"
   },
   {
    "duration": 30,
    "start_time": "2023-06-19T13:17:52.517Z"
   },
   {
    "duration": 36,
    "start_time": "2023-06-19T13:17:52.549Z"
   },
   {
    "duration": 556,
    "start_time": "2023-06-19T13:17:52.587Z"
   },
   {
    "duration": 233,
    "start_time": "2023-06-19T13:17:53.146Z"
   },
   {
    "duration": 240,
    "start_time": "2023-06-19T13:17:53.381Z"
   },
   {
    "duration": 7,
    "start_time": "2023-06-19T13:17:53.624Z"
   },
   {
    "duration": 651,
    "start_time": "2023-06-19T13:17:53.633Z"
   },
   {
    "duration": 253,
    "start_time": "2023-06-19T13:17:54.286Z"
   },
   {
    "duration": 202,
    "start_time": "2023-06-19T13:17:54.541Z"
   },
   {
    "duration": 773,
    "start_time": "2023-06-19T13:17:54.745Z"
   },
   {
    "duration": 25,
    "start_time": "2023-06-19T13:17:55.520Z"
   },
   {
    "duration": 31,
    "start_time": "2023-06-19T13:17:55.547Z"
   },
   {
    "duration": 33,
    "start_time": "2023-06-19T13:17:55.580Z"
   },
   {
    "duration": 18,
    "start_time": "2023-06-19T13:17:55.615Z"
   },
   {
    "duration": 49244,
    "start_time": "2023-06-19T13:17:55.635Z"
   },
   {
    "duration": 80,
    "start_time": "2023-06-19T13:18:44.881Z"
   },
   {
    "duration": 110804,
    "start_time": "2023-06-19T13:18:44.964Z"
   },
   {
    "duration": 2323,
    "start_time": "2023-06-19T13:23:14.670Z"
   },
   {
    "duration": 4,
    "start_time": "2023-06-19T13:23:32.693Z"
   },
   {
    "duration": 2553,
    "start_time": "2023-06-19T13:23:40.130Z"
   },
   {
    "duration": 11,
    "start_time": "2023-06-19T13:23:45.235Z"
   },
   {
    "duration": 16272,
    "start_time": "2023-06-19T13:23:45.425Z"
   },
   {
    "duration": 5642,
    "start_time": "2023-06-19T13:24:06.600Z"
   },
   {
    "duration": 5799,
    "start_time": "2023-06-19T13:24:12.245Z"
   },
   {
    "duration": 42,
    "start_time": "2023-06-19T13:24:18.047Z"
   },
   {
    "duration": 5,
    "start_time": "2023-06-19T13:24:18.090Z"
   },
   {
    "duration": 17,
    "start_time": "2023-06-19T13:24:18.098Z"
   },
   {
    "duration": 28,
    "start_time": "2023-06-19T13:24:18.116Z"
   },
   {
    "duration": 4,
    "start_time": "2023-06-19T13:24:18.145Z"
   },
   {
    "duration": 9,
    "start_time": "2023-06-19T13:24:18.150Z"
   },
   {
    "duration": 15,
    "start_time": "2023-06-19T13:24:18.161Z"
   },
   {
    "duration": 26,
    "start_time": "2023-06-19T13:24:18.178Z"
   },
   {
    "duration": 6,
    "start_time": "2023-06-19T13:24:18.205Z"
   },
   {
    "duration": 7,
    "start_time": "2023-06-19T13:24:18.213Z"
   },
   {
    "duration": 5,
    "start_time": "2023-06-19T13:24:18.222Z"
   },
   {
    "duration": 295,
    "start_time": "2023-06-19T13:24:18.230Z"
   },
   {
    "duration": 185,
    "start_time": "2023-06-19T13:24:18.526Z"
   },
   {
    "duration": 203,
    "start_time": "2023-06-19T13:24:18.712Z"
   },
   {
    "duration": 6,
    "start_time": "2023-06-19T13:24:18.916Z"
   },
   {
    "duration": 605,
    "start_time": "2023-06-19T13:24:18.923Z"
   },
   {
    "duration": 186,
    "start_time": "2023-06-19T13:24:19.530Z"
   },
   {
    "duration": 188,
    "start_time": "2023-06-19T13:24:19.718Z"
   },
   {
    "duration": 754,
    "start_time": "2023-06-19T13:24:19.907Z"
   },
   {
    "duration": 28,
    "start_time": "2023-06-19T13:24:20.663Z"
   },
   {
    "duration": 4,
    "start_time": "2023-06-19T13:24:20.693Z"
   },
   {
    "duration": 15,
    "start_time": "2023-06-19T13:24:20.699Z"
   },
   {
    "duration": 21,
    "start_time": "2023-06-19T13:24:20.715Z"
   },
   {
    "duration": 45633,
    "start_time": "2023-06-19T13:24:20.737Z"
   },
   {
    "duration": 11,
    "start_time": "2023-06-19T13:25:06.373Z"
   },
   {
    "duration": 128192,
    "start_time": "2023-06-19T13:25:06.385Z"
   },
   {
    "duration": 25,
    "start_time": "2023-06-19T13:30:55.542Z"
   },
   {
    "duration": 137781,
    "start_time": "2023-06-19T13:31:07.310Z"
   },
   {
    "duration": 11714,
    "start_time": "2023-06-19T13:34:49.392Z"
   },
   {
    "duration": 16,
    "start_time": "2023-06-19T13:35:14.375Z"
   },
   {
    "duration": 17,
    "start_time": "2023-06-19T13:35:18.954Z"
   },
   {
    "duration": 5,
    "start_time": "2023-06-19T13:35:29.636Z"
   },
   {
    "duration": 11,
    "start_time": "2023-06-19T13:35:35.085Z"
   },
   {
    "duration": 18369,
    "start_time": "2023-06-19T13:35:35.624Z"
   },
   {
    "duration": 11,
    "start_time": "2023-06-19T13:35:58.612Z"
   },
   {
    "duration": 12184,
    "start_time": "2023-06-19T13:35:58.892Z"
   },
   {
    "duration": 5791,
    "start_time": "2023-06-19T13:36:16.773Z"
   },
   {
    "duration": 7094,
    "start_time": "2023-06-19T13:36:22.568Z"
   },
   {
    "duration": 45,
    "start_time": "2023-06-19T13:36:29.664Z"
   },
   {
    "duration": 5,
    "start_time": "2023-06-19T13:36:29.712Z"
   },
   {
    "duration": 26,
    "start_time": "2023-06-19T13:36:29.721Z"
   },
   {
    "duration": 54,
    "start_time": "2023-06-19T13:36:29.749Z"
   },
   {
    "duration": 4,
    "start_time": "2023-06-19T13:36:29.805Z"
   },
   {
    "duration": 25,
    "start_time": "2023-06-19T13:36:29.812Z"
   },
   {
    "duration": 46,
    "start_time": "2023-06-19T13:36:29.839Z"
   },
   {
    "duration": 24,
    "start_time": "2023-06-19T13:36:29.887Z"
   },
   {
    "duration": 28,
    "start_time": "2023-06-19T13:36:29.912Z"
   },
   {
    "duration": 10,
    "start_time": "2023-06-19T13:36:29.941Z"
   },
   {
    "duration": 12,
    "start_time": "2023-06-19T13:36:29.952Z"
   },
   {
    "duration": 350,
    "start_time": "2023-06-19T13:36:29.968Z"
   },
   {
    "duration": 250,
    "start_time": "2023-06-19T13:36:30.321Z"
   },
   {
    "duration": 239,
    "start_time": "2023-06-19T13:36:30.574Z"
   },
   {
    "duration": 6,
    "start_time": "2023-06-19T13:36:30.815Z"
   },
   {
    "duration": 798,
    "start_time": "2023-06-19T13:36:30.823Z"
   },
   {
    "duration": 245,
    "start_time": "2023-06-19T13:36:31.623Z"
   },
   {
    "duration": 348,
    "start_time": "2023-06-19T13:36:31.870Z"
   },
   {
    "duration": 975,
    "start_time": "2023-06-19T13:36:32.220Z"
   },
   {
    "duration": 35,
    "start_time": "2023-06-19T13:36:33.199Z"
   },
   {
    "duration": 5,
    "start_time": "2023-06-19T13:36:33.237Z"
   },
   {
    "duration": 14,
    "start_time": "2023-06-19T13:36:33.245Z"
   },
   {
    "duration": 28,
    "start_time": "2023-06-19T13:36:33.261Z"
   },
   {
    "duration": 9,
    "start_time": "2023-06-19T13:36:33.291Z"
   },
   {
    "duration": 60989,
    "start_time": "2023-06-19T13:36:33.302Z"
   },
   {
    "duration": 64,
    "start_time": "2023-06-19T13:37:34.293Z"
   },
   {
    "duration": 0,
    "start_time": "2023-06-19T13:38:01.362Z"
   },
   {
    "duration": 0,
    "start_time": "2023-06-19T13:38:01.366Z"
   },
   {
    "duration": 0,
    "start_time": "2023-06-19T13:38:01.368Z"
   },
   {
    "duration": 11,
    "start_time": "2023-06-19T13:38:03.480Z"
   },
   {
    "duration": 14809,
    "start_time": "2023-06-19T13:38:03.973Z"
   },
   {
    "duration": 19227,
    "start_time": "2023-06-19T13:38:40.854Z"
   },
   {
    "duration": 16,
    "start_time": "2023-06-19T13:39:02.968Z"
   },
   {
    "duration": 17298,
    "start_time": "2023-06-19T13:39:04.076Z"
   },
   {
    "duration": 2038,
    "start_time": "2023-06-19T13:39:47.304Z"
   },
   {
    "duration": 246,
    "start_time": "2023-06-19T13:39:49.344Z"
   },
   {
    "duration": 0,
    "start_time": "2023-06-19T13:39:49.594Z"
   },
   {
    "duration": 0,
    "start_time": "2023-06-19T13:39:49.597Z"
   },
   {
    "duration": 0,
    "start_time": "2023-06-19T13:39:49.598Z"
   },
   {
    "duration": 0,
    "start_time": "2023-06-19T13:39:49.657Z"
   },
   {
    "duration": 0,
    "start_time": "2023-06-19T13:39:49.659Z"
   },
   {
    "duration": 0,
    "start_time": "2023-06-19T13:39:49.660Z"
   },
   {
    "duration": 0,
    "start_time": "2023-06-19T13:39:49.661Z"
   },
   {
    "duration": 0,
    "start_time": "2023-06-19T13:39:49.663Z"
   },
   {
    "duration": 0,
    "start_time": "2023-06-19T13:39:49.665Z"
   },
   {
    "duration": 0,
    "start_time": "2023-06-19T13:39:49.666Z"
   },
   {
    "duration": 0,
    "start_time": "2023-06-19T13:39:49.668Z"
   },
   {
    "duration": 0,
    "start_time": "2023-06-19T13:39:49.671Z"
   },
   {
    "duration": 0,
    "start_time": "2023-06-19T13:39:49.673Z"
   },
   {
    "duration": 0,
    "start_time": "2023-06-19T13:39:49.675Z"
   },
   {
    "duration": 0,
    "start_time": "2023-06-19T13:39:49.677Z"
   },
   {
    "duration": 0,
    "start_time": "2023-06-19T13:39:49.679Z"
   },
   {
    "duration": 0,
    "start_time": "2023-06-19T13:39:49.681Z"
   },
   {
    "duration": 0,
    "start_time": "2023-06-19T13:39:49.682Z"
   },
   {
    "duration": 0,
    "start_time": "2023-06-19T13:39:49.684Z"
   },
   {
    "duration": 0,
    "start_time": "2023-06-19T13:39:49.686Z"
   },
   {
    "duration": 0,
    "start_time": "2023-06-19T13:39:49.687Z"
   },
   {
    "duration": 0,
    "start_time": "2023-06-19T13:39:49.689Z"
   },
   {
    "duration": 0,
    "start_time": "2023-06-19T13:39:49.757Z"
   },
   {
    "duration": 0,
    "start_time": "2023-06-19T13:39:49.759Z"
   },
   {
    "duration": 0,
    "start_time": "2023-06-19T13:39:49.761Z"
   },
   {
    "duration": 0,
    "start_time": "2023-06-19T13:39:49.764Z"
   },
   {
    "duration": 0,
    "start_time": "2023-06-19T13:39:49.765Z"
   },
   {
    "duration": 5419,
    "start_time": "2023-06-19T13:39:54.202Z"
   },
   {
    "duration": 7575,
    "start_time": "2023-06-19T13:39:59.624Z"
   },
   {
    "duration": 40,
    "start_time": "2023-06-19T13:40:07.201Z"
   },
   {
    "duration": 4,
    "start_time": "2023-06-19T13:40:07.243Z"
   },
   {
    "duration": 8,
    "start_time": "2023-06-19T13:40:07.248Z"
   },
   {
    "duration": 28,
    "start_time": "2023-06-19T13:40:07.259Z"
   },
   {
    "duration": 3,
    "start_time": "2023-06-19T13:40:07.289Z"
   },
   {
    "duration": 13,
    "start_time": "2023-06-19T13:40:07.293Z"
   },
   {
    "duration": 15,
    "start_time": "2023-06-19T13:40:07.307Z"
   },
   {
    "duration": 7,
    "start_time": "2023-06-19T13:40:07.325Z"
   },
   {
    "duration": 27,
    "start_time": "2023-06-19T13:40:07.334Z"
   },
   {
    "duration": 14,
    "start_time": "2023-06-19T13:40:07.363Z"
   },
   {
    "duration": 13,
    "start_time": "2023-06-19T13:40:07.379Z"
   },
   {
    "duration": 388,
    "start_time": "2023-06-19T13:40:07.394Z"
   },
   {
    "duration": 197,
    "start_time": "2023-06-19T13:40:07.784Z"
   },
   {
    "duration": 218,
    "start_time": "2023-06-19T13:40:07.983Z"
   },
   {
    "duration": 6,
    "start_time": "2023-06-19T13:40:08.203Z"
   },
   {
    "duration": 538,
    "start_time": "2023-06-19T13:40:08.211Z"
   },
   {
    "duration": 194,
    "start_time": "2023-06-19T13:40:08.751Z"
   },
   {
    "duration": 185,
    "start_time": "2023-06-19T13:40:08.946Z"
   },
   {
    "duration": 750,
    "start_time": "2023-06-19T13:40:09.132Z"
   },
   {
    "duration": 140,
    "start_time": "2023-06-19T13:40:09.892Z"
   },
   {
    "duration": 916,
    "start_time": "2023-06-19T13:40:10.034Z"
   },
   {
    "duration": 8,
    "start_time": "2023-06-19T13:40:10.952Z"
   },
   {
    "duration": 10,
    "start_time": "2023-06-19T13:40:10.962Z"
   },
   {
    "duration": 8,
    "start_time": "2023-06-19T13:40:10.974Z"
   },
   {
    "duration": 46184,
    "start_time": "2023-06-19T13:40:10.984Z"
   },
   {
    "duration": 14,
    "start_time": "2023-06-19T13:40:57.172Z"
   },
   {
    "duration": 130538,
    "start_time": "2023-06-19T13:40:57.187Z"
   },
   {
    "duration": 0,
    "start_time": "2023-06-19T13:43:07.727Z"
   },
   {
    "duration": 14080,
    "start_time": "2023-06-19T13:43:38.602Z"
   },
   {
    "duration": 17,
    "start_time": "2023-06-19T13:44:19.651Z"
   },
   {
    "duration": 19493,
    "start_time": "2023-06-19T13:44:27.387Z"
   },
   {
    "duration": 8,
    "start_time": "2023-06-19T13:47:18.273Z"
   },
   {
    "duration": 6,
    "start_time": "2023-06-19T13:47:18.742Z"
   },
   {
    "duration": 10,
    "start_time": "2023-06-19T13:47:19.394Z"
   },
   {
    "duration": 6,
    "start_time": "2023-06-19T13:47:23.771Z"
   },
   {
    "duration": 4,
    "start_time": "2023-06-19T13:47:24.013Z"
   },
   {
    "duration": 4,
    "start_time": "2023-06-19T13:47:24.164Z"
   },
   {
    "duration": 6,
    "start_time": "2023-06-19T13:47:24.844Z"
   },
   {
    "duration": 6,
    "start_time": "2023-06-19T13:47:25.274Z"
   },
   {
    "duration": 22,
    "start_time": "2023-06-19T13:47:25.763Z"
   },
   {
    "duration": 6,
    "start_time": "2023-06-19T13:47:38.399Z"
   },
   {
    "duration": 3,
    "start_time": "2023-06-19T13:47:38.651Z"
   },
   {
    "duration": 4,
    "start_time": "2023-06-19T13:47:38.819Z"
   },
   {
    "duration": 6,
    "start_time": "2023-06-19T13:47:39.547Z"
   },
   {
    "duration": 7,
    "start_time": "2023-06-19T13:47:40.155Z"
   },
   {
    "duration": 5,
    "start_time": "2023-06-19T13:47:40.616Z"
   },
   {
    "duration": 6,
    "start_time": "2023-06-19T13:47:47.475Z"
   },
   {
    "duration": 7,
    "start_time": "2023-06-19T13:47:50.326Z"
   },
   {
    "duration": 4,
    "start_time": "2023-06-19T13:49:30.347Z"
   },
   {
    "duration": 4,
    "start_time": "2023-06-19T13:49:30.511Z"
   },
   {
    "duration": 4,
    "start_time": "2023-06-19T13:49:30.719Z"
   },
   {
    "duration": 5,
    "start_time": "2023-06-19T13:50:05.455Z"
   },
   {
    "duration": 4,
    "start_time": "2023-06-19T13:50:13.830Z"
   },
   {
    "duration": 5,
    "start_time": "2023-06-19T13:50:15.743Z"
   },
   {
    "duration": 6,
    "start_time": "2023-06-19T13:50:16.145Z"
   },
   {
    "duration": 21,
    "start_time": "2023-06-19T13:50:16.338Z"
   },
   {
    "duration": 4,
    "start_time": "2023-06-19T13:50:37.890Z"
   },
   {
    "duration": 20,
    "start_time": "2023-06-19T13:50:45.253Z"
   },
   {
    "duration": 8,
    "start_time": "2023-06-19T13:51:00.543Z"
   },
   {
    "duration": 10,
    "start_time": "2023-06-19T13:51:09.277Z"
   },
   {
    "duration": 12,
    "start_time": "2023-06-19T13:51:22.482Z"
   },
   {
    "duration": 2611,
    "start_time": "2023-06-19T13:51:25.663Z"
   },
   {
    "duration": 45493,
    "start_time": "2023-06-19T13:51:30.696Z"
   },
   {
    "duration": 59952,
    "start_time": "2023-06-19T13:52:39.020Z"
   },
   {
    "duration": 0,
    "start_time": "2023-06-19T13:53:38.975Z"
   },
   {
    "duration": 0,
    "start_time": "2023-06-19T13:53:38.976Z"
   },
   {
    "duration": 18,
    "start_time": "2023-06-19T13:53:40.210Z"
   },
   {
    "duration": 5,
    "start_time": "2023-06-19T13:53:53.024Z"
   },
   {
    "duration": 5755,
    "start_time": "2023-06-19T13:53:56.722Z"
   },
   {
    "duration": 11,
    "start_time": "2023-06-19T13:54:03.588Z"
   },
   {
    "duration": 19450,
    "start_time": "2023-06-19T13:54:03.937Z"
   },
   {
    "duration": 5627,
    "start_time": "2023-06-19T13:54:27.967Z"
   },
   {
    "duration": 7917,
    "start_time": "2023-06-19T13:54:33.596Z"
   },
   {
    "duration": 38,
    "start_time": "2023-06-19T13:54:41.515Z"
   },
   {
    "duration": 4,
    "start_time": "2023-06-19T13:54:41.555Z"
   },
   {
    "duration": 11,
    "start_time": "2023-06-19T13:54:41.561Z"
   },
   {
    "duration": 27,
    "start_time": "2023-06-19T13:54:41.574Z"
   },
   {
    "duration": 9,
    "start_time": "2023-06-19T13:54:41.603Z"
   },
   {
    "duration": 11,
    "start_time": "2023-06-19T13:54:41.614Z"
   },
   {
    "duration": 29,
    "start_time": "2023-06-19T13:54:41.627Z"
   },
   {
    "duration": 9,
    "start_time": "2023-06-19T13:54:41.660Z"
   },
   {
    "duration": 30,
    "start_time": "2023-06-19T13:54:41.671Z"
   },
   {
    "duration": 14,
    "start_time": "2023-06-19T13:54:41.704Z"
   },
   {
    "duration": 7,
    "start_time": "2023-06-19T13:54:41.720Z"
   },
   {
    "duration": 419,
    "start_time": "2023-06-19T13:54:41.728Z"
   },
   {
    "duration": 225,
    "start_time": "2023-06-19T13:54:42.149Z"
   },
   {
    "duration": 191,
    "start_time": "2023-06-19T13:54:42.375Z"
   },
   {
    "duration": 6,
    "start_time": "2023-06-19T13:54:42.568Z"
   },
   {
    "duration": 669,
    "start_time": "2023-06-19T13:54:42.576Z"
   },
   {
    "duration": 201,
    "start_time": "2023-06-19T13:54:43.247Z"
   },
   {
    "duration": 200,
    "start_time": "2023-06-19T13:54:43.450Z"
   },
   {
    "duration": 786,
    "start_time": "2023-06-19T13:54:43.656Z"
   },
   {
    "duration": 145,
    "start_time": "2023-06-19T13:54:44.443Z"
   },
   {
    "duration": 37,
    "start_time": "2023-06-19T13:54:44.590Z"
   },
   {
    "duration": 43,
    "start_time": "2023-06-19T13:54:44.629Z"
   },
   {
    "duration": 46,
    "start_time": "2023-06-19T13:54:44.675Z"
   },
   {
    "duration": 40,
    "start_time": "2023-06-19T13:54:44.722Z"
   },
   {
    "duration": 31,
    "start_time": "2023-06-19T13:54:44.765Z"
   },
   {
    "duration": 47760,
    "start_time": "2023-06-19T13:54:44.799Z"
   },
   {
    "duration": 14,
    "start_time": "2023-06-19T13:55:32.561Z"
   },
   {
    "duration": 111793,
    "start_time": "2023-06-19T13:55:32.577Z"
   },
   {
    "duration": 186,
    "start_time": "2023-06-19T13:57:24.372Z"
   },
   {
    "duration": 11833,
    "start_time": "2023-06-19T14:08:51.836Z"
   },
   {
    "duration": 3,
    "start_time": "2023-06-19T14:10:35.320Z"
   },
   {
    "duration": 3,
    "start_time": "2023-06-19T14:10:35.496Z"
   },
   {
    "duration": 4,
    "start_time": "2023-06-19T14:10:35.935Z"
   },
   {
    "duration": 9,
    "start_time": "2023-06-19T14:11:21.632Z"
   },
   {
    "duration": 4219,
    "start_time": "2023-06-19T14:11:21.844Z"
   },
   {
    "duration": 4,
    "start_time": "2023-06-19T14:11:29.950Z"
   },
   {
    "duration": 2951,
    "start_time": "2023-06-19T14:11:34.635Z"
   },
   {
    "duration": 5,
    "start_time": "2023-06-19T14:13:49.439Z"
   },
   {
    "duration": 13,
    "start_time": "2023-06-19T14:13:49.447Z"
   },
   {
    "duration": 5,
    "start_time": "2023-06-19T14:13:50.018Z"
   },
   {
    "duration": 6,
    "start_time": "2023-06-19T14:13:51.020Z"
   },
   {
    "duration": 5,
    "start_time": "2023-06-19T14:13:51.821Z"
   },
   {
    "duration": 7784,
    "start_time": "2023-06-19T14:13:52.096Z"
   },
   {
    "duration": 5373,
    "start_time": "2023-06-19T14:14:15.853Z"
   },
   {
    "duration": 7072,
    "start_time": "2023-06-19T14:14:21.229Z"
   },
   {
    "duration": 40,
    "start_time": "2023-06-19T14:14:28.303Z"
   },
   {
    "duration": 3,
    "start_time": "2023-06-19T14:14:28.345Z"
   },
   {
    "duration": 8,
    "start_time": "2023-06-19T14:14:28.349Z"
   },
   {
    "duration": 23,
    "start_time": "2023-06-19T14:14:28.360Z"
   },
   {
    "duration": 3,
    "start_time": "2023-06-19T14:14:28.385Z"
   },
   {
    "duration": 7,
    "start_time": "2023-06-19T14:14:28.389Z"
   },
   {
    "duration": 11,
    "start_time": "2023-06-19T14:14:28.398Z"
   },
   {
    "duration": 7,
    "start_time": "2023-06-19T14:14:28.412Z"
   },
   {
    "duration": 5,
    "start_time": "2023-06-19T14:14:28.421Z"
   },
   {
    "duration": 5,
    "start_time": "2023-06-19T14:14:28.458Z"
   },
   {
    "duration": 18,
    "start_time": "2023-06-19T14:14:28.465Z"
   },
   {
    "duration": 359,
    "start_time": "2023-06-19T14:14:28.485Z"
   },
   {
    "duration": 168,
    "start_time": "2023-06-19T14:14:28.847Z"
   },
   {
    "duration": 204,
    "start_time": "2023-06-19T14:14:29.017Z"
   },
   {
    "duration": 7,
    "start_time": "2023-06-19T14:14:29.223Z"
   },
   {
    "duration": 491,
    "start_time": "2023-06-19T14:14:29.232Z"
   },
   {
    "duration": 204,
    "start_time": "2023-06-19T14:14:29.725Z"
   },
   {
    "duration": 162,
    "start_time": "2023-06-19T14:14:29.931Z"
   },
   {
    "duration": 709,
    "start_time": "2023-06-19T14:14:30.094Z"
   },
   {
    "duration": 127,
    "start_time": "2023-06-19T14:14:30.805Z"
   },
   {
    "duration": 92,
    "start_time": "2023-06-19T14:14:30.934Z"
   },
   {
    "duration": 24,
    "start_time": "2023-06-19T14:14:31.028Z"
   },
   {
    "duration": 42,
    "start_time": "2023-06-19T14:14:31.054Z"
   },
   {
    "duration": 86,
    "start_time": "2023-06-19T14:14:31.098Z"
   },
   {
    "duration": 59,
    "start_time": "2023-06-19T14:14:31.185Z"
   },
   {
    "duration": 39329,
    "start_time": "2023-06-19T14:14:31.248Z"
   },
   {
    "duration": 87,
    "start_time": "2023-06-19T14:15:10.579Z"
   },
   {
    "duration": 19495,
    "start_time": "2023-06-19T14:15:10.668Z"
   },
   {
    "duration": 127,
    "start_time": "2023-06-19T14:15:30.165Z"
   },
   {
    "duration": 4310,
    "start_time": "2023-06-19T14:16:48.440Z"
   },
   {
    "duration": 4,
    "start_time": "2023-06-19T14:17:31.800Z"
   },
   {
    "duration": 3,
    "start_time": "2023-06-19T14:17:38.243Z"
   },
   {
    "duration": 4,
    "start_time": "2023-06-19T14:17:38.400Z"
   },
   {
    "duration": 6,
    "start_time": "2023-06-19T14:17:38.879Z"
   },
   {
    "duration": 6,
    "start_time": "2023-06-19T14:17:39.138Z"
   },
   {
    "duration": 40695,
    "start_time": "2023-06-19T14:17:39.278Z"
   },
   {
    "duration": 10,
    "start_time": "2023-06-19T14:18:19.976Z"
   },
   {
    "duration": 19182,
    "start_time": "2023-06-19T14:18:19.987Z"
   },
   {
    "duration": 6,
    "start_time": "2023-06-19T14:21:32.269Z"
   },
   {
    "duration": 6,
    "start_time": "2023-06-19T14:21:32.927Z"
   },
   {
    "duration": 10,
    "start_time": "2023-06-19T14:21:37.524Z"
   },
   {
    "duration": 4959,
    "start_time": "2023-06-19T14:21:38.020Z"
   },
   {
    "duration": 3,
    "start_time": "2023-06-19T14:21:56.571Z"
   },
   {
    "duration": 5,
    "start_time": "2023-06-19T14:21:57.581Z"
   },
   {
    "duration": 4162,
    "start_time": "2023-06-19T14:22:00.755Z"
   },
   {
    "duration": 10,
    "start_time": "2023-06-19T14:22:50.979Z"
   },
   {
    "duration": 3711,
    "start_time": "2023-06-19T14:22:58.247Z"
   },
   {
    "duration": 3060,
    "start_time": "2023-06-19T14:23:07.459Z"
   },
   {
    "duration": 19,
    "start_time": "2023-06-19T14:23:50.717Z"
   },
   {
    "duration": 3169,
    "start_time": "2023-06-19T14:24:03.715Z"
   },
   {
    "duration": 5819,
    "start_time": "2023-06-19T14:24:44.632Z"
   },
   {
    "duration": 8043,
    "start_time": "2023-06-19T14:24:50.453Z"
   },
   {
    "duration": 39,
    "start_time": "2023-06-19T14:24:58.498Z"
   },
   {
    "duration": 3,
    "start_time": "2023-06-19T14:24:58.540Z"
   },
   {
    "duration": 8,
    "start_time": "2023-06-19T14:24:58.545Z"
   },
   {
    "duration": 29,
    "start_time": "2023-06-19T14:24:58.555Z"
   },
   {
    "duration": 12,
    "start_time": "2023-06-19T14:24:58.586Z"
   },
   {
    "duration": 16,
    "start_time": "2023-06-19T14:24:58.599Z"
   },
   {
    "duration": 17,
    "start_time": "2023-06-19T14:24:58.617Z"
   },
   {
    "duration": 8,
    "start_time": "2023-06-19T14:24:58.637Z"
   },
   {
    "duration": 11,
    "start_time": "2023-06-19T14:24:58.647Z"
   },
   {
    "duration": 19,
    "start_time": "2023-06-19T14:24:58.660Z"
   },
   {
    "duration": 22,
    "start_time": "2023-06-19T14:24:58.681Z"
   },
   {
    "duration": 352,
    "start_time": "2023-06-19T14:24:58.705Z"
   },
   {
    "duration": 165,
    "start_time": "2023-06-19T14:24:59.059Z"
   },
   {
    "duration": 191,
    "start_time": "2023-06-19T14:24:59.225Z"
   },
   {
    "duration": 6,
    "start_time": "2023-06-19T14:24:59.418Z"
   },
   {
    "duration": 503,
    "start_time": "2023-06-19T14:24:59.426Z"
   },
   {
    "duration": 204,
    "start_time": "2023-06-19T14:24:59.931Z"
   },
   {
    "duration": 178,
    "start_time": "2023-06-19T14:25:00.137Z"
   },
   {
    "duration": 692,
    "start_time": "2023-06-19T14:25:00.317Z"
   },
   {
    "duration": 147,
    "start_time": "2023-06-19T14:25:01.011Z"
   },
   {
    "duration": 6,
    "start_time": "2023-06-19T14:25:01.160Z"
   },
   {
    "duration": 17,
    "start_time": "2023-06-19T14:25:01.167Z"
   },
   {
    "duration": 130,
    "start_time": "2023-06-19T14:25:01.186Z"
   },
   {
    "duration": 146,
    "start_time": "2023-06-19T14:25:01.318Z"
   },
   {
    "duration": 71,
    "start_time": "2023-06-19T14:25:01.466Z"
   },
   {
    "duration": 42133,
    "start_time": "2023-06-19T14:25:01.541Z"
   },
   {
    "duration": 81,
    "start_time": "2023-06-19T14:25:43.677Z"
   },
   {
    "duration": 22314,
    "start_time": "2023-06-19T14:25:43.760Z"
   },
   {
    "duration": 143,
    "start_time": "2023-06-19T14:26:06.075Z"
   },
   {
    "duration": 2991,
    "start_time": "2023-06-19T14:32:15.739Z"
   },
   {
    "duration": 31,
    "start_time": "2023-06-19T14:32:34.051Z"
   },
   {
    "duration": 8895,
    "start_time": "2023-06-19T14:33:15.076Z"
   },
   {
    "duration": 33472,
    "start_time": "2023-06-19T14:33:27.196Z"
   },
   {
    "duration": 13123,
    "start_time": "2023-06-19T14:35:30.754Z"
   },
   {
    "duration": 14676,
    "start_time": "2023-06-19T14:38:56.204Z"
   },
   {
    "duration": 16,
    "start_time": "2023-06-19T14:40:43.052Z"
   },
   {
    "duration": 13449,
    "start_time": "2023-06-19T14:40:48.234Z"
   },
   {
    "duration": 15,
    "start_time": "2023-06-19T14:41:59.292Z"
   },
   {
    "duration": 15,
    "start_time": "2023-06-19T14:42:02.233Z"
   },
   {
    "duration": 4174,
    "start_time": "2023-06-19T14:42:02.420Z"
   },
   {
    "duration": 4579,
    "start_time": "2023-06-19T14:42:29.657Z"
   },
   {
    "duration": 8214,
    "start_time": "2023-06-19T14:42:47.969Z"
   },
   {
    "duration": 12,
    "start_time": "2023-06-19T14:42:58.616Z"
   },
   {
    "duration": 2762,
    "start_time": "2023-06-19T14:42:59.295Z"
   },
   {
    "duration": 6,
    "start_time": "2023-06-19T14:43:09.613Z"
   },
   {
    "duration": 15103,
    "start_time": "2023-06-19T14:43:09.976Z"
   },
   {
    "duration": 19736,
    "start_time": "2023-06-19T14:44:39.233Z"
   },
   {
    "duration": 5445,
    "start_time": "2023-06-19T14:45:04.625Z"
   },
   {
    "duration": 7468,
    "start_time": "2023-06-19T14:45:10.073Z"
   },
   {
    "duration": 41,
    "start_time": "2023-06-19T14:45:17.543Z"
   },
   {
    "duration": 5,
    "start_time": "2023-06-19T14:45:17.586Z"
   },
   {
    "duration": 12,
    "start_time": "2023-06-19T14:45:17.594Z"
   },
   {
    "duration": 31,
    "start_time": "2023-06-19T14:45:17.607Z"
   },
   {
    "duration": 4,
    "start_time": "2023-06-19T14:45:17.640Z"
   },
   {
    "duration": 16,
    "start_time": "2023-06-19T14:45:17.646Z"
   },
   {
    "duration": 14,
    "start_time": "2023-06-19T14:45:17.664Z"
   },
   {
    "duration": 13,
    "start_time": "2023-06-19T14:45:17.679Z"
   },
   {
    "duration": 12,
    "start_time": "2023-06-19T14:45:17.694Z"
   },
   {
    "duration": 6,
    "start_time": "2023-06-19T14:45:17.708Z"
   },
   {
    "duration": 7,
    "start_time": "2023-06-19T14:45:17.716Z"
   },
   {
    "duration": 420,
    "start_time": "2023-06-19T14:45:17.725Z"
   },
   {
    "duration": 184,
    "start_time": "2023-06-19T14:45:18.147Z"
   },
   {
    "duration": 212,
    "start_time": "2023-06-19T14:45:18.333Z"
   },
   {
    "duration": 11,
    "start_time": "2023-06-19T14:45:18.547Z"
   },
   {
    "duration": 478,
    "start_time": "2023-06-19T14:45:18.559Z"
   },
   {
    "duration": 209,
    "start_time": "2023-06-19T14:45:19.038Z"
   },
   {
    "duration": 170,
    "start_time": "2023-06-19T14:45:19.249Z"
   },
   {
    "duration": 698,
    "start_time": "2023-06-19T14:45:19.421Z"
   },
   {
    "duration": 145,
    "start_time": "2023-06-19T14:45:20.121Z"
   },
   {
    "duration": 3,
    "start_time": "2023-06-19T14:45:20.268Z"
   },
   {
    "duration": 20,
    "start_time": "2023-06-19T14:45:20.273Z"
   },
   {
    "duration": 21,
    "start_time": "2023-06-19T14:45:20.295Z"
   },
   {
    "duration": 10,
    "start_time": "2023-06-19T14:45:20.318Z"
   },
   {
    "duration": 6,
    "start_time": "2023-06-19T14:45:20.330Z"
   },
   {
    "duration": 41228,
    "start_time": "2023-06-19T14:45:20.337Z"
   },
   {
    "duration": 11,
    "start_time": "2023-06-19T14:46:01.567Z"
   },
   {
    "duration": 194,
    "start_time": "2023-06-19T14:46:01.580Z"
   },
   {
    "duration": 0,
    "start_time": "2023-06-19T14:46:01.776Z"
   },
   {
    "duration": 6708,
    "start_time": "2023-06-19T14:46:39.718Z"
   },
   {
    "duration": 5424,
    "start_time": "2023-06-19T14:47:14.147Z"
   },
   {
    "duration": 11,
    "start_time": "2023-06-19T14:47:22.888Z"
   },
   {
    "duration": 4230,
    "start_time": "2023-06-19T14:47:23.082Z"
   },
   {
    "duration": 2979,
    "start_time": "2023-06-19T14:47:44.470Z"
   },
   {
    "duration": 11,
    "start_time": "2023-06-19T14:47:51.785Z"
   },
   {
    "duration": 2969,
    "start_time": "2023-06-19T14:47:52.240Z"
   },
   {
    "duration": 4683,
    "start_time": "2023-06-19T14:48:06.837Z"
   },
   {
    "duration": 12,
    "start_time": "2023-06-19T14:48:15.888Z"
   },
   {
    "duration": 14121,
    "start_time": "2023-06-19T14:48:16.086Z"
   },
   {
    "duration": 18487,
    "start_time": "2023-06-19T14:49:30.489Z"
   },
   {
    "duration": 5155,
    "start_time": "2023-06-19T14:50:13.220Z"
   },
   {
    "duration": 5036,
    "start_time": "2023-06-19T14:50:18.377Z"
   },
   {
    "duration": 38,
    "start_time": "2023-06-19T14:50:23.416Z"
   },
   {
    "duration": 5,
    "start_time": "2023-06-19T14:50:23.456Z"
   },
   {
    "duration": 18,
    "start_time": "2023-06-19T14:50:23.462Z"
   },
   {
    "duration": 28,
    "start_time": "2023-06-19T14:50:23.481Z"
   },
   {
    "duration": 3,
    "start_time": "2023-06-19T14:50:23.510Z"
   },
   {
    "duration": 21,
    "start_time": "2023-06-19T14:50:23.514Z"
   },
   {
    "duration": 13,
    "start_time": "2023-06-19T14:50:23.537Z"
   },
   {
    "duration": 22,
    "start_time": "2023-06-19T14:50:23.556Z"
   },
   {
    "duration": 5,
    "start_time": "2023-06-19T14:50:23.580Z"
   },
   {
    "duration": 11,
    "start_time": "2023-06-19T14:50:23.587Z"
   },
   {
    "duration": 8,
    "start_time": "2023-06-19T14:50:23.600Z"
   },
   {
    "duration": 293,
    "start_time": "2023-06-19T14:50:23.610Z"
   },
   {
    "duration": 215,
    "start_time": "2023-06-19T14:50:23.905Z"
   },
   {
    "duration": 202,
    "start_time": "2023-06-19T14:50:24.122Z"
   },
   {
    "duration": 5,
    "start_time": "2023-06-19T14:50:24.326Z"
   },
   {
    "duration": 495,
    "start_time": "2023-06-19T14:50:24.332Z"
   },
   {
    "duration": 202,
    "start_time": "2023-06-19T14:50:24.829Z"
   },
   {
    "duration": 171,
    "start_time": "2023-06-19T14:50:25.032Z"
   },
   {
    "duration": 722,
    "start_time": "2023-06-19T14:50:25.204Z"
   },
   {
    "duration": 30,
    "start_time": "2023-06-19T14:50:25.927Z"
   },
   {
    "duration": 4,
    "start_time": "2023-06-19T14:50:25.959Z"
   },
   {
    "duration": 19,
    "start_time": "2023-06-19T14:50:25.964Z"
   },
   {
    "duration": 25,
    "start_time": "2023-06-19T14:50:25.985Z"
   },
   {
    "duration": 13,
    "start_time": "2023-06-19T14:50:26.012Z"
   },
   {
    "duration": 18,
    "start_time": "2023-06-19T14:50:26.026Z"
   },
   {
    "duration": 39235,
    "start_time": "2023-06-19T14:50:26.047Z"
   },
   {
    "duration": 9,
    "start_time": "2023-06-19T14:51:05.358Z"
   },
   {
    "duration": 21720,
    "start_time": "2023-06-19T14:51:05.369Z"
   },
   {
    "duration": 15642,
    "start_time": "2023-06-19T14:51:39.437Z"
   },
   {
    "duration": 63650,
    "start_time": "2023-06-19T14:52:28.322Z"
   },
   {
    "duration": 39013,
    "start_time": "2023-06-19T14:53:51.344Z"
   },
   {
    "duration": 2490,
    "start_time": "2023-06-19T14:54:51.287Z"
   },
   {
    "duration": 175297,
    "start_time": "2023-06-19T14:54:58.360Z"
   },
   {
    "duration": 22865,
    "start_time": "2023-06-19T14:59:03.627Z"
   },
   {
    "duration": 13890,
    "start_time": "2023-06-19T14:59:32.502Z"
   },
   {
    "duration": 15955,
    "start_time": "2023-06-19T14:59:52.514Z"
   },
   {
    "duration": 22487,
    "start_time": "2023-06-19T15:00:55.679Z"
   },
   {
    "duration": 17089,
    "start_time": "2023-06-19T15:01:20.119Z"
   },
   {
    "duration": 17622,
    "start_time": "2023-06-19T15:01:44.373Z"
   },
   {
    "duration": 22463,
    "start_time": "2023-06-19T15:02:06.466Z"
   },
   {
    "duration": 10256,
    "start_time": "2023-06-19T15:03:20.719Z"
   },
   {
    "duration": 23104,
    "start_time": "2023-06-19T15:03:40.483Z"
   },
   {
    "duration": 7678,
    "start_time": "2023-06-19T15:04:11.364Z"
   },
   {
    "duration": 6269,
    "start_time": "2023-06-19T15:04:26.790Z"
   },
   {
    "duration": 18906,
    "start_time": "2023-06-19T15:04:36.324Z"
   },
   {
    "duration": 36,
    "start_time": "2023-06-19T15:04:57.968Z"
   },
   {
    "duration": 22288,
    "start_time": "2023-06-19T15:05:04.674Z"
   },
   {
    "duration": 36362,
    "start_time": "2023-06-19T15:06:38.713Z"
   },
   {
    "duration": 0,
    "start_time": "2023-06-19T15:07:15.076Z"
   },
   {
    "duration": 4,
    "start_time": "2023-06-19T15:08:26.408Z"
   },
   {
    "duration": 31447,
    "start_time": "2023-06-19T15:08:27.533Z"
   },
   {
    "duration": 4,
    "start_time": "2023-06-19T15:09:06.562Z"
   },
   {
    "duration": 24558,
    "start_time": "2023-06-19T15:09:06.906Z"
   },
   {
    "duration": 19,
    "start_time": "2023-06-19T15:11:53.089Z"
   },
   {
    "duration": 19808,
    "start_time": "2023-06-19T15:11:58.876Z"
   },
   {
    "duration": 4,
    "start_time": "2023-06-19T15:12:29.032Z"
   },
   {
    "duration": 64776,
    "start_time": "2023-06-19T15:12:31.001Z"
   },
   {
    "duration": 58340,
    "start_time": "2023-06-19T15:13:43.348Z"
   },
   {
    "duration": 2198,
    "start_time": "2023-06-19T15:14:48.481Z"
   },
   {
    "duration": 34031,
    "start_time": "2023-06-19T15:14:58.452Z"
   },
   {
    "duration": 4,
    "start_time": "2023-06-19T15:15:45.097Z"
   },
   {
    "duration": 19229,
    "start_time": "2023-06-19T15:15:47.348Z"
   },
   {
    "duration": 6300,
    "start_time": "2023-06-19T15:16:10.186Z"
   },
   {
    "duration": 16466,
    "start_time": "2023-06-19T15:16:21.611Z"
   },
   {
    "duration": 40223,
    "start_time": "2023-06-19T15:16:40.334Z"
   },
   {
    "duration": 6,
    "start_time": "2023-06-19T15:17:20.560Z"
   },
   {
    "duration": 135348,
    "start_time": "2023-06-19T15:17:20.825Z"
   },
   {
    "duration": 17,
    "start_time": "2023-06-19T15:21:00.588Z"
   },
   {
    "duration": 22,
    "start_time": "2023-06-19T15:21:46.722Z"
   },
   {
    "duration": 83,
    "start_time": "2023-06-19T15:21:59.945Z"
   },
   {
    "duration": 41,
    "start_time": "2023-06-19T15:22:16.197Z"
   },
   {
    "duration": 40689,
    "start_time": "2023-06-19T15:22:35.398Z"
   },
   {
    "duration": 7713,
    "start_time": "2023-06-19T15:23:59.576Z"
   },
   {
    "duration": 87,
    "start_time": "2023-06-19T15:24:10.334Z"
   },
   {
    "duration": 7,
    "start_time": "2023-06-19T15:24:14.418Z"
   },
   {
    "duration": 64337,
    "start_time": "2023-06-19T15:24:21.444Z"
   },
   {
    "duration": 32082,
    "start_time": "2023-06-19T15:25:30.298Z"
   },
   {
    "duration": 3651,
    "start_time": "2023-06-19T15:26:26.069Z"
   },
   {
    "duration": 3770,
    "start_time": "2023-06-19T15:27:15.297Z"
   },
   {
    "duration": 3692,
    "start_time": "2023-06-19T15:27:32.705Z"
   },
   {
    "duration": 3587,
    "start_time": "2023-06-19T15:27:39.905Z"
   },
   {
    "duration": 24119,
    "start_time": "2023-06-19T15:27:57.788Z"
   },
   {
    "duration": 6,
    "start_time": "2023-06-19T15:29:34.525Z"
   },
   {
    "duration": 26672,
    "start_time": "2023-06-19T15:29:34.685Z"
   },
   {
    "duration": 44928,
    "start_time": "2023-06-19T15:30:06.542Z"
   },
   {
    "duration": 3,
    "start_time": "2023-06-19T15:32:32.076Z"
   },
   {
    "duration": 4,
    "start_time": "2023-06-19T15:32:32.222Z"
   },
   {
    "duration": 6,
    "start_time": "2023-06-19T15:32:32.442Z"
   },
   {
    "duration": 6,
    "start_time": "2023-06-19T15:32:35.404Z"
   },
   {
    "duration": 6,
    "start_time": "2023-06-19T15:32:35.684Z"
   },
   {
    "duration": 42132,
    "start_time": "2023-06-19T15:32:35.832Z"
   },
   {
    "duration": 9276,
    "start_time": "2023-06-19T15:33:17.966Z"
   },
   {
    "duration": 22922,
    "start_time": "2023-06-19T15:33:33.370Z"
   },
   {
    "duration": 2711,
    "start_time": "2023-06-19T15:33:59.756Z"
   },
   {
    "duration": 33618,
    "start_time": "2023-06-19T15:34:04.653Z"
   },
   {
    "duration": 18,
    "start_time": "2023-06-19T15:34:47.629Z"
   },
   {
    "duration": 44528,
    "start_time": "2023-06-19T15:34:51.854Z"
   },
   {
    "duration": 0,
    "start_time": "2023-06-19T15:35:36.384Z"
   },
   {
    "duration": 23247,
    "start_time": "2023-06-19T15:35:56.314Z"
   },
   {
    "duration": 60548,
    "start_time": "2023-06-19T15:36:30.329Z"
   },
   {
    "duration": 24573,
    "start_time": "2023-06-19T15:38:11.320Z"
   },
   {
    "duration": 10,
    "start_time": "2023-06-19T15:40:30.619Z"
   },
   {
    "duration": 17,
    "start_time": "2023-06-19T15:40:34.927Z"
   },
   {
    "duration": 17,
    "start_time": "2023-06-19T15:40:40.612Z"
   },
   {
    "duration": 19,
    "start_time": "2023-06-19T15:40:46.688Z"
   },
   {
    "duration": 24673,
    "start_time": "2023-06-19T15:45:34.992Z"
   },
   {
    "duration": 4,
    "start_time": "2023-06-19T15:46:35.009Z"
   },
   {
    "duration": 34,
    "start_time": "2023-06-19T15:46:36.877Z"
   },
   {
    "duration": 4,
    "start_time": "2023-06-19T15:47:11.977Z"
   },
   {
    "duration": 29309,
    "start_time": "2023-06-19T15:47:13.886Z"
   },
   {
    "duration": 82839,
    "start_time": "2023-06-19T15:47:44.236Z"
   },
   {
    "duration": 5115,
    "start_time": "2023-06-19T15:51:03.882Z"
   },
   {
    "duration": 7607,
    "start_time": "2023-06-19T15:51:08.999Z"
   },
   {
    "duration": 42,
    "start_time": "2023-06-19T15:51:16.608Z"
   },
   {
    "duration": 5,
    "start_time": "2023-06-19T15:51:16.652Z"
   },
   {
    "duration": 16,
    "start_time": "2023-06-19T15:51:16.658Z"
   },
   {
    "duration": 30,
    "start_time": "2023-06-19T15:51:16.675Z"
   },
   {
    "duration": 3,
    "start_time": "2023-06-19T15:51:16.707Z"
   },
   {
    "duration": 9,
    "start_time": "2023-06-19T15:51:16.712Z"
   },
   {
    "duration": 34,
    "start_time": "2023-06-19T15:51:16.723Z"
   },
   {
    "duration": 19,
    "start_time": "2023-06-19T15:51:16.760Z"
   },
   {
    "duration": 6,
    "start_time": "2023-06-19T15:51:16.781Z"
   },
   {
    "duration": 18,
    "start_time": "2023-06-19T15:51:16.788Z"
   },
   {
    "duration": 16,
    "start_time": "2023-06-19T15:51:16.808Z"
   },
   {
    "duration": 372,
    "start_time": "2023-06-19T15:51:16.826Z"
   },
   {
    "duration": 187,
    "start_time": "2023-06-19T15:51:17.200Z"
   },
   {
    "duration": 215,
    "start_time": "2023-06-19T15:51:17.388Z"
   },
   {
    "duration": 7,
    "start_time": "2023-06-19T15:51:17.605Z"
   },
   {
    "duration": 487,
    "start_time": "2023-06-19T15:51:17.614Z"
   },
   {
    "duration": 171,
    "start_time": "2023-06-19T15:51:18.103Z"
   },
   {
    "duration": 164,
    "start_time": "2023-06-19T15:51:18.275Z"
   },
   {
    "duration": 704,
    "start_time": "2023-06-19T15:51:18.441Z"
   },
   {
    "duration": 137,
    "start_time": "2023-06-19T15:51:19.146Z"
   },
   {
    "duration": 4,
    "start_time": "2023-06-19T15:51:19.285Z"
   },
   {
    "duration": 17,
    "start_time": "2023-06-19T15:51:19.290Z"
   },
   {
    "duration": 85,
    "start_time": "2023-06-19T15:51:19.310Z"
   },
   {
    "duration": 0,
    "start_time": "2023-06-19T15:51:19.397Z"
   },
   {
    "duration": 1,
    "start_time": "2023-06-19T15:51:19.398Z"
   },
   {
    "duration": 0,
    "start_time": "2023-06-19T15:51:19.400Z"
   },
   {
    "duration": 0,
    "start_time": "2023-06-19T15:51:19.401Z"
   },
   {
    "duration": 0,
    "start_time": "2023-06-19T15:51:19.403Z"
   },
   {
    "duration": 0,
    "start_time": "2023-06-19T15:51:19.404Z"
   },
   {
    "duration": 0,
    "start_time": "2023-06-19T15:51:19.405Z"
   },
   {
    "duration": 3,
    "start_time": "2023-06-19T15:51:36.184Z"
   },
   {
    "duration": 4,
    "start_time": "2023-06-19T15:51:37.494Z"
   },
   {
    "duration": 7,
    "start_time": "2023-06-19T15:51:38.033Z"
   },
   {
    "duration": 5,
    "start_time": "2023-06-19T15:51:38.285Z"
   },
   {
    "duration": 94067,
    "start_time": "2023-06-19T15:51:38.402Z"
   },
   {
    "duration": 47779,
    "start_time": "2023-06-19T15:53:12.471Z"
   },
   {
    "duration": 64628,
    "start_time": "2023-06-19T15:54:00.251Z"
   },
   {
    "duration": 31509,
    "start_time": "2023-06-19T15:55:04.882Z"
   },
   {
    "duration": 112358,
    "start_time": "2023-06-19T15:55:53.423Z"
   },
   {
    "duration": 4,
    "start_time": "2023-06-19T15:57:53.984Z"
   },
   {
    "duration": 4,
    "start_time": "2023-06-19T15:58:04.254Z"
   },
   {
    "duration": 5,
    "start_time": "2023-06-19T15:58:04.507Z"
   },
   {
    "duration": 49869,
    "start_time": "2023-06-19T15:58:11.908Z"
   },
   {
    "duration": 48838,
    "start_time": "2023-06-19T15:59:21.788Z"
   },
   {
    "duration": 40544,
    "start_time": "2023-06-19T16:00:11.716Z"
   },
   {
    "duration": 39095,
    "start_time": "2023-06-19T16:04:54.475Z"
   },
   {
    "duration": 59,
    "start_time": "2023-06-19T16:05:36.731Z"
   },
   {
    "duration": 44,
    "start_time": "2023-06-19T16:05:49.083Z"
   },
   {
    "duration": 5679,
    "start_time": "2023-06-19T16:06:01.207Z"
   },
   {
    "duration": 7518,
    "start_time": "2023-06-19T16:06:06.888Z"
   },
   {
    "duration": 39,
    "start_time": "2023-06-19T16:06:14.409Z"
   },
   {
    "duration": 4,
    "start_time": "2023-06-19T16:06:14.449Z"
   },
   {
    "duration": 16,
    "start_time": "2023-06-19T16:06:14.455Z"
   },
   {
    "duration": 31,
    "start_time": "2023-06-19T16:06:14.473Z"
   },
   {
    "duration": 3,
    "start_time": "2023-06-19T16:06:14.507Z"
   },
   {
    "duration": 9,
    "start_time": "2023-06-19T16:06:14.512Z"
   },
   {
    "duration": 12,
    "start_time": "2023-06-19T16:06:14.522Z"
   },
   {
    "duration": 8,
    "start_time": "2023-06-19T16:06:14.536Z"
   },
   {
    "duration": 5,
    "start_time": "2023-06-19T16:06:14.558Z"
   },
   {
    "duration": 9,
    "start_time": "2023-06-19T16:06:14.565Z"
   },
   {
    "duration": 6,
    "start_time": "2023-06-19T16:06:14.575Z"
   },
   {
    "duration": 388,
    "start_time": "2023-06-19T16:06:14.584Z"
   },
   {
    "duration": 183,
    "start_time": "2023-06-19T16:06:14.974Z"
   },
   {
    "duration": 214,
    "start_time": "2023-06-19T16:06:15.158Z"
   },
   {
    "duration": 7,
    "start_time": "2023-06-19T16:06:15.375Z"
   },
   {
    "duration": 559,
    "start_time": "2023-06-19T16:06:15.384Z"
   },
   {
    "duration": 210,
    "start_time": "2023-06-19T16:06:15.945Z"
   },
   {
    "duration": 181,
    "start_time": "2023-06-19T16:06:16.156Z"
   },
   {
    "duration": 715,
    "start_time": "2023-06-19T16:06:16.339Z"
   },
   {
    "duration": 136,
    "start_time": "2023-06-19T16:06:17.057Z"
   },
   {
    "duration": 3,
    "start_time": "2023-06-19T16:06:17.195Z"
   },
   {
    "duration": 11,
    "start_time": "2023-06-19T16:06:17.200Z"
   },
   {
    "duration": 9,
    "start_time": "2023-06-19T16:06:17.213Z"
   },
   {
    "duration": 5,
    "start_time": "2023-06-19T16:06:17.223Z"
   },
   {
    "duration": 28,
    "start_time": "2023-06-19T16:06:17.230Z"
   },
   {
    "duration": 6,
    "start_time": "2023-06-19T16:06:17.260Z"
   },
   {
    "duration": 78771,
    "start_time": "2023-06-19T16:06:17.267Z"
   },
   {
    "duration": 0,
    "start_time": "2023-06-19T16:07:36.058Z"
   },
   {
    "duration": 0,
    "start_time": "2023-06-19T16:07:36.059Z"
   },
   {
    "duration": 0,
    "start_time": "2023-06-19T16:07:36.060Z"
   },
   {
    "duration": 14119,
    "start_time": "2023-06-19T16:07:41.461Z"
   },
   {
    "duration": 6,
    "start_time": "2023-06-19T16:07:56.721Z"
   },
   {
    "duration": 7036,
    "start_time": "2023-06-19T16:07:56.953Z"
   },
   {
    "duration": 6,
    "start_time": "2023-06-19T16:08:04.977Z"
   },
   {
    "duration": 7,
    "start_time": "2023-06-19T16:08:05.436Z"
   },
   {
    "duration": 112261,
    "start_time": "2023-06-19T16:08:06.020Z"
   },
   {
    "duration": 51398,
    "start_time": "2023-06-19T16:10:32.325Z"
   },
   {
    "duration": 56978,
    "start_time": "2023-06-19T16:12:27.381Z"
   },
   {
    "duration": 58,
    "start_time": "2023-06-19T16:13:57.878Z"
   },
   {
    "duration": 34058,
    "start_time": "2023-06-19T16:14:18.176Z"
   },
   {
    "duration": 1080,
    "start_time": "2023-06-19T16:14:52.236Z"
   },
   {
    "duration": 33566,
    "start_time": "2023-06-19T16:14:54.263Z"
   },
   {
    "duration": 35110,
    "start_time": "2023-06-19T16:15:37.274Z"
   },
   {
    "duration": 8856,
    "start_time": "2023-06-19T19:20:43.192Z"
   },
   {
    "duration": 8561,
    "start_time": "2023-06-19T19:20:52.049Z"
   },
   {
    "duration": 102,
    "start_time": "2023-06-19T19:21:00.611Z"
   },
   {
    "duration": 48,
    "start_time": "2023-06-19T19:21:00.715Z"
   },
   {
    "duration": 714,
    "start_time": "2023-06-19T19:21:00.766Z"
   },
   {
    "duration": 623,
    "start_time": "2023-06-19T19:21:01.481Z"
   },
   {
    "duration": 86,
    "start_time": "2023-06-19T19:21:02.106Z"
   },
   {
    "duration": 54,
    "start_time": "2023-06-19T19:21:02.193Z"
   },
   {
    "duration": 61,
    "start_time": "2023-06-19T19:21:02.249Z"
   },
   {
    "duration": 86,
    "start_time": "2023-06-19T19:21:02.311Z"
   },
   {
    "duration": 40,
    "start_time": "2023-06-19T19:21:02.399Z"
   },
   {
    "duration": 61,
    "start_time": "2023-06-19T19:21:02.440Z"
   },
   {
    "duration": 45,
    "start_time": "2023-06-19T19:21:02.503Z"
   },
   {
    "duration": 390,
    "start_time": "2023-06-19T19:21:02.551Z"
   },
   {
    "duration": 140,
    "start_time": "2023-06-19T19:21:02.943Z"
   },
   {
    "duration": 188,
    "start_time": "2023-06-19T19:21:03.085Z"
   },
   {
    "duration": 5,
    "start_time": "2023-06-19T19:21:03.274Z"
   },
   {
    "duration": 461,
    "start_time": "2023-06-19T19:21:03.280Z"
   },
   {
    "duration": 175,
    "start_time": "2023-06-19T19:21:03.742Z"
   },
   {
    "duration": 167,
    "start_time": "2023-06-19T19:21:03.918Z"
   },
   {
    "duration": 619,
    "start_time": "2023-06-19T19:21:04.087Z"
   },
   {
    "duration": 96,
    "start_time": "2023-06-19T19:21:04.708Z"
   },
   {
    "duration": 32,
    "start_time": "2023-06-19T19:21:04.805Z"
   },
   {
    "duration": 19,
    "start_time": "2023-06-19T19:21:04.841Z"
   },
   {
    "duration": 8,
    "start_time": "2023-06-19T19:21:04.861Z"
   },
   {
    "duration": 6,
    "start_time": "2023-06-19T19:21:04.871Z"
   },
   {
    "duration": 18,
    "start_time": "2023-06-19T19:21:04.878Z"
   },
   {
    "duration": 9,
    "start_time": "2023-06-19T19:21:04.897Z"
   },
   {
    "duration": 150741,
    "start_time": "2023-06-19T19:21:04.907Z"
   },
   {
    "duration": 34231,
    "start_time": "2023-06-19T19:23:35.650Z"
   },
   {
    "duration": 79357,
    "start_time": "2023-06-19T19:24:09.883Z"
   },
   {
    "duration": 23748,
    "start_time": "2023-06-19T19:25:29.244Z"
   },
   {
    "duration": 82391,
    "start_time": "2023-06-19T19:25:55.046Z"
   },
   {
    "duration": 82266,
    "start_time": "2023-06-19T19:34:57.491Z"
   },
   {
    "duration": 24583,
    "start_time": "2023-06-19T19:36:19.823Z"
   },
   {
    "duration": 78284,
    "start_time": "2023-06-19T19:38:03.846Z"
   },
   {
    "duration": 33584,
    "start_time": "2023-06-19T19:39:22.131Z"
   },
   {
    "duration": 5,
    "start_time": "2023-06-19T19:41:59.247Z"
   },
   {
    "duration": 6454,
    "start_time": "2023-06-19T19:42:20.608Z"
   },
   {
    "duration": 35609,
    "start_time": "2023-06-19T19:42:28.209Z"
   },
   {
    "duration": 8163,
    "start_time": "2023-06-19T19:44:36.579Z"
   },
   {
    "duration": 36,
    "start_time": "2023-06-19T19:44:56.543Z"
   },
   {
    "duration": 2,
    "start_time": "2023-06-19T19:45:14.795Z"
   },
   {
    "duration": 3,
    "start_time": "2023-06-19T19:45:21.994Z"
   },
   {
    "duration": 10051,
    "start_time": "2023-06-19T19:45:26.002Z"
   },
   {
    "duration": 88126,
    "start_time": "2023-06-19T19:45:37.099Z"
   },
   {
    "duration": 3,
    "start_time": "2023-06-19T19:47:20.953Z"
   },
   {
    "duration": 10546,
    "start_time": "2023-06-19T19:47:26.311Z"
   },
   {
    "duration": 91968,
    "start_time": "2023-06-19T19:47:37.769Z"
   },
   {
    "duration": 121,
    "start_time": "2023-06-19T20:00:35.183Z"
   },
   {
    "duration": 6,
    "start_time": "2023-06-19T20:00:35.504Z"
   },
   {
    "duration": 15,
    "start_time": "2023-06-19T20:00:40.197Z"
   },
   {
    "duration": 10,
    "start_time": "2023-06-19T20:00:55.966Z"
   },
   {
    "duration": 6,
    "start_time": "2023-06-19T20:00:57.247Z"
   },
   {
    "duration": 134957,
    "start_time": "2023-06-19T20:00:57.804Z"
   },
   {
    "duration": 3662,
    "start_time": "2023-06-19T20:03:14.091Z"
   },
   {
    "duration": 6,
    "start_time": "2023-06-19T20:03:19.755Z"
   },
   {
    "duration": 4,
    "start_time": "2023-06-19T20:03:20.161Z"
   },
   {
    "duration": 137194,
    "start_time": "2023-06-19T20:03:20.547Z"
   },
   {
    "duration": 2852,
    "start_time": "2023-06-19T20:05:49.009Z"
   },
   {
    "duration": 6,
    "start_time": "2023-06-19T20:05:54.296Z"
   },
   {
    "duration": 7,
    "start_time": "2023-06-19T20:05:54.746Z"
   },
   {
    "duration": 0,
    "start_time": "2023-06-19T20:07:53.051Z"
   },
   {
    "duration": 2459,
    "start_time": "2023-06-19T20:07:53.586Z"
   },
   {
    "duration": 7,
    "start_time": "2023-06-19T20:08:00.962Z"
   },
   {
    "duration": 39,
    "start_time": "2023-06-19T20:08:00.971Z"
   },
   {
    "duration": 0,
    "start_time": "2023-06-19T20:09:38.053Z"
   },
   {
    "duration": 6,
    "start_time": "2023-06-19T20:09:48.687Z"
   },
   {
    "duration": 13,
    "start_time": "2023-06-19T20:09:48.694Z"
   },
   {
    "duration": 69947,
    "start_time": "2023-06-19T20:09:48.709Z"
   },
   {
    "duration": 6,
    "start_time": "2023-06-19T20:11:07.479Z"
   },
   {
    "duration": 65,
    "start_time": "2023-06-19T20:11:07.486Z"
   },
   {
    "duration": 79303,
    "start_time": "2023-06-19T20:11:07.552Z"
   },
   {
    "duration": 6,
    "start_time": "2023-06-19T20:12:33.048Z"
   },
   {
    "duration": 25,
    "start_time": "2023-06-19T20:12:33.055Z"
   },
   {
    "duration": 87768,
    "start_time": "2023-06-19T20:12:33.081Z"
   },
   {
    "duration": 6,
    "start_time": "2023-06-19T20:14:26.443Z"
   },
   {
    "duration": 11,
    "start_time": "2023-06-19T20:14:26.451Z"
   },
   {
    "duration": 69988,
    "start_time": "2023-06-19T20:14:26.463Z"
   },
   {
    "duration": 10,
    "start_time": "2023-06-19T20:15:39.928Z"
   },
   {
    "duration": 35,
    "start_time": "2023-06-19T20:15:39.940Z"
   },
   {
    "duration": 67483,
    "start_time": "2023-06-19T20:15:39.977Z"
   },
   {
    "duration": 6,
    "start_time": "2023-06-19T20:16:54.377Z"
   },
   {
    "duration": 69,
    "start_time": "2023-06-19T20:16:54.384Z"
   },
   {
    "duration": 40196,
    "start_time": "2023-06-19T20:16:54.454Z"
   },
   {
    "duration": 6,
    "start_time": "2023-06-19T20:17:37.471Z"
   },
   {
    "duration": 17,
    "start_time": "2023-06-19T20:17:37.479Z"
   },
   {
    "duration": 75856,
    "start_time": "2023-06-19T20:17:37.497Z"
   },
   {
    "duration": 7,
    "start_time": "2023-06-19T20:21:06.204Z"
   },
   {
    "duration": 25,
    "start_time": "2023-06-19T20:21:06.719Z"
   },
   {
    "duration": 92742,
    "start_time": "2023-06-19T20:21:06.899Z"
   },
   {
    "duration": 7,
    "start_time": "2023-06-19T20:23:17.184Z"
   },
   {
    "duration": 24,
    "start_time": "2023-06-19T20:23:17.192Z"
   },
   {
    "duration": 87225,
    "start_time": "2023-06-19T20:23:17.217Z"
   },
   {
    "duration": 7,
    "start_time": "2023-06-19T20:24:53.169Z"
   },
   {
    "duration": 32,
    "start_time": "2023-06-19T20:24:53.178Z"
   },
   {
    "duration": 14133,
    "start_time": "2023-06-19T20:24:53.212Z"
   },
   {
    "duration": 7,
    "start_time": "2023-06-19T20:25:12.397Z"
   },
   {
    "duration": 36,
    "start_time": "2023-06-19T20:25:12.406Z"
   },
   {
    "duration": 7675,
    "start_time": "2023-06-20T06:08:06.772Z"
   },
   {
    "duration": 0,
    "start_time": "2023-06-20T06:08:14.450Z"
   },
   {
    "duration": 0,
    "start_time": "2023-06-20T06:08:14.451Z"
   },
   {
    "duration": 0,
    "start_time": "2023-06-20T06:08:14.452Z"
   },
   {
    "duration": 0,
    "start_time": "2023-06-20T06:08:14.453Z"
   },
   {
    "duration": 0,
    "start_time": "2023-06-20T06:08:14.454Z"
   },
   {
    "duration": 0,
    "start_time": "2023-06-20T06:08:14.454Z"
   },
   {
    "duration": 0,
    "start_time": "2023-06-20T06:08:14.455Z"
   },
   {
    "duration": 0,
    "start_time": "2023-06-20T06:08:14.456Z"
   },
   {
    "duration": 0,
    "start_time": "2023-06-20T06:08:14.474Z"
   },
   {
    "duration": 0,
    "start_time": "2023-06-20T06:08:14.475Z"
   },
   {
    "duration": 0,
    "start_time": "2023-06-20T06:08:14.477Z"
   },
   {
    "duration": 0,
    "start_time": "2023-06-20T06:08:14.478Z"
   },
   {
    "duration": 0,
    "start_time": "2023-06-20T06:08:14.479Z"
   },
   {
    "duration": 0,
    "start_time": "2023-06-20T06:08:14.480Z"
   },
   {
    "duration": 0,
    "start_time": "2023-06-20T06:08:14.481Z"
   },
   {
    "duration": 0,
    "start_time": "2023-06-20T06:08:14.482Z"
   },
   {
    "duration": 0,
    "start_time": "2023-06-20T06:08:14.483Z"
   },
   {
    "duration": 0,
    "start_time": "2023-06-20T06:08:14.484Z"
   },
   {
    "duration": 0,
    "start_time": "2023-06-20T06:08:14.485Z"
   },
   {
    "duration": 0,
    "start_time": "2023-06-20T06:08:14.486Z"
   },
   {
    "duration": 0,
    "start_time": "2023-06-20T06:08:14.487Z"
   },
   {
    "duration": 0,
    "start_time": "2023-06-20T06:08:14.489Z"
   },
   {
    "duration": 0,
    "start_time": "2023-06-20T06:08:14.490Z"
   },
   {
    "duration": 0,
    "start_time": "2023-06-20T06:08:14.491Z"
   },
   {
    "duration": 0,
    "start_time": "2023-06-20T06:08:14.493Z"
   },
   {
    "duration": 0,
    "start_time": "2023-06-20T06:08:14.495Z"
   },
   {
    "duration": 0,
    "start_time": "2023-06-20T06:08:14.496Z"
   },
   {
    "duration": 0,
    "start_time": "2023-06-20T06:08:14.497Z"
   },
   {
    "duration": 0,
    "start_time": "2023-06-20T06:08:14.499Z"
   },
   {
    "duration": 0,
    "start_time": "2023-06-20T06:08:14.500Z"
   },
   {
    "duration": 16543,
    "start_time": "2023-06-20T06:08:46.071Z"
   },
   {
    "duration": 85,
    "start_time": "2023-06-20T06:09:02.616Z"
   },
   {
    "duration": 4,
    "start_time": "2023-06-20T06:09:02.703Z"
   },
   {
    "duration": 26,
    "start_time": "2023-06-20T06:09:02.709Z"
   },
   {
    "duration": 40,
    "start_time": "2023-06-20T06:09:02.736Z"
   },
   {
    "duration": 3,
    "start_time": "2023-06-20T06:09:02.777Z"
   },
   {
    "duration": 16,
    "start_time": "2023-06-20T06:09:02.782Z"
   },
   {
    "duration": 23,
    "start_time": "2023-06-20T06:09:02.800Z"
   },
   {
    "duration": 40,
    "start_time": "2023-06-20T06:09:02.824Z"
   },
   {
    "duration": 29,
    "start_time": "2023-06-20T06:09:02.866Z"
   },
   {
    "duration": 25,
    "start_time": "2023-06-20T06:09:02.896Z"
   },
   {
    "duration": 44,
    "start_time": "2023-06-20T06:09:02.923Z"
   },
   {
    "duration": 362,
    "start_time": "2023-06-20T06:09:02.969Z"
   },
   {
    "duration": 157,
    "start_time": "2023-06-20T06:09:03.332Z"
   },
   {
    "duration": 183,
    "start_time": "2023-06-20T06:09:03.491Z"
   },
   {
    "duration": 7,
    "start_time": "2023-06-20T06:09:03.675Z"
   },
   {
    "duration": 467,
    "start_time": "2023-06-20T06:09:03.683Z"
   },
   {
    "duration": 177,
    "start_time": "2023-06-20T06:09:04.151Z"
   },
   {
    "duration": 157,
    "start_time": "2023-06-20T06:09:04.330Z"
   },
   {
    "duration": 658,
    "start_time": "2023-06-20T06:09:04.488Z"
   },
   {
    "duration": 201,
    "start_time": "2023-06-20T06:09:05.148Z"
   },
   {
    "duration": 4,
    "start_time": "2023-06-20T06:09:05.351Z"
   },
   {
    "duration": 13,
    "start_time": "2023-06-20T06:09:05.356Z"
   },
   {
    "duration": 23,
    "start_time": "2023-06-20T06:09:05.371Z"
   },
   {
    "duration": 24,
    "start_time": "2023-06-20T06:09:05.395Z"
   },
   {
    "duration": 66,
    "start_time": "2023-06-20T06:09:05.420Z"
   },
   {
    "duration": 5,
    "start_time": "2023-06-20T06:09:05.488Z"
   },
   {
    "duration": 51601,
    "start_time": "2023-06-20T06:09:05.496Z"
   },
   {
    "duration": 43718,
    "start_time": "2023-06-20T06:09:57.099Z"
   },
   {
    "duration": 32062,
    "start_time": "2023-06-20T06:10:40.818Z"
   },
   {
    "duration": 29649,
    "start_time": "2023-06-20T06:11:12.882Z"
   },
   {
    "duration": 30386,
    "start_time": "2023-06-20T06:15:52.356Z"
   },
   {
    "duration": 0,
    "start_time": "2023-06-20T06:16:22.745Z"
   },
   {
    "duration": 0,
    "start_time": "2023-06-20T06:16:22.746Z"
   },
   {
    "duration": 6,
    "start_time": "2023-06-20T06:19:45.044Z"
   },
   {
    "duration": 5,
    "start_time": "2023-06-20T06:19:48.401Z"
   },
   {
    "duration": 40759,
    "start_time": "2023-06-20T06:19:49.530Z"
   },
   {
    "duration": 21988,
    "start_time": "2023-06-20T06:20:47.042Z"
   },
   {
    "duration": 7,
    "start_time": "2023-06-20T06:21:13.688Z"
   },
   {
    "duration": 7,
    "start_time": "2023-06-20T06:21:13.698Z"
   },
   {
    "duration": 1983,
    "start_time": "2023-06-20T06:21:13.707Z"
   },
   {
    "duration": 14,
    "start_time": "2023-06-20T06:22:00.544Z"
   },
   {
    "duration": 23597,
    "start_time": "2023-06-20T06:22:06.140Z"
   },
   {
    "duration": 24623,
    "start_time": "2023-06-20T06:23:28.462Z"
   },
   {
    "duration": 84928,
    "start_time": "2023-06-20T06:24:02.757Z"
   },
   {
    "duration": 14,
    "start_time": "2023-06-20T06:34:03.400Z"
   },
   {
    "duration": 58,
    "start_time": "2023-06-20T06:34:06.309Z"
   },
   {
    "duration": 24666,
    "start_time": "2023-06-20T06:34:13.958Z"
   },
   {
    "duration": 36642,
    "start_time": "2023-06-20T06:34:43.308Z"
   },
   {
    "duration": 8391,
    "start_time": "2023-06-20T06:35:41.429Z"
   },
   {
    "duration": 36254,
    "start_time": "2023-06-20T06:35:50.873Z"
   },
   {
    "duration": 6,
    "start_time": "2023-06-20T06:36:49.475Z"
   },
   {
    "duration": 33,
    "start_time": "2023-06-20T06:36:49.482Z"
   },
   {
    "duration": 19,
    "start_time": "2023-06-20T06:36:49.516Z"
   },
   {
    "duration": 41351,
    "start_time": "2023-06-20T06:36:49.537Z"
   },
   {
    "duration": 23502,
    "start_time": "2023-06-20T06:37:30.891Z"
   },
   {
    "duration": 84692,
    "start_time": "2023-06-20T06:37:54.394Z"
   },
   {
    "duration": 36150,
    "start_time": "2023-06-20T06:39:19.088Z"
   },
   {
    "duration": 4,
    "start_time": "2023-06-20T06:49:14.634Z"
   },
   {
    "duration": 4,
    "start_time": "2023-06-20T06:49:14.855Z"
   },
   {
    "duration": 4,
    "start_time": "2023-06-20T06:49:15.064Z"
   },
   {
    "duration": 2160,
    "start_time": "2023-06-20T06:49:42.345Z"
   },
   {
    "duration": 41205,
    "start_time": "2023-06-20T06:49:53.796Z"
   },
   {
    "duration": 5,
    "start_time": "2023-06-20T06:50:55.491Z"
   },
   {
    "duration": 5,
    "start_time": "2023-06-20T06:50:58.479Z"
   },
   {
    "duration": 10,
    "start_time": "2023-06-20T06:51:04.710Z"
   },
   {
    "duration": 4,
    "start_time": "2023-06-20T06:51:07.015Z"
   },
   {
    "duration": 7,
    "start_time": "2023-06-20T06:51:14.844Z"
   },
   {
    "duration": 7,
    "start_time": "2023-06-20T06:51:31.575Z"
   },
   {
    "duration": 8,
    "start_time": "2023-06-20T06:51:36.031Z"
   },
   {
    "duration": 7,
    "start_time": "2023-06-20T06:51:39.331Z"
   },
   {
    "duration": 7,
    "start_time": "2023-06-20T06:51:42.433Z"
   },
   {
    "duration": 8,
    "start_time": "2023-06-20T06:51:47.995Z"
   },
   {
    "duration": 8,
    "start_time": "2023-06-20T06:51:52.880Z"
   },
   {
    "duration": 8,
    "start_time": "2023-06-20T06:51:55.975Z"
   },
   {
    "duration": 13,
    "start_time": "2023-06-20T06:52:06.317Z"
   },
   {
    "duration": 11,
    "start_time": "2023-06-20T06:52:09.839Z"
   },
   {
    "duration": 12,
    "start_time": "2023-06-20T06:52:11.255Z"
   },
   {
    "duration": 5,
    "start_time": "2023-06-20T06:52:14.442Z"
   },
   {
    "duration": 6,
    "start_time": "2023-06-20T06:52:22.518Z"
   },
   {
    "duration": 13,
    "start_time": "2023-06-20T06:52:48.617Z"
   },
   {
    "duration": 9,
    "start_time": "2023-06-20T06:52:52.300Z"
   },
   {
    "duration": 23,
    "start_time": "2023-06-20T06:53:15.502Z"
   },
   {
    "duration": 15,
    "start_time": "2023-06-20T06:53:21.336Z"
   },
   {
    "duration": 8,
    "start_time": "2023-06-20T06:53:25.106Z"
   },
   {
    "duration": 8,
    "start_time": "2023-06-20T06:53:28.488Z"
   },
   {
    "duration": 11,
    "start_time": "2023-06-20T06:53:40.081Z"
   },
   {
    "duration": 67,
    "start_time": "2023-06-20T06:53:43.402Z"
   },
   {
    "duration": 17,
    "start_time": "2023-06-20T06:53:49.303Z"
   },
   {
    "duration": 10,
    "start_time": "2023-06-20T06:53:52.160Z"
   },
   {
    "duration": 23,
    "start_time": "2023-06-20T06:55:06.818Z"
   },
   {
    "duration": 25,
    "start_time": "2023-06-20T06:55:25.462Z"
   },
   {
    "duration": 22,
    "start_time": "2023-06-20T06:55:38.928Z"
   },
   {
    "duration": 16,
    "start_time": "2023-06-20T06:56:08.951Z"
   },
   {
    "duration": 10,
    "start_time": "2023-06-20T06:56:13.755Z"
   },
   {
    "duration": 16,
    "start_time": "2023-06-20T06:56:25.410Z"
   },
   {
    "duration": 10,
    "start_time": "2023-06-20T06:56:28.946Z"
   },
   {
    "duration": 20,
    "start_time": "2023-06-20T06:58:25.893Z"
   },
   {
    "duration": 17,
    "start_time": "2023-06-20T06:58:29.065Z"
   },
   {
    "duration": 9,
    "start_time": "2023-06-20T06:58:31.800Z"
   },
   {
    "duration": 9,
    "start_time": "2023-06-20T06:58:34.903Z"
   },
   {
    "duration": 9,
    "start_time": "2023-06-20T06:58:37.478Z"
   },
   {
    "duration": 22,
    "start_time": "2023-06-20T06:58:39.889Z"
   },
   {
    "duration": 9,
    "start_time": "2023-06-20T06:58:41.288Z"
   },
   {
    "duration": 17,
    "start_time": "2023-06-20T06:58:44.765Z"
   },
   {
    "duration": 9,
    "start_time": "2023-06-20T06:58:49.296Z"
   },
   {
    "duration": 10,
    "start_time": "2023-06-20T06:58:55.133Z"
   },
   {
    "duration": 9,
    "start_time": "2023-06-20T06:59:04.249Z"
   },
   {
    "duration": 9,
    "start_time": "2023-06-20T06:59:08.809Z"
   },
   {
    "duration": 11,
    "start_time": "2023-06-20T06:59:15.596Z"
   },
   {
    "duration": 11,
    "start_time": "2023-06-20T06:59:24.991Z"
   },
   {
    "duration": 7,
    "start_time": "2023-06-20T06:59:29.803Z"
   },
   {
    "duration": 7,
    "start_time": "2023-06-20T06:59:32.698Z"
   },
   {
    "duration": 8,
    "start_time": "2023-06-20T06:59:36.293Z"
   },
   {
    "duration": 11,
    "start_time": "2023-06-20T06:59:43.141Z"
   },
   {
    "duration": 6,
    "start_time": "2023-06-20T06:59:45.243Z"
   },
   {
    "duration": 6,
    "start_time": "2023-06-20T06:59:59.213Z"
   },
   {
    "duration": 7,
    "start_time": "2023-06-20T07:00:02.820Z"
   },
   {
    "duration": 7,
    "start_time": "2023-06-20T07:00:08.209Z"
   },
   {
    "duration": 8,
    "start_time": "2023-06-20T07:00:13.389Z"
   },
   {
    "duration": 14,
    "start_time": "2023-06-20T07:00:33.778Z"
   },
   {
    "duration": 6,
    "start_time": "2023-06-20T07:00:44.020Z"
   },
   {
    "duration": 14,
    "start_time": "2023-06-20T07:00:50.547Z"
   },
   {
    "duration": 8,
    "start_time": "2023-06-20T07:00:54.102Z"
   },
   {
    "duration": 36,
    "start_time": "2023-06-20T07:01:34.818Z"
   },
   {
    "duration": 24,
    "start_time": "2023-06-20T07:02:04.090Z"
   },
   {
    "duration": 19,
    "start_time": "2023-06-20T07:02:11.323Z"
   },
   {
    "duration": 20,
    "start_time": "2023-06-20T07:02:16.029Z"
   },
   {
    "duration": 120,
    "start_time": "2023-06-20T07:02:31.962Z"
   },
   {
    "duration": 117,
    "start_time": "2023-06-20T07:02:41.068Z"
   },
   {
    "duration": 121,
    "start_time": "2023-06-20T07:03:01.057Z"
   },
   {
    "duration": 119,
    "start_time": "2023-06-20T07:03:37.534Z"
   },
   {
    "duration": 99,
    "start_time": "2023-06-20T07:03:52.542Z"
   },
   {
    "duration": 104,
    "start_time": "2023-06-20T07:04:07.735Z"
   },
   {
    "duration": 111,
    "start_time": "2023-06-20T07:04:20.620Z"
   },
   {
    "duration": 119,
    "start_time": "2023-06-20T07:04:27.929Z"
   },
   {
    "duration": 3,
    "start_time": "2023-06-20T07:05:57.714Z"
   },
   {
    "duration": 113,
    "start_time": "2023-06-20T07:06:07.973Z"
   },
   {
    "duration": 3,
    "start_time": "2023-06-20T07:06:25.984Z"
   },
   {
    "duration": 115,
    "start_time": "2023-06-20T07:06:26.988Z"
   },
   {
    "duration": 112,
    "start_time": "2023-06-20T07:12:09.763Z"
   },
   {
    "duration": 125,
    "start_time": "2023-06-20T07:12:13.607Z"
   },
   {
    "duration": 125,
    "start_time": "2023-06-20T07:12:30.532Z"
   },
   {
    "duration": 97,
    "start_time": "2023-06-20T07:12:35.108Z"
   },
   {
    "duration": 137,
    "start_time": "2023-06-20T07:12:36.928Z"
   },
   {
    "duration": 4,
    "start_time": "2023-06-20T07:13:16.167Z"
   },
   {
    "duration": 131,
    "start_time": "2023-06-20T07:13:17.335Z"
   },
   {
    "duration": 4,
    "start_time": "2023-06-20T07:13:23.788Z"
   },
   {
    "duration": 241,
    "start_time": "2023-06-20T07:13:24.544Z"
   },
   {
    "duration": 5,
    "start_time": "2023-06-20T07:13:32.493Z"
   },
   {
    "duration": 127,
    "start_time": "2023-06-20T07:13:32.688Z"
   },
   {
    "duration": 4,
    "start_time": "2023-06-20T07:13:42.537Z"
   },
   {
    "duration": 137,
    "start_time": "2023-06-20T07:13:43.340Z"
   },
   {
    "duration": 137,
    "start_time": "2023-06-20T07:13:48.044Z"
   },
   {
    "duration": 127,
    "start_time": "2023-06-20T07:13:52.027Z"
   },
   {
    "duration": 5,
    "start_time": "2023-06-20T07:14:06.308Z"
   },
   {
    "duration": 133,
    "start_time": "2023-06-20T07:14:06.868Z"
   },
   {
    "duration": 127,
    "start_time": "2023-06-20T07:14:18.664Z"
   },
   {
    "duration": 6,
    "start_time": "2023-06-20T07:14:32.892Z"
   },
   {
    "duration": 137,
    "start_time": "2023-06-20T07:14:33.353Z"
   },
   {
    "duration": 5,
    "start_time": "2023-06-20T07:14:39.488Z"
   },
   {
    "duration": 129,
    "start_time": "2023-06-20T07:14:39.953Z"
   },
   {
    "duration": 6,
    "start_time": "2023-06-20T07:14:46.535Z"
   },
   {
    "duration": 147,
    "start_time": "2023-06-20T07:14:46.700Z"
   },
   {
    "duration": 4,
    "start_time": "2023-06-20T07:14:59.099Z"
   },
   {
    "duration": 149,
    "start_time": "2023-06-20T07:14:59.528Z"
   },
   {
    "duration": 6,
    "start_time": "2023-06-20T07:15:22.851Z"
   },
   {
    "duration": 143,
    "start_time": "2023-06-20T07:15:23.195Z"
   },
   {
    "duration": 5,
    "start_time": "2023-06-20T07:15:27.593Z"
   },
   {
    "duration": 139,
    "start_time": "2023-06-20T07:15:27.851Z"
   },
   {
    "duration": 4,
    "start_time": "2023-06-20T07:15:36.594Z"
   },
   {
    "duration": 150,
    "start_time": "2023-06-20T07:15:36.932Z"
   },
   {
    "duration": 4,
    "start_time": "2023-06-20T07:15:59.464Z"
   },
   {
    "duration": 146,
    "start_time": "2023-06-20T07:16:00.114Z"
   },
   {
    "duration": 5,
    "start_time": "2023-06-20T07:16:17.903Z"
   },
   {
    "duration": 145,
    "start_time": "2023-06-20T07:16:18.744Z"
   },
   {
    "duration": 9,
    "start_time": "2023-06-21T07:08:41.098Z"
   },
   {
    "duration": 13741,
    "start_time": "2023-06-21T07:18:20.273Z"
   },
   {
    "duration": 70,
    "start_time": "2023-06-21T07:18:34.016Z"
   },
   {
    "duration": 4,
    "start_time": "2023-06-21T07:18:34.087Z"
   },
   {
    "duration": 12,
    "start_time": "2023-06-21T07:18:34.093Z"
   },
   {
    "duration": 25,
    "start_time": "2023-06-21T07:18:34.106Z"
   },
   {
    "duration": 3,
    "start_time": "2023-06-21T07:18:34.132Z"
   },
   {
    "duration": 17,
    "start_time": "2023-06-21T07:18:34.136Z"
   },
   {
    "duration": 14,
    "start_time": "2023-06-21T07:18:34.155Z"
   },
   {
    "duration": 22,
    "start_time": "2023-06-21T07:18:34.171Z"
   },
   {
    "duration": 9,
    "start_time": "2023-06-21T07:18:34.197Z"
   },
   {
    "duration": 6,
    "start_time": "2023-06-21T07:18:34.208Z"
   },
   {
    "duration": 6,
    "start_time": "2023-06-21T07:18:34.216Z"
   },
   {
    "duration": 322,
    "start_time": "2023-06-21T07:18:34.223Z"
   },
   {
    "duration": 152,
    "start_time": "2023-06-21T07:18:34.554Z"
   },
   {
    "duration": 176,
    "start_time": "2023-06-21T07:18:34.708Z"
   },
   {
    "duration": 5,
    "start_time": "2023-06-21T07:18:34.886Z"
   },
   {
    "duration": 416,
    "start_time": "2023-06-21T07:18:34.892Z"
   },
   {
    "duration": 166,
    "start_time": "2023-06-21T07:18:35.310Z"
   },
   {
    "duration": 143,
    "start_time": "2023-06-21T07:18:35.477Z"
   },
   {
    "duration": 667,
    "start_time": "2023-06-21T07:18:35.621Z"
   },
   {
    "duration": 119,
    "start_time": "2023-06-21T07:18:36.290Z"
   },
   {
    "duration": 56,
    "start_time": "2023-06-21T07:18:36.411Z"
   },
   {
    "duration": 40,
    "start_time": "2023-06-21T07:18:36.469Z"
   },
   {
    "duration": 48,
    "start_time": "2023-06-21T07:18:36.511Z"
   },
   {
    "duration": 53,
    "start_time": "2023-06-21T07:18:36.560Z"
   },
   {
    "duration": 33,
    "start_time": "2023-06-21T07:18:36.615Z"
   },
   {
    "duration": 45,
    "start_time": "2023-06-21T07:18:36.650Z"
   },
   {
    "duration": 35,
    "start_time": "2023-06-21T07:18:36.698Z"
   },
   {
    "duration": 38639,
    "start_time": "2023-06-21T07:18:36.735Z"
   },
   {
    "duration": 233,
    "start_time": "2023-06-21T07:19:15.454Z"
   },
   {
    "duration": 33019,
    "start_time": "2023-06-21T07:19:15.689Z"
   },
   {
    "duration": 135,
    "start_time": "2023-06-21T07:19:48.710Z"
   },
   {
    "duration": 0,
    "start_time": "2023-06-21T07:19:48.846Z"
   },
   {
    "duration": 0,
    "start_time": "2023-06-21T07:19:48.848Z"
   },
   {
    "duration": 0,
    "start_time": "2023-06-21T07:19:48.848Z"
   },
   {
    "duration": 0,
    "start_time": "2023-06-21T07:19:48.854Z"
   },
   {
    "duration": 154,
    "start_time": "2023-06-21T07:19:59.142Z"
   },
   {
    "duration": 80231,
    "start_time": "2023-06-21T07:20:31.824Z"
   },
   {
    "duration": 149,
    "start_time": "2023-06-21T07:21:52.057Z"
   },
   {
    "duration": 33146,
    "start_time": "2023-06-21T07:21:52.208Z"
   },
   {
    "duration": 147,
    "start_time": "2023-06-21T07:22:25.356Z"
   },
   {
    "duration": 5,
    "start_time": "2023-06-21T07:32:59.300Z"
   },
   {
    "duration": 150,
    "start_time": "2023-06-21T07:33:03.510Z"
   },
   {
    "duration": 5,
    "start_time": "2023-06-21T07:33:24.394Z"
   },
   {
    "duration": 194,
    "start_time": "2023-06-21T07:33:26.451Z"
   },
   {
    "duration": 172,
    "start_time": "2023-06-21T07:33:38.312Z"
   },
   {
    "duration": 170,
    "start_time": "2023-06-21T07:33:43.766Z"
   },
   {
    "duration": 180,
    "start_time": "2023-06-21T07:33:46.474Z"
   },
   {
    "duration": 197,
    "start_time": "2023-06-21T08:12:20.970Z"
   },
   {
    "duration": 7,
    "start_time": "2023-06-21T08:18:09.325Z"
   },
   {
    "duration": 4,
    "start_time": "2023-06-21T08:18:12.349Z"
   },
   {
    "duration": 225,
    "start_time": "2023-06-21T08:30:01.744Z"
   },
   {
    "duration": 562,
    "start_time": "2023-06-21T08:30:21.998Z"
   },
   {
    "duration": 437,
    "start_time": "2023-06-21T08:30:49.973Z"
   },
   {
    "duration": 33402,
    "start_time": "2023-06-22T13:30:11.454Z"
   },
   {
    "duration": 186,
    "start_time": "2023-06-22T13:30:44.860Z"
   },
   {
    "duration": 6,
    "start_time": "2023-06-22T13:30:45.048Z"
   },
   {
    "duration": 90,
    "start_time": "2023-06-22T13:30:45.057Z"
   },
   {
    "duration": 58,
    "start_time": "2023-06-22T13:30:45.149Z"
   },
   {
    "duration": 4,
    "start_time": "2023-06-22T13:30:45.210Z"
   },
   {
    "duration": 73,
    "start_time": "2023-06-22T13:30:45.219Z"
   },
   {
    "duration": 49,
    "start_time": "2023-06-22T13:30:45.294Z"
   },
   {
    "duration": 10,
    "start_time": "2023-06-22T13:30:45.349Z"
   },
   {
    "duration": 48,
    "start_time": "2023-06-22T13:30:45.363Z"
   },
   {
    "duration": 55,
    "start_time": "2023-06-22T13:30:45.416Z"
   },
   {
    "duration": 35,
    "start_time": "2023-06-22T13:30:45.474Z"
   },
   {
    "duration": 687,
    "start_time": "2023-06-22T13:30:45.516Z"
   },
   {
    "duration": 289,
    "start_time": "2023-06-22T13:30:46.209Z"
   },
   {
    "duration": 250,
    "start_time": "2023-06-22T13:30:46.501Z"
   },
   {
    "duration": 30,
    "start_time": "2023-06-22T13:30:46.754Z"
   },
   {
    "duration": 701,
    "start_time": "2023-06-22T13:30:46.789Z"
   },
   {
    "duration": 254,
    "start_time": "2023-06-22T13:30:47.491Z"
   },
   {
    "duration": 253,
    "start_time": "2023-06-22T13:30:47.748Z"
   },
   {
    "duration": 987,
    "start_time": "2023-06-22T13:30:48.003Z"
   },
   {
    "duration": 360,
    "start_time": "2023-06-22T13:30:49.001Z"
   },
   {
    "duration": 23,
    "start_time": "2023-06-22T13:30:49.364Z"
   },
   {
    "duration": 16,
    "start_time": "2023-06-22T13:30:49.395Z"
   },
   {
    "duration": 23,
    "start_time": "2023-06-22T13:30:49.416Z"
   },
   {
    "duration": 48,
    "start_time": "2023-06-22T13:30:49.441Z"
   },
   {
    "duration": 64,
    "start_time": "2023-06-22T13:30:49.496Z"
   },
   {
    "duration": 18,
    "start_time": "2023-06-22T13:30:49.562Z"
   },
   {
    "duration": 103296,
    "start_time": "2023-06-22T13:30:49.585Z"
   },
   {
    "duration": 216,
    "start_time": "2023-06-22T13:32:32.905Z"
   },
   {
    "duration": 0,
    "start_time": "2023-06-22T13:32:33.123Z"
   },
   {
    "duration": 0,
    "start_time": "2023-06-22T13:32:33.124Z"
   },
   {
    "duration": 0,
    "start_time": "2023-06-22T13:32:33.142Z"
   },
   {
    "duration": 0,
    "start_time": "2023-06-22T13:32:33.143Z"
   },
   {
    "duration": 0,
    "start_time": "2023-06-22T13:32:33.144Z"
   },
   {
    "duration": 0,
    "start_time": "2023-06-22T13:32:33.144Z"
   },
   {
    "duration": 0,
    "start_time": "2023-06-22T13:32:33.145Z"
   },
   {
    "duration": 69829,
    "start_time": "2023-06-22T13:32:37.717Z"
   },
   {
    "duration": 0,
    "start_time": "2023-06-22T13:33:47.548Z"
   },
   {
    "duration": 9,
    "start_time": "2023-06-22T13:33:54.338Z"
   },
   {
    "duration": 44,
    "start_time": "2023-06-22T13:33:54.349Z"
   },
   {
    "duration": 26647,
    "start_time": "2023-06-22T13:33:54.398Z"
   },
   {
    "duration": 15,
    "start_time": "2023-06-22T13:34:25.214Z"
   },
   {
    "duration": 46,
    "start_time": "2023-06-22T13:34:25.232Z"
   },
   {
    "duration": 17048,
    "start_time": "2023-06-22T13:34:25.285Z"
   },
   {
    "duration": 10,
    "start_time": "2023-06-22T13:34:48.533Z"
   },
   {
    "duration": 41,
    "start_time": "2023-06-22T13:34:48.546Z"
   },
   {
    "duration": 96023,
    "start_time": "2023-06-22T13:34:48.589Z"
   },
   {
    "duration": 23,
    "start_time": "2023-06-22T13:36:44.127Z"
   },
   {
    "duration": 5,
    "start_time": "2023-06-22T13:36:53.352Z"
   },
   {
    "duration": 310,
    "start_time": "2023-06-22T13:36:55.542Z"
   },
   {
    "duration": 46523,
    "start_time": "2023-06-22T13:38:11.241Z"
   },
   {
    "duration": 282,
    "start_time": "2023-06-22T13:38:57.771Z"
   },
   {
    "duration": 705570,
    "start_time": "2023-06-22T13:45:11.007Z"
   },
   {
    "duration": 378,
    "start_time": "2023-06-22T13:56:56.582Z"
   },
   {
    "duration": 51098,
    "start_time": "2023-06-22T13:56:56.963Z"
   },
   {
    "duration": 364,
    "start_time": "2023-06-22T13:57:48.064Z"
   },
   {
    "duration": 613,
    "start_time": "2023-06-22T14:00:50.421Z"
   },
   {
    "duration": 774,
    "start_time": "2023-06-22T14:01:09.688Z"
   }
  ],
  "kernelspec": {
   "display_name": "Python 3",
   "language": "python",
   "name": "python3"
  },
  "language_info": {
   "codemirror_mode": {
    "name": "ipython",
    "version": 3
   },
   "file_extension": ".py",
   "mimetype": "text/x-python",
   "name": "python",
   "nbconvert_exporter": "python",
   "pygments_lexer": "ipython3",
   "version": "3.8.8"
  },
  "toc": {
   "base_numbering": 1,
   "nav_menu": {},
   "number_sections": false,
   "sideBar": true,
   "skip_h1_title": false,
   "title_cell": "Table of Contents",
   "title_sidebar": "Contents",
   "toc_cell": false,
   "toc_position": {},
   "toc_section_display": true,
   "toc_window_display": false
  },
  "varInspector": {
   "cols": {
    "lenName": 16,
    "lenType": 16,
    "lenVar": 40
   },
   "kernels_config": {
    "python": {
     "delete_cmd_postfix": "",
     "delete_cmd_prefix": "del ",
     "library": "var_list.py",
     "varRefreshCmd": "print(var_dic_list())"
    },
    "r": {
     "delete_cmd_postfix": ") ",
     "delete_cmd_prefix": "rm(",
     "library": "var_list.r",
     "varRefreshCmd": "cat(var_dic_list()) "
    }
   },
   "types_to_exclude": [
    "module",
    "function",
    "builtin_function_or_method",
    "instance",
    "_Feature"
   ],
   "window_display": false
  }
 },
 "nbformat": 4,
 "nbformat_minor": 5
}
